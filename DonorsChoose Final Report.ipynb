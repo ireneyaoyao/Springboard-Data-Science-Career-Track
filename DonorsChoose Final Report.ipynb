{
 "cells": [
  {
   "cell_type": "markdown",
   "metadata": {},
   "source": [
    "# Springboard Data Science Career Track Program\n",
    "\n",
    "## Capstone Project 1 - DonorsChoose Final Report\n",
    "\n",
    "#### Irene Yao\n",
    "#### November 26, 2018"
   ]
  },
  {
   "cell_type": "markdown",
   "metadata": {},
   "source": [
    "### <font color=#3090C7>Introduction</font>"
   ]
  },
  {
   "cell_type": "markdown",
   "metadata": {},
   "source": [
    "DonorsChoose.org is a non-profit education crowdfunding platform that allows individuals to donate directly to public school classroom projects. Since its inception in 2000, the organization has helped to fund more than 1,200,000 projects which reached out to more than 31,000,000 students. In this project, we will be diving into the datasets collected from DonorsChoose.org’s open data platform to explore an assortment of factors that may affect the project’s success rate. In addition, we will perform a donor clustering using a similarity measure to produce groupings of donors. With the analysis, we are hoping to help the organization to observe the shared features among different donors and projects and potentially find an approach to better match its projects with the most relevant donor groups."
   ]
  },
  {
   "cell_type": "markdown",
   "metadata": {},
   "source": [
    "### <font color=#3090C7>Description of Dataset</font>"
   ]
  },
  {
   "cell_type": "markdown",
   "metadata": {},
   "source": [
    "This analysis is based on open data from DonorsChoose.org’s open data platform. The datasets used include the Project data and the Donation data, which are downloaded separately and merged together using the _projectid column. The joined table contains more than 6 million entries (rows), each refers to an individual donation made toward a certain project. The _donationid is the unique key of each entry. "
   ]
  },
  {
   "cell_type": "markdown",
   "metadata": {},
   "source": [
    "### Data Wrangling"
   ]
  },
  {
   "cell_type": "markdown",
   "metadata": {},
   "source": [
    "1. *Feature Selection:* I started with features selected from the data and pruned the variables to only include the relevant columns.     \n",
    "  \n",
    "  \n",
    "2. *Memory Optimization:* After inspecting the data table by performing df.info(memory_usage='deep'), we noticed that the biggest problem with the dataset is that it consumes more than 12.9GB of memory. The data frame has 3 data types: float, integer and object. The object type data is the one that consumes the most memory. Since most of the object data are categorical data in our dataset, converting them to the type 'category' will save a lot of memory. However, we don't want to convert all the object columns to 'category' if they don't have a few unique values. As a result, we only want to convert columns where less than 50% of the values are unique. After the optimization, we observed that the memory usage decreased from 12.9GB to 2GB.\n",
    "\n",
    "\n",
    "3. *Filling in Missing Values:* There are some missing values in the school_city column. This is the location of the school raising funds for a project. To fill in the missing values, I map the city according to the corresponding school district. However, some of the school districts cover more than one city. Thus, we can't infer the corresponding city from the district name. By applying the above mapping, we were able to decrease the null value in the school_city column from more than 50,000 to 12,673.\n",
    "\n",
    "\n",
    "4. *Save the Optimized Data:* the optimized dataset after data wrangling was saved as a pickled file for easy extraction for future use. \n",
    "\n"
   ]
  },
  {
   "cell_type": "markdown",
   "metadata": {},
   "source": [
    "### Exploratory Data Analysis & Statistical Analysis"
   ]
  },
  {
   "cell_type": "markdown",
   "metadata": {},
   "source": [
    "The exploratory data analysis (EDA) provides insights from different perspectives including donations, projects, teachers, and how the user base grew over time. To make the analysis more relevant to the US market, we will only look at donations that happened in US."
   ]
  },
  {
   "cell_type": "code",
   "execution_count": 1,
   "metadata": {},
   "outputs": [],
   "source": [
    "import pandas as pd\n",
    "import numpy as np\n",
    "import matplotlib.pyplot as plt\n",
    "import seaborn as sns\n",
    "from scipy import stats\n",
    "from statsmodels.stats.multicomp import pairwise_tukeyhsd\n",
    "%matplotlib inline  \n",
    "pd.options.display.max_columns = None\n",
    "import warnings\n",
    "warnings.filterwarnings('ignore')"
   ]
  },
  {
   "cell_type": "code",
   "execution_count": 2,
   "metadata": {},
   "outputs": [],
   "source": [
    "df = pd.read_pickle('project_donation_optimized.pkl')"
   ]
  },
  {
   "cell_type": "code",
   "execution_count": 3,
   "metadata": {},
   "outputs": [],
   "source": [
    "## get US dataset by mapping the states\n",
    "xl = pd.ExcelFile('state_long_lat.xlsx')\n",
    "lon_lat_map = xl.parse('state_long_lat')\n",
    "us_states = lon_lat_map['State_Short']\n",
    "df_us = df[(df['donor_state'].notnull()) & (df['donor_state'].isin(us_states))]"
   ]
  },
  {
   "cell_type": "markdown",
   "metadata": {},
   "source": [
    "#### Donation Analysis"
   ]
  },
  {
   "cell_type": "markdown",
   "metadata": {},
   "source": [
    "##### Donors & Donations"
   ]
  },
  {
   "cell_type": "markdown",
   "metadata": {},
   "source": [
    "To start with, we will run some general numbers from the dataset including total number of donors and donations to see how many donors are actively using the website to make contributions. The data shows that as of October 2016, there are 1,786,756 registered donors on the platform, who have made a total contribution of $362,873,020."
   ]
  },
  {
   "cell_type": "code",
   "execution_count": 4,
   "metadata": {
    "scrolled": true
   },
   "outputs": [
    {
     "name": "stdout",
     "output_type": "stream",
     "text": [
      "As of October 2016, there are 1786756 registered donors on DonorsChoose, who have made a total contribution of 362873020.0 dollars.\n"
     ]
    }
   ],
   "source": [
    "## total number of donors\n",
    "donor_number = df_us['_donor_acctid'].nunique()\n",
    "total_donation = df_us['donation_total'].sum()\n",
    "print(\"As of October 2016, there are \" + \n",
    "      str(donor_number) + \n",
    "      \"\"\" registered donors on DonorsChoose, who have made a total contribution of \"\"\" + \n",
    "      str(total_donation) + \" dollars.\")"
   ]
  },
  {
   "cell_type": "markdown",
   "metadata": {},
   "source": [
    "Next, I would love to see among all the users, how many are multiple-time versus single-time donors. I will show a bar graph which depicts the count for each donation frequency. "
   ]
  },
  {
   "cell_type": "code",
   "execution_count": 5,
   "metadata": {
    "scrolled": true
   },
   "outputs": [
    {
     "data": {
      "text/html": [
       "<div>\n",
       "<style scoped>\n",
       "    .dataframe tbody tr th:only-of-type {\n",
       "        vertical-align: middle;\n",
       "    }\n",
       "\n",
       "    .dataframe tbody tr th {\n",
       "        vertical-align: top;\n",
       "    }\n",
       "\n",
       "    .dataframe thead th {\n",
       "        text-align: right;\n",
       "    }\n",
       "</style>\n",
       "<table border=\"1\" class=\"dataframe\">\n",
       "  <thead>\n",
       "    <tr style=\"text-align: right;\">\n",
       "      <th></th>\n",
       "      <th>donation_frequency</th>\n",
       "      <th>count</th>\n",
       "    </tr>\n",
       "  </thead>\n",
       "  <tbody>\n",
       "    <tr>\n",
       "      <th>0</th>\n",
       "      <td>1</td>\n",
       "      <td>1318268</td>\n",
       "    </tr>\n",
       "    <tr>\n",
       "      <th>1</th>\n",
       "      <td>2</td>\n",
       "      <td>250701</td>\n",
       "    </tr>\n",
       "    <tr>\n",
       "      <th>2</th>\n",
       "      <td>3</td>\n",
       "      <td>85637</td>\n",
       "    </tr>\n",
       "    <tr>\n",
       "      <th>3</th>\n",
       "      <td>4</td>\n",
       "      <td>40662</td>\n",
       "    </tr>\n",
       "    <tr>\n",
       "      <th>4</th>\n",
       "      <td>5</td>\n",
       "      <td>23093</td>\n",
       "    </tr>\n",
       "  </tbody>\n",
       "</table>\n",
       "</div>"
      ],
      "text/plain": [
       "   donation_frequency    count\n",
       "0                   1  1318268\n",
       "1                   2   250701\n",
       "2                   3    85637\n",
       "3                   4    40662\n",
       "4                   5    23093"
      ]
     },
     "execution_count": 5,
     "metadata": {},
     "output_type": "execute_result"
    }
   ],
   "source": [
    "donation_count = df_us.groupby('_donor_acctid').size().to_frame().reset_index()\n",
    "donation_count.columns = ['donor_id', 'donation_count']\n",
    "#donation_count.head()\n",
    "donation_freq = donation_count['donation_count'].value_counts(ascending=False).to_frame().reset_index()\n",
    "donation_freq.columns = ['donation_frequency', 'count']\n",
    "donation_freq.head()"
   ]
  },
  {
   "cell_type": "code",
   "execution_count": 6,
   "metadata": {},
   "outputs": [
    {
     "data": {
      "text/plain": [
       "<matplotlib.axes._subplots.AxesSubplot at 0x1cfd9cee1d0>"
      ]
     },
     "execution_count": 6,
     "metadata": {},
     "output_type": "execute_result"
    },
    {
     "data": {
      "image/png": "[encoded data removed]",
      "text/plain": [
       "<Figure size 432x288 with 1 Axes>"
      ]
     },
     "metadata": {
      "needs_background": "light"
     },
     "output_type": "display_data"
    }
   ],
   "source": [
    "sns.barplot(x='donation_frequency', y='count', data=donation_freq.head(10))"
   ]
  },
  {
   "cell_type": "markdown",
   "metadata": {},
   "source": [
    "Out of the 1,786,756 donors, majority (1,318,268) of them have only donated once, and only 26% are frequent donors."
   ]
  },
  {
   "cell_type": "markdown",
   "metadata": {},
   "source": [
    "##### Donation Distribution"
   ]
  },
  {
   "cell_type": "markdown",
   "metadata": {},
   "source": [
    "It is interesting to see how different states are using the service and where the donations are concentrated. This can be reflected in both the number of donations and total donation amount in each state."
   ]
  },
  {
   "cell_type": "code",
   "execution_count": 7,
   "metadata": {},
   "outputs": [],
   "source": [
    "donor_state_count = df_us.groupby(df_us['donor_state'].astype('object')).size().sort_values(ascending=False)\n",
    "max_donor_state = donor_state_count.head(10)\n",
    "min_donor_state = donor_state_count.tail(10)"
   ]
  },
  {
   "cell_type": "code",
   "execution_count": 8,
   "metadata": {},
   "outputs": [],
   "source": [
    "state_don_amt = df_us.groupby(df_us['donor_state'].astype('object'))['donation_total'].sum().sort_values(ascending=False)\n",
    "max_state_amt = state_don_amt.head(10)\n",
    "min_state_amt = state_don_amt.tail(10)"
   ]
  },
  {
   "cell_type": "code",
   "execution_count": 9,
   "metadata": {
    "scrolled": true
   },
   "outputs": [
    {
     "data": {
      "text/plain": [
       "Text(0, 0.5, 'Amount')"
      ]
     },
     "execution_count": 9,
     "metadata": {},
     "output_type": "execute_result"
    },
    {
     "data": {
      "image/png": "[encoded data removed]",
      "text/plain": [
       "<Figure size 936x288 with 2 Axes>"
      ]
     },
     "metadata": {
      "needs_background": "light"
     },
     "output_type": "display_data"
    }
   ],
   "source": [
    "### states with the most donation\n",
    "fig, (ax0, ax1) = plt.subplots(nrows=1, ncols=2, figsize=(13, 4))\n",
    "sns.set_style('white')\n",
    "sns.set_palette('muted')\n",
    "ax0.set_title('States with the most donation')\n",
    "ax1.set_title('States with the highest amount of donation')\n",
    "max_donor_state.plot.bar(ax=ax0)\n",
    "max_state_amt.plot.bar(ax=ax1)\n",
    "ax0.set_xlabel('State')\n",
    "ax0.set_ylabel('Count')\n",
    "ax1.set_xlabel('State')\n",
    "ax1.set_ylabel('Amount')"
   ]
  },
  {
   "cell_type": "code",
   "execution_count": 10,
   "metadata": {
    "scrolled": true
   },
   "outputs": [
    {
     "data": {
      "text/plain": [
       "Text(0, 0.5, 'Amount')"
      ]
     },
     "execution_count": 10,
     "metadata": {},
     "output_type": "execute_result"
    },
    {
     "data": {
      "image/png": "[encoded data removed]",
      "text/plain": [
       "<Figure size 936x288 with 2 Axes>"
      ]
     },
     "metadata": {},
     "output_type": "display_data"
    }
   ],
   "source": [
    "### states with the least donation\n",
    "fig, (ax0, ax1) = plt.subplots(nrows=1, ncols=2, figsize=(13, 4))\n",
    "sns.set_style('white')\n",
    "ax0.set_title('States with the least donation')\n",
    "ax1.set_title('States with the lowest amount of donation')\n",
    "min_donor_state.plot.bar(ax=ax0, color='steelblue')\n",
    "min_state_amt.plot.bar(ax=ax1, color='steelblue')\n",
    "ax0.set_xlabel('State')\n",
    "ax0.set_ylabel('Count')\n",
    "ax1.set_xlabel('State')\n",
    "ax1.set_ylabel('Amount')"
   ]
  },
  {
   "cell_type": "markdown",
   "metadata": {},
   "source": [
    "We can see from above that among all the states, California and New York rank as the top 2 states with respect to amount donated, and number of projects for which donations were sent. However, the top states are also the states with the largest population. I suspect that there is a positive correlation between number of donations and state population. I will add the population data obtained from the Census Bureau, which includes the population of each state as of 2016.\n",
    "Population data: https://www2.census.gov/programs-surveys/popest/datasets/2010-2017/state/asrh/"
   ]
  },
  {
   "cell_type": "code",
   "execution_count": 11,
   "metadata": {},
   "outputs": [],
   "source": [
    "## get US population data\n",
    "state_map = dict(zip(lon_lat_map['State'], lon_lat_map['State_Short']))\n",
    "pop_df = pd.read_csv('population_data.csv')\n",
    "pop_2016 = pop_df[['NAME', 'POPESTIMATE2016']]\n",
    "pop_2016 = pop_2016.loc[5:55]\n",
    "pop_2016 = pop_2016[pop_2016['NAME']!='District of Columbia']\n",
    "pop_2016.columns = ['State', '2016_Population']\n",
    "pop_2016['State_Short'] = pop_2016['State'].map(state_map)\n",
    "pop_map = dict(zip(pop_2016['State_Short'], pop_2016['2016_Population']))\n",
    "#pop_2016.head()"
   ]
  },
  {
   "cell_type": "code",
   "execution_count": 12,
   "metadata": {},
   "outputs": [
    {
     "data": {
      "text/plain": [
       "(0, 1320596.9799049615)"
      ]
     },
     "execution_count": 12,
     "metadata": {},
     "output_type": "execute_result"
    },
    {
     "data": {
      "image/png": "[encoded data removed]",
      "text/plain": [
       "<Figure size 432x432 with 3 Axes>"
      ]
     },
     "metadata": {},
     "output_type": "display_data"
    }
   ],
   "source": [
    "df_us['donor_state_population'] = df_us['donor_state'].map(pop_map)\n",
    "don_pop = df_us.groupby(['donor_state', 'donor_state_population'])['donor_state'].size()\n",
    "don_pop = don_pop.to_frame()\n",
    "don_pop.columns = ['donation_count']\n",
    "don_pop = don_pop.reset_index()\n",
    "\n",
    "g = sns.jointplot('donor_state_population', 'donation_count', data=don_pop, kind='reg')\n",
    "g.annotate(stats.pearsonr)\n",
    "plt.xlim(left=0)\n",
    "plt.ylim(bottom=0)"
   ]
  },
  {
   "cell_type": "markdown",
   "metadata": {},
   "source": [
    "The joint plot above demonstrates a strong positive correlation between the state population and the number of donations from the state with a pearson correlation r equals 0.85. The small p-value suggests the strong evidence that the correlation is statistically significant. Therefore, we can conclude that more donations are collected from states with a larger population.\n",
    "\n",
    "Since we know that the population is associated with the number of donations, it would be more intuitive to compare the per capita donation within the state instead of total number of donations. We would add a donation_ratio column and investigate if there's any difference between different states."
   ]
  },
  {
   "cell_type": "code",
   "execution_count": 13,
   "metadata": {},
   "outputs": [
    {
     "data": {
      "text/plain": [
       "<matplotlib.axes._subplots.AxesSubplot at 0x1cfff6a7eb8>"
      ]
     },
     "execution_count": 13,
     "metadata": {},
     "output_type": "execute_result"
    },
    {
     "data": {
      "image/png": "[encoded data removed]",
      "text/plain": [
       "<Figure size 864x288 with 1 Axes>"
      ]
     },
     "metadata": {},
     "output_type": "display_data"
    }
   ],
   "source": [
    "don_pop['donation_ratio'] = (don_pop['donation_count']/don_pop['donor_state_population'])\n",
    "don_state = don_pop[['donor_state', 'donation_ratio']].sort_values('donation_ratio', ascending=False)\n",
    "plt.figure(figsize=(12,4))\n",
    "sns.barplot(x='donor_state', y='donation_ratio', data=don_state, order=don_state['donor_state'])"
   ]
  },
  {
   "cell_type": "code",
   "execution_count": 14,
   "metadata": {},
   "outputs": [
    {
     "data": {
      "text/html": [
       "<div>\n",
       "<style scoped>\n",
       "    .dataframe tbody tr th:only-of-type {\n",
       "        vertical-align: middle;\n",
       "    }\n",
       "\n",
       "    .dataframe tbody tr th {\n",
       "        vertical-align: top;\n",
       "    }\n",
       "\n",
       "    .dataframe thead th {\n",
       "        text-align: right;\n",
       "    }\n",
       "</style>\n",
       "<table border=\"1\" class=\"dataframe\">\n",
       "  <thead>\n",
       "    <tr style=\"text-align: right;\">\n",
       "      <th></th>\n",
       "      <th>donor_state</th>\n",
       "      <th>donor_state_population</th>\n",
       "      <th>donation_count</th>\n",
       "      <th>donation_ratio</th>\n",
       "    </tr>\n",
       "  </thead>\n",
       "  <tbody>\n",
       "    <tr>\n",
       "      <th>4</th>\n",
       "      <td>CA</td>\n",
       "      <td>39296476.0</td>\n",
       "      <td>869925</td>\n",
       "      <td>0.022137</td>\n",
       "    </tr>\n",
       "    <tr>\n",
       "      <th>13</th>\n",
       "      <td>IL</td>\n",
       "      <td>12835726.0</td>\n",
       "      <td>339851</td>\n",
       "      <td>0.026477</td>\n",
       "    </tr>\n",
       "    <tr>\n",
       "      <th>33</th>\n",
       "      <td>NY</td>\n",
       "      <td>19836286.0</td>\n",
       "      <td>757193</td>\n",
       "      <td>0.038172</td>\n",
       "    </tr>\n",
       "  </tbody>\n",
       "</table>\n",
       "</div>"
      ],
      "text/plain": [
       "   donor_state  donor_state_population  donation_count  donation_ratio\n",
       "4           CA              39296476.0          869925        0.022137\n",
       "13          IL              12835726.0          339851        0.026477\n",
       "33          NY              19836286.0          757193        0.038172"
      ]
     },
     "execution_count": 14,
     "metadata": {},
     "output_type": "execute_result"
    }
   ],
   "source": [
    "don_pop[don_pop['donation_ratio']>=0.02]"
   ]
  },
  {
   "cell_type": "markdown",
   "metadata": {},
   "source": [
    "After calculating the donations on a per capita basis, we can still observe the difference among states. In fact, New York, Illinois, and California are still the top 3 states with the highest per capita donation."
   ]
  },
  {
   "cell_type": "markdown",
   "metadata": {},
   "source": [
    "### Project Analysis"
   ]
  },
  {
   "cell_type": "markdown",
   "metadata": {},
   "source": [
    "##### Count & Amount"
   ]
  },
  {
   "cell_type": "code",
   "execution_count": 15,
   "metadata": {},
   "outputs": [
    {
     "name": "stdout",
     "output_type": "stream",
     "text": [
      "924255\n",
      "2016-10-11 00:00:00\n"
     ]
    }
   ],
   "source": [
    "print(df_us['_projectid'].nunique())\n",
    "print(df_us['date_posted'].max())"
   ]
  },
  {
   "cell_type": "markdown",
   "metadata": {},
   "source": [
    "As of October 2016, there are in total 924,255 projects posted on the website. In order to see how the number of projects has grown over time, we will break the numbers down into different years. We also notice that for the projects posted on the platform, they can either be completed or expired without enough donation. We would also like to see the trends in fully-funded projects."
   ]
  },
  {
   "cell_type": "code",
   "execution_count": 16,
   "metadata": {
    "scrolled": false
   },
   "outputs": [],
   "source": [
    "df_us['project_year'] = df_us['date_posted'].dt.year\n",
    "df_us['complete_year'] = df_us['date_completed'].dt.year"
   ]
  },
  {
   "cell_type": "code",
   "execution_count": 17,
   "metadata": {},
   "outputs": [],
   "source": [
    "### projects posted over time\n",
    "project_over_time = df_us.groupby('project_year')['_projectid'].nunique()\n",
    "completed_projects = df_us[df_us['funding_status']=='completed']\n",
    "completed_over_time = completed_projects.groupby('complete_year')['_projectid'].nunique()"
   ]
  },
  {
   "cell_type": "code",
   "execution_count": 18,
   "metadata": {
    "scrolled": false
   },
   "outputs": [
    {
     "data": {
      "text/plain": [
       "Text(0, 0.5, 'Count')"
      ]
     },
     "execution_count": 18,
     "metadata": {},
     "output_type": "execute_result"
    },
    {
     "data": {
      "image/png": "[encoded data removed]",
      "text/plain": [
       "<Figure size 432x288 with 1 Axes>"
      ]
     },
     "metadata": {},
     "output_type": "display_data"
    }
   ],
   "source": [
    "sns.set_style('white')\n",
    "fig, ax = plt.subplots()\n",
    "project_over_time.plot.area(ax=ax, label='total projects', color='slategrey')\n",
    "completed_over_time.plot.area(ax=ax, label='completed projects',color='skyblue')\n",
    "ax.set_title('Number of total and completed projects')\n",
    "ax.legend()\n",
    "ax.set_xlabel('Year')\n",
    "ax.set_ylabel('Count')"
   ]
  },
  {
   "cell_type": "markdown",
   "metadata": {},
   "source": [
    "The project flow started to pick up in a fast pace starting around year 2006. A quick research on the company's Wikipedia page reveals that the organization has been given Charity Navigator's highest rating every year since 2005. This corresponds to the high growth path revealed in the chart."
   ]
  },
  {
   "cell_type": "markdown",
   "metadata": {},
   "source": [
    "Now we have an idea of the project volume, let's take a look at the donation amount associated with each project. We will identify the projects with the most donation count, highest donation amount, and the average donation of all the completed projects."
   ]
  },
  {
   "cell_type": "code",
   "execution_count": 19,
   "metadata": {},
   "outputs": [
    {
     "data": {
      "text/plain": [
       "457.025634765625"
      ]
     },
     "execution_count": 19,
     "metadata": {},
     "output_type": "execute_result"
    }
   ],
   "source": [
    "## project donation size\n",
    "total_donation_per_project = completed_projects.groupby('_projectid')['donation_total'].sum()\n",
    "total_donation_per_project = total_donation_per_project.sort_values(ascending=False)\n",
    "average_donation = total_donation_per_project.mean()\n",
    "average_donation"
   ]
  },
  {
   "cell_type": "code",
   "execution_count": 20,
   "metadata": {
    "scrolled": true
   },
   "outputs": [
    {
     "name": "stdout",
     "output_type": "stream",
     "text": [
      "highest donation amount: 186951.77\n",
      "max number of donation: 848\n"
     ]
    }
   ],
   "source": [
    "## max donation size\n",
    "print('highest donation amount: ' + str(total_donation_per_project.max()))\n",
    "print('max number of donation: ' + str(completed_projects['num_donors'].max()))"
   ]
  },
  {
   "cell_type": "code",
   "execution_count": 21,
   "metadata": {
    "scrolled": true
   },
   "outputs": [
    {
     "name": "stdout",
     "output_type": "stream",
     "text": [
      "_projectid\n",
      "bbbc6cccccd3c1bc8c44ec494bb6cf23    186951.765625\n",
      "Name: donation_total, dtype: float32\n"
     ]
    }
   ],
   "source": [
    "print(total_donation_per_project.sort_values(ascending=False).head(1))"
   ]
  },
  {
   "cell_type": "code",
   "execution_count": 22,
   "metadata": {},
   "outputs": [
    {
     "data": {
      "text/html": [
       "<div>\n",
       "<style scoped>\n",
       "    .dataframe tbody tr th:only-of-type {\n",
       "        vertical-align: middle;\n",
       "    }\n",
       "\n",
       "    .dataframe tbody tr th {\n",
       "        vertical-align: top;\n",
       "    }\n",
       "\n",
       "    .dataframe thead th {\n",
       "        text-align: right;\n",
       "    }\n",
       "</style>\n",
       "<table border=\"1\" class=\"dataframe\">\n",
       "  <thead>\n",
       "    <tr style=\"text-align: right;\">\n",
       "      <th></th>\n",
       "      <th>_donationid</th>\n",
       "      <th>_projectid</th>\n",
       "      <th>_donor_acctid</th>\n",
       "      <th>donor_city</th>\n",
       "      <th>donor_state</th>\n",
       "      <th>is_teacher_acct</th>\n",
       "      <th>donation_timestamp</th>\n",
       "      <th>donation_to_project</th>\n",
       "      <th>donation_optional_support</th>\n",
       "      <th>donation_total</th>\n",
       "      <th>payment_method</th>\n",
       "      <th>is_teacher_referred</th>\n",
       "      <th>thank_you_packet_mailed</th>\n",
       "      <th>_teacher_acctid</th>\n",
       "      <th>school_ncesid</th>\n",
       "      <th>school_latitude</th>\n",
       "      <th>school_longitude</th>\n",
       "      <th>school_city</th>\n",
       "      <th>school_state</th>\n",
       "      <th>school_zip</th>\n",
       "      <th>school_metro</th>\n",
       "      <th>school_district</th>\n",
       "      <th>school_county</th>\n",
       "      <th>teacher_prefix</th>\n",
       "      <th>primary_focus_subject</th>\n",
       "      <th>primary_focus_area</th>\n",
       "      <th>secondary_focus_subject</th>\n",
       "      <th>secondary_focus_area</th>\n",
       "      <th>resource_type</th>\n",
       "      <th>poverty_level</th>\n",
       "      <th>grade_level</th>\n",
       "      <th>total_price_excluding_optional_support</th>\n",
       "      <th>total_price_including_optional_support</th>\n",
       "      <th>students_reached</th>\n",
       "      <th>total_donations</th>\n",
       "      <th>num_donors</th>\n",
       "      <th>eligible_double_your_impact_match</th>\n",
       "      <th>eligible_almost_home_match</th>\n",
       "      <th>funding_status</th>\n",
       "      <th>date_posted</th>\n",
       "      <th>date_completed</th>\n",
       "      <th>date_thank_you_packet_mailed</th>\n",
       "      <th>date_expiration</th>\n",
       "      <th>donor_state_population</th>\n",
       "      <th>project_year</th>\n",
       "      <th>complete_year</th>\n",
       "    </tr>\n",
       "  </thead>\n",
       "  <tbody>\n",
       "    <tr>\n",
       "      <th>254134</th>\n",
       "      <td>01d72050cfc5714eb5f9bde7f2a1e2f0</td>\n",
       "      <td>bbbc6cccccd3c1bc8c44ec494bb6cf23</td>\n",
       "      <td>4242433cbedd23bf0f4f3ff22eb17ccc</td>\n",
       "      <td>NaN</td>\n",
       "      <td>OR</td>\n",
       "      <td>0</td>\n",
       "      <td>2015-12-03 14:04:45.633</td>\n",
       "      <td>425.00</td>\n",
       "      <td>75.00</td>\n",
       "      <td>500.0</td>\n",
       "      <td>paypal</td>\n",
       "      <td>0</td>\n",
       "      <td>f</td>\n",
       "      <td>ba835ad62be9d5f38b2e54a8edbf83fb</td>\n",
       "      <td>NaN</td>\n",
       "      <td>40.839062</td>\n",
       "      <td>-73.900124</td>\n",
       "      <td>New York City</td>\n",
       "      <td>NY</td>\n",
       "      <td>10457.0</td>\n",
       "      <td>urban</td>\n",
       "      <td>New York Dept Of Education</td>\n",
       "      <td>Bronx</td>\n",
       "      <td>Mr.</td>\n",
       "      <td>Gym &amp; Fitness</td>\n",
       "      <td>Health &amp; Sports</td>\n",
       "      <td>NaN</td>\n",
       "      <td>NaN</td>\n",
       "      <td>Supplies</td>\n",
       "      <td>highest poverty</td>\n",
       "      <td>Grades 3-5</td>\n",
       "      <td>217377.015625</td>\n",
       "      <td>255737.671875</td>\n",
       "      <td>999.0</td>\n",
       "      <td>249253.3125</td>\n",
       "      <td>313</td>\n",
       "      <td>t</td>\n",
       "      <td>f</td>\n",
       "      <td>completed</td>\n",
       "      <td>2015-08-28</td>\n",
       "      <td>2015-12-28</td>\n",
       "      <td>NaT</td>\n",
       "      <td>2016-01-29</td>\n",
       "      <td>4085989.0</td>\n",
       "      <td>2015</td>\n",
       "      <td>2015.0</td>\n",
       "    </tr>\n",
       "    <tr>\n",
       "      <th>254136</th>\n",
       "      <td>01dd0a7985b986793d9d6ae6204023b0</td>\n",
       "      <td>bbbc6cccccd3c1bc8c44ec494bb6cf23</td>\n",
       "      <td>0e210f62f3f0cb27598664a7f0116b09</td>\n",
       "      <td>NaN</td>\n",
       "      <td>NY</td>\n",
       "      <td>0</td>\n",
       "      <td>2015-12-01 23:38:29.281</td>\n",
       "      <td>21.25</td>\n",
       "      <td>3.75</td>\n",
       "      <td>25.0</td>\n",
       "      <td>creditcard</td>\n",
       "      <td>0</td>\n",
       "      <td>f</td>\n",
       "      <td>ba835ad62be9d5f38b2e54a8edbf83fb</td>\n",
       "      <td>NaN</td>\n",
       "      <td>40.839062</td>\n",
       "      <td>-73.900124</td>\n",
       "      <td>New York City</td>\n",
       "      <td>NY</td>\n",
       "      <td>10457.0</td>\n",
       "      <td>urban</td>\n",
       "      <td>New York Dept Of Education</td>\n",
       "      <td>Bronx</td>\n",
       "      <td>Mr.</td>\n",
       "      <td>Gym &amp; Fitness</td>\n",
       "      <td>Health &amp; Sports</td>\n",
       "      <td>NaN</td>\n",
       "      <td>NaN</td>\n",
       "      <td>Supplies</td>\n",
       "      <td>highest poverty</td>\n",
       "      <td>Grades 3-5</td>\n",
       "      <td>217377.015625</td>\n",
       "      <td>255737.671875</td>\n",
       "      <td>999.0</td>\n",
       "      <td>249253.3125</td>\n",
       "      <td>313</td>\n",
       "      <td>t</td>\n",
       "      <td>f</td>\n",
       "      <td>completed</td>\n",
       "      <td>2015-08-28</td>\n",
       "      <td>2015-12-28</td>\n",
       "      <td>NaT</td>\n",
       "      <td>2016-01-29</td>\n",
       "      <td>19836286.0</td>\n",
       "      <td>2015</td>\n",
       "      <td>2015.0</td>\n",
       "    </tr>\n",
       "  </tbody>\n",
       "</table>\n",
       "</div>"
      ],
      "text/plain": [
       "                             _donationid                        _projectid  \\\n",
       "254134  01d72050cfc5714eb5f9bde7f2a1e2f0  bbbc6cccccd3c1bc8c44ec494bb6cf23   \n",
       "254136  01dd0a7985b986793d9d6ae6204023b0  bbbc6cccccd3c1bc8c44ec494bb6cf23   \n",
       "\n",
       "                           _donor_acctid donor_city donor_state  \\\n",
       "254134  4242433cbedd23bf0f4f3ff22eb17ccc        NaN          OR   \n",
       "254136  0e210f62f3f0cb27598664a7f0116b09        NaN          NY   \n",
       "\n",
       "        is_teacher_acct      donation_timestamp  donation_to_project  \\\n",
       "254134                0 2015-12-03 14:04:45.633               425.00   \n",
       "254136                0 2015-12-01 23:38:29.281                21.25   \n",
       "\n",
       "        donation_optional_support  donation_total payment_method  \\\n",
       "254134                      75.00           500.0         paypal   \n",
       "254136                       3.75            25.0     creditcard   \n",
       "\n",
       "        is_teacher_referred thank_you_packet_mailed  \\\n",
       "254134                    0                       f   \n",
       "254136                    0                       f   \n",
       "\n",
       "                         _teacher_acctid  school_ncesid  school_latitude  \\\n",
       "254134  ba835ad62be9d5f38b2e54a8edbf83fb            NaN        40.839062   \n",
       "254136  ba835ad62be9d5f38b2e54a8edbf83fb            NaN        40.839062   \n",
       "\n",
       "        school_longitude    school_city school_state  school_zip school_metro  \\\n",
       "254134        -73.900124  New York City           NY     10457.0        urban   \n",
       "254136        -73.900124  New York City           NY     10457.0        urban   \n",
       "\n",
       "                   school_district school_county teacher_prefix  \\\n",
       "254134  New York Dept Of Education         Bronx            Mr.   \n",
       "254136  New York Dept Of Education         Bronx            Mr.   \n",
       "\n",
       "       primary_focus_subject primary_focus_area secondary_focus_subject  \\\n",
       "254134         Gym & Fitness    Health & Sports                     NaN   \n",
       "254136         Gym & Fitness    Health & Sports                     NaN   \n",
       "\n",
       "       secondary_focus_area resource_type    poverty_level grade_level  \\\n",
       "254134                  NaN      Supplies  highest poverty  Grades 3-5   \n",
       "254136                  NaN      Supplies  highest poverty  Grades 3-5   \n",
       "\n",
       "        total_price_excluding_optional_support  \\\n",
       "254134                           217377.015625   \n",
       "254136                           217377.015625   \n",
       "\n",
       "        total_price_including_optional_support  students_reached  \\\n",
       "254134                           255737.671875             999.0   \n",
       "254136                           255737.671875             999.0   \n",
       "\n",
       "        total_donations  num_donors eligible_double_your_impact_match  \\\n",
       "254134      249253.3125         313                                 t   \n",
       "254136      249253.3125         313                                 t   \n",
       "\n",
       "       eligible_almost_home_match funding_status date_posted date_completed  \\\n",
       "254134                          f      completed  2015-08-28     2015-12-28   \n",
       "254136                          f      completed  2015-08-28     2015-12-28   \n",
       "\n",
       "       date_thank_you_packet_mailed date_expiration  donor_state_population  \\\n",
       "254134                          NaT      2016-01-29               4085989.0   \n",
       "254136                          NaT      2016-01-29              19836286.0   \n",
       "\n",
       "        project_year  complete_year  \n",
       "254134          2015         2015.0  \n",
       "254136          2015         2015.0  "
      ]
     },
     "execution_count": 22,
     "metadata": {},
     "output_type": "execute_result"
    }
   ],
   "source": [
    "completed_projects[completed_projects['_projectid']=='bbbc6cccccd3c1bc8c44ec494bb6cf23'].head(2)"
   ]
  },
  {
   "cell_type": "code",
   "execution_count": 23,
   "metadata": {
    "scrolled": true
   },
   "outputs": [
    {
     "data": {
      "text/html": [
       "<div>\n",
       "<style scoped>\n",
       "    .dataframe tbody tr th:only-of-type {\n",
       "        vertical-align: middle;\n",
       "    }\n",
       "\n",
       "    .dataframe tbody tr th {\n",
       "        vertical-align: top;\n",
       "    }\n",
       "\n",
       "    .dataframe thead th {\n",
       "        text-align: right;\n",
       "    }\n",
       "</style>\n",
       "<table border=\"1\" class=\"dataframe\">\n",
       "  <thead>\n",
       "    <tr style=\"text-align: right;\">\n",
       "      <th></th>\n",
       "      <th>_donationid</th>\n",
       "      <th>_projectid</th>\n",
       "      <th>_donor_acctid</th>\n",
       "      <th>donor_city</th>\n",
       "      <th>donor_state</th>\n",
       "      <th>is_teacher_acct</th>\n",
       "      <th>donation_timestamp</th>\n",
       "      <th>donation_to_project</th>\n",
       "      <th>donation_optional_support</th>\n",
       "      <th>donation_total</th>\n",
       "      <th>payment_method</th>\n",
       "      <th>is_teacher_referred</th>\n",
       "      <th>thank_you_packet_mailed</th>\n",
       "      <th>_teacher_acctid</th>\n",
       "      <th>school_ncesid</th>\n",
       "      <th>school_latitude</th>\n",
       "      <th>school_longitude</th>\n",
       "      <th>school_city</th>\n",
       "      <th>school_state</th>\n",
       "      <th>school_zip</th>\n",
       "      <th>school_metro</th>\n",
       "      <th>school_district</th>\n",
       "      <th>school_county</th>\n",
       "      <th>teacher_prefix</th>\n",
       "      <th>primary_focus_subject</th>\n",
       "      <th>primary_focus_area</th>\n",
       "      <th>secondary_focus_subject</th>\n",
       "      <th>secondary_focus_area</th>\n",
       "      <th>resource_type</th>\n",
       "      <th>poverty_level</th>\n",
       "      <th>grade_level</th>\n",
       "      <th>total_price_excluding_optional_support</th>\n",
       "      <th>total_price_including_optional_support</th>\n",
       "      <th>students_reached</th>\n",
       "      <th>total_donations</th>\n",
       "      <th>num_donors</th>\n",
       "      <th>eligible_double_your_impact_match</th>\n",
       "      <th>eligible_almost_home_match</th>\n",
       "      <th>funding_status</th>\n",
       "      <th>date_posted</th>\n",
       "      <th>date_completed</th>\n",
       "      <th>date_thank_you_packet_mailed</th>\n",
       "      <th>date_expiration</th>\n",
       "      <th>donor_state_population</th>\n",
       "      <th>project_year</th>\n",
       "      <th>complete_year</th>\n",
       "    </tr>\n",
       "  </thead>\n",
       "  <tbody>\n",
       "    <tr>\n",
       "      <th>17863</th>\n",
       "      <td>0009d2759ff78b89a8b85b95ffc1e921</td>\n",
       "      <td>c34218abf3fecd36be01305d67ed7fbb</td>\n",
       "      <td>9437d67acc13a0643c8667c019602b9d</td>\n",
       "      <td>NaN</td>\n",
       "      <td>CA</td>\n",
       "      <td>0</td>\n",
       "      <td>2015-05-29 01:04:07.193</td>\n",
       "      <td>84.150002</td>\n",
       "      <td>14.85</td>\n",
       "      <td>99.0</td>\n",
       "      <td>creditcard</td>\n",
       "      <td>1</td>\n",
       "      <td>f</td>\n",
       "      <td>7fe6dd0c1af5f911e9bc38030cfb4ced</td>\n",
       "      <td>6.112201e+10</td>\n",
       "      <td>38.006054</td>\n",
       "      <td>-122.552521</td>\n",
       "      <td>San Rafael</td>\n",
       "      <td>CA</td>\n",
       "      <td>94903.0</td>\n",
       "      <td>suburban</td>\n",
       "      <td>Dixie School District</td>\n",
       "      <td>Marin</td>\n",
       "      <td>Ms.</td>\n",
       "      <td>Health &amp; Wellness</td>\n",
       "      <td>Health &amp; Sports</td>\n",
       "      <td>Literacy</td>\n",
       "      <td>Literacy &amp; Language</td>\n",
       "      <td>Supplies</td>\n",
       "      <td>moderate poverty</td>\n",
       "      <td>Grades 3-5</td>\n",
       "      <td>93563.90625</td>\n",
       "      <td>110075.1875</td>\n",
       "      <td>350.0</td>\n",
       "      <td>109333.476562</td>\n",
       "      <td>848</td>\n",
       "      <td>f</td>\n",
       "      <td>f</td>\n",
       "      <td>completed</td>\n",
       "      <td>2015-05-26</td>\n",
       "      <td>2015-08-12</td>\n",
       "      <td>2015-12-21</td>\n",
       "      <td>2015-10-24</td>\n",
       "      <td>39296476.0</td>\n",
       "      <td>2015</td>\n",
       "      <td>2015.0</td>\n",
       "    </tr>\n",
       "    <tr>\n",
       "      <th>17864</th>\n",
       "      <td>0019498f1881b4ab7462e92a08df5c14</td>\n",
       "      <td>c34218abf3fecd36be01305d67ed7fbb</td>\n",
       "      <td>306961a477a046e184d4e708f718111f</td>\n",
       "      <td>NaN</td>\n",
       "      <td>PA</td>\n",
       "      <td>0</td>\n",
       "      <td>2015-06-25 08:53:17.245</td>\n",
       "      <td>40.000000</td>\n",
       "      <td>0.00</td>\n",
       "      <td>40.0</td>\n",
       "      <td>creditcard</td>\n",
       "      <td>1</td>\n",
       "      <td>f</td>\n",
       "      <td>7fe6dd0c1af5f911e9bc38030cfb4ced</td>\n",
       "      <td>6.112201e+10</td>\n",
       "      <td>38.006054</td>\n",
       "      <td>-122.552521</td>\n",
       "      <td>San Rafael</td>\n",
       "      <td>CA</td>\n",
       "      <td>94903.0</td>\n",
       "      <td>suburban</td>\n",
       "      <td>Dixie School District</td>\n",
       "      <td>Marin</td>\n",
       "      <td>Ms.</td>\n",
       "      <td>Health &amp; Wellness</td>\n",
       "      <td>Health &amp; Sports</td>\n",
       "      <td>Literacy</td>\n",
       "      <td>Literacy &amp; Language</td>\n",
       "      <td>Supplies</td>\n",
       "      <td>moderate poverty</td>\n",
       "      <td>Grades 3-5</td>\n",
       "      <td>93563.90625</td>\n",
       "      <td>110075.1875</td>\n",
       "      <td>350.0</td>\n",
       "      <td>109333.476562</td>\n",
       "      <td>848</td>\n",
       "      <td>f</td>\n",
       "      <td>f</td>\n",
       "      <td>completed</td>\n",
       "      <td>2015-05-26</td>\n",
       "      <td>2015-08-12</td>\n",
       "      <td>2015-12-21</td>\n",
       "      <td>2015-10-24</td>\n",
       "      <td>12787085.0</td>\n",
       "      <td>2015</td>\n",
       "      <td>2015.0</td>\n",
       "    </tr>\n",
       "  </tbody>\n",
       "</table>\n",
       "</div>"
      ],
      "text/plain": [
       "                            _donationid                        _projectid  \\\n",
       "17863  0009d2759ff78b89a8b85b95ffc1e921  c34218abf3fecd36be01305d67ed7fbb   \n",
       "17864  0019498f1881b4ab7462e92a08df5c14  c34218abf3fecd36be01305d67ed7fbb   \n",
       "\n",
       "                          _donor_acctid donor_city donor_state  \\\n",
       "17863  9437d67acc13a0643c8667c019602b9d        NaN          CA   \n",
       "17864  306961a477a046e184d4e708f718111f        NaN          PA   \n",
       "\n",
       "       is_teacher_acct      donation_timestamp  donation_to_project  \\\n",
       "17863                0 2015-05-29 01:04:07.193            84.150002   \n",
       "17864                0 2015-06-25 08:53:17.245            40.000000   \n",
       "\n",
       "       donation_optional_support  donation_total payment_method  \\\n",
       "17863                      14.85            99.0     creditcard   \n",
       "17864                       0.00            40.0     creditcard   \n",
       "\n",
       "       is_teacher_referred thank_you_packet_mailed  \\\n",
       "17863                    1                       f   \n",
       "17864                    1                       f   \n",
       "\n",
       "                        _teacher_acctid  school_ncesid  school_latitude  \\\n",
       "17863  7fe6dd0c1af5f911e9bc38030cfb4ced   6.112201e+10        38.006054   \n",
       "17864  7fe6dd0c1af5f911e9bc38030cfb4ced   6.112201e+10        38.006054   \n",
       "\n",
       "       school_longitude school_city school_state  school_zip school_metro  \\\n",
       "17863       -122.552521  San Rafael           CA     94903.0     suburban   \n",
       "17864       -122.552521  San Rafael           CA     94903.0     suburban   \n",
       "\n",
       "             school_district school_county teacher_prefix  \\\n",
       "17863  Dixie School District         Marin            Ms.   \n",
       "17864  Dixie School District         Marin            Ms.   \n",
       "\n",
       "      primary_focus_subject primary_focus_area secondary_focus_subject  \\\n",
       "17863     Health & Wellness    Health & Sports                Literacy   \n",
       "17864     Health & Wellness    Health & Sports                Literacy   \n",
       "\n",
       "      secondary_focus_area resource_type     poverty_level grade_level  \\\n",
       "17863  Literacy & Language      Supplies  moderate poverty  Grades 3-5   \n",
       "17864  Literacy & Language      Supplies  moderate poverty  Grades 3-5   \n",
       "\n",
       "       total_price_excluding_optional_support  \\\n",
       "17863                             93563.90625   \n",
       "17864                             93563.90625   \n",
       "\n",
       "       total_price_including_optional_support  students_reached  \\\n",
       "17863                             110075.1875             350.0   \n",
       "17864                             110075.1875             350.0   \n",
       "\n",
       "       total_donations  num_donors eligible_double_your_impact_match  \\\n",
       "17863    109333.476562         848                                 f   \n",
       "17864    109333.476562         848                                 f   \n",
       "\n",
       "      eligible_almost_home_match funding_status date_posted date_completed  \\\n",
       "17863                          f      completed  2015-05-26     2015-08-12   \n",
       "17864                          f      completed  2015-05-26     2015-08-12   \n",
       "\n",
       "      date_thank_you_packet_mailed date_expiration  donor_state_population  \\\n",
       "17863                   2015-12-21      2015-10-24              39296476.0   \n",
       "17864                   2015-12-21      2015-10-24              12787085.0   \n",
       "\n",
       "       project_year  complete_year  \n",
       "17863          2015         2015.0  \n",
       "17864          2015         2015.0  "
      ]
     },
     "execution_count": 23,
     "metadata": {},
     "output_type": "execute_result"
    }
   ],
   "source": [
    "completed_projects[completed_projects['num_donors']==848]\n",
    "completed_projects[completed_projects['_projectid']=='c34218abf3fecd36be01305d67ed7fbb'].head(2)"
   ]
  },
  {
   "cell_type": "markdown",
   "metadata": {},
   "source": [
    "The average donations per project is around `$`450. The project with the highest donation amount is a project completed in 2015. It was posted by a teacher in New York City to raise funds for gyms and fitness purpose. The project was sponsored by 313 donors with a total donation amount of `$`86,951.77. The project with the most number of donors is a project for an elementary school in San Rafael, CA. The funds are used to support Literacy development and raised `$`93,563.91 from 848 donors."
   ]
  },
  {
   "cell_type": "markdown",
   "metadata": {},
   "source": [
    "With the drastic growth in number of posted projects, it would be important to also measure the turnaround rate. I am curious to know whether it's taking longer or shorter for each project to be completed."
   ]
  },
  {
   "cell_type": "code",
   "execution_count": 24,
   "metadata": {},
   "outputs": [],
   "source": [
    "### average time for projects to be completed\n",
    "df_complete = df_us[df_us['funding_status']=='completed']\n",
    "df_complete['days_to_complete'] = (df_complete['date_completed']-df_complete['date_posted']).dt.days\n",
    "df_complete= df_complete[['_projectid', 'project_year', 'days_to_complete']].drop_duplicates()"
   ]
  },
  {
   "cell_type": "code",
   "execution_count": 25,
   "metadata": {
    "scrolled": true
   },
   "outputs": [],
   "source": [
    "#df_complete.head()\n",
    "df_complete_nan = df_complete.dropna()"
   ]
  },
  {
   "cell_type": "code",
   "execution_count": 26,
   "metadata": {
    "scrolled": true
   },
   "outputs": [],
   "source": [
    "average_completion_days = df_complete.groupby('project_year')['days_to_complete'].mean()\n",
    "#average_completion_days.values"
   ]
  },
  {
   "cell_type": "code",
   "execution_count": 27,
   "metadata": {
    "scrolled": false
   },
   "outputs": [
    {
     "data": {
      "text/plain": [
       "<matplotlib.axes._subplots.AxesSubplot at 0x1d0245bf9e8>"
      ]
     },
     "execution_count": 27,
     "metadata": {},
     "output_type": "execute_result"
    },
    {
     "data": {
      "image/png": "[encoded data removed]",
      "text/plain": [
       "<Figure size 936x360 with 2 Axes>"
      ]
     },
     "metadata": {},
     "output_type": "display_data"
    }
   ],
   "source": [
    "fig, (ax0, ax1) = plt.subplots(nrows=1, ncols=2, figsize=(13, 5))\n",
    "sns.set_style('white')\n",
    "ax0.set_title('average time to be funded')\n",
    "ax1.set_title('average time to be funded over time')\n",
    "sns.distplot(df_complete_nan['days_to_complete'], ax = ax0)\n",
    "sns.lineplot(x=average_completion_days.index, y=average_completion_days.values, ax = ax1)"
   ]
  },
  {
   "cell_type": "markdown",
   "metadata": {},
   "source": [
    "The majority of the projects are fully-donated within 100 days, and the turnaround keeps decreasing with more and more people start using the platform. The projects that are posted recently were completed within around a month."
   ]
  },
  {
   "cell_type": "markdown",
   "metadata": {},
   "source": [
    "##### Project Completion Time vs. Primary Focus Area"
   ]
  },
  {
   "cell_type": "markdown",
   "metadata": {},
   "source": [
    "DonorsChoose placed projects into 7 different focus areas and I'm curious to see if the time periods to complete the donations are the same for different categories. Since the platform wasn't getting a lot of volume before 2006. The projects posted back then created many outliers in terms of completion time. For the analysis purpose, I will only use the projects posted between 2006 and 2016."
   ]
  },
  {
   "cell_type": "code",
   "execution_count": 28,
   "metadata": {
    "scrolled": true
   },
   "outputs": [
    {
     "name": "stdout",
     "output_type": "stream",
     "text": [
      "primary_focus_area\n",
      "Applied Learning       43.045365\n",
      "Health & Sports        35.078756\n",
      "History & Civics       41.731956\n",
      "Literacy & Language    42.343375\n",
      "Math & Science         40.364388\n",
      "Music & The Arts       43.296106\n",
      "Special Needs          43.593827\n",
      "Name: days_to_complete, dtype: float64\n"
     ]
    }
   ],
   "source": [
    "### average time for projects to be completed - project focus\n",
    "df_complete_recent = df_us[(df_us['funding_status']=='completed') & (df_us['date_posted']>='2006-01-01')]\n",
    "df_complete_recent['days_to_complete'] = (df_complete_recent['date_completed']-df_complete_recent['date_posted']).dt.days\n",
    "df_complete_recent= df_complete_recent[['_projectid', 'primary_focus_area', 'days_to_complete', 'donation_total']].drop_duplicates()\n",
    "mean_comp_days = df_complete_recent.groupby('primary_focus_area')['days_to_complete'].mean()\n",
    "print(mean_comp_days)"
   ]
  },
  {
   "cell_type": "markdown",
   "metadata": {},
   "source": [
    "The means look similar among different subjects. I'll do a Tukey’s Range Test to see if the means are actually the same.\n",
    "\n",
    "H0: the mean time it takes to complete the donation for reach subject area is the same.\n",
    "\n",
    "HA: there is a significant difference in the mean time to complete the donation among different subject areas.\n"
   ]
  },
  {
   "cell_type": "code",
   "execution_count": 29,
   "metadata": {
    "scrolled": false
   },
   "outputs": [
    {
     "name": "stdout",
     "output_type": "stream",
     "text": [
      "           Multiple Comparison of Means - Tukey HSD,FWER=0.05          \n",
      "=======================================================================\n",
      "       group1              group2       meandiff  lower   upper  reject\n",
      "-----------------------------------------------------------------------\n",
      "  Applied Learning    Health & Sports   -7.9666   -8.49  -7.4432  True \n",
      "  Applied Learning    History & Civics  -1.3134  -1.8376 -0.7892  True \n",
      "  Applied Learning  Literacy & Language  -0.702  -1.0581 -0.3458  True \n",
      "  Applied Learning     Math & Science    -2.681  -3.0514 -2.3105  True \n",
      "  Applied Learning    Music & The Arts   0.2507  -0.1726  0.6741 False \n",
      "  Applied Learning     Special Needs     0.5485   0.0872  1.0097  True \n",
      "  Health & Sports     History & Civics   6.6532   6.0807  7.2257  True \n",
      "  Health & Sports   Literacy & Language  7.2646   6.8406  7.6887  True \n",
      "  Health & Sports      Math & Science    5.2856   4.8495  5.7217  True \n",
      "  Health & Sports     Music & The Arts   8.2174   7.7355  8.6992  True \n",
      "  Health & Sports      Special Needs     8.5151   7.9996  9.0305  True \n",
      "  History & Civics  Literacy & Language  0.6114   0.1864  1.0364  True \n",
      "  History & Civics     Math & Science   -1.3676  -1.8046 -0.9305  True \n",
      "  History & Civics    Music & The Arts   1.5642   1.0815  2.0468  True \n",
      "  History & Civics     Special Needs     1.8619   1.3456  2.3781  True \n",
      "Literacy & Language    Math & Science    -1.979  -2.1866 -1.7714  True \n",
      "Literacy & Language   Music & The Arts   0.9527   0.661   1.2444  True \n",
      "Literacy & Language    Special Needs     1.2505   0.9061  1.5948  True \n",
      "   Math & Science     Music & The Arts   2.9317   2.6227  3.2407  True \n",
      "   Math & Science      Special Needs     3.2294   2.8703  3.5886  True \n",
      "  Music & The Arts     Special Needs     0.2977  -0.1158  0.7112 False \n",
      "-----------------------------------------------------------------------\n"
     ]
    }
   ],
   "source": [
    "df_complete_recent = df_complete_recent.dropna()\n",
    "v = df_complete_recent['days_to_complete']\n",
    "labels = df_complete_recent['primary_focus_area']\n",
    "\n",
    "### Tukey\n",
    "tukey_results = pairwise_tukeyhsd(v, labels, 0.05)\n",
    "print(tukey_results)"
   ]
  },
  {
   "cell_type": "code",
   "execution_count": 48,
   "metadata": {
    "scrolled": false
   },
   "outputs": [
    {
     "data": {
      "text/plain": [
       "Text(33.99999999999999, 0.5, '')"
      ]
     },
     "execution_count": 48,
     "metadata": {},
     "output_type": "execute_result"
    },
    {
     "data": {
      "image/png": "[encoded data removed]",
      "text/plain": [
       "<Figure size 432x288 with 1 Axes>"
      ]
     },
     "metadata": {},
     "output_type": "display_data"
    }
   ],
   "source": [
    "subjects = tukey_results.groupsunique\n",
    "groups=[]\n",
    "for i in range(len(subjects)):\n",
    "    for j in range(i+1, len(subjects)):\n",
    "        groups.append((subjects[i], subjects[j]))\n",
    "groups_df = pd.DataFrame(groups)\n",
    "groups_df.columns=['Group1', 'Group2']\n",
    "groups_df['Reject'] = tukey_results.reject\n",
    "groups_df['Reject'] = [1 if i==True else 0 for i in groups_df['Reject']]\n",
    "groups_df_pivot = groups_df.pivot('Group1', 'Group2', 'Reject')\n",
    "ax = sns.heatmap(groups_df_pivot, cmap='BuPu_r', center=1, cbar=False, annot=True)\n",
    "plt.xlabel('')\n",
    "plt.ylabel('')"
   ]
  },
  {
   "cell_type": "markdown",
   "metadata": {},
   "source": [
    "The Tukey test suggests that in most cases, we can reject the null hypothesis and conclude that the difference in mean time to complete the donation in different subject areas are statistically significant.    \n",
    "(The grid with number 0 means that we cannot reject the null hypothesis and the grid with number 1 means that the null hypothesis can be rejected.)"
   ]
  },
  {
   "cell_type": "code",
   "execution_count": 49,
   "metadata": {},
   "outputs": [
    {
     "data": {
      "text/plain": [
       "<matplotlib.axes._subplots.AxesSubplot at 0x1d044e95048>"
      ]
     },
     "execution_count": 49,
     "metadata": {},
     "output_type": "execute_result"
    },
    {
     "data": {
      "image/png": "[encoded data removed]",
      "text/plain": [
       "<Figure size 864x288 with 1 Axes>"
      ]
     },
     "metadata": {},
     "output_type": "display_data"
    }
   ],
   "source": [
    "plt.figure(figsize=(12,4))\n",
    "sns.boxplot(x='primary_focus_area', y='days_to_complete', data=df_complete_recent)"
   ]
  },
  {
   "cell_type": "markdown",
   "metadata": {},
   "source": [
    "Health & Sports has the lowest mean and the narrowest interquartile range. It is the category that requires the least time to collect donation. "
   ]
  },
  {
   "cell_type": "markdown",
   "metadata": {},
   "source": [
    "##### Projects vs. Grade Levels"
   ]
  },
  {
   "cell_type": "markdown",
   "metadata": {},
   "source": [
    "The projects are raised for schools from PreK to grade 12. From the below chart, it is clear that most of the fundings are demanded in elementary level, especially among lower grades."
   ]
  },
  {
   "cell_type": "code",
   "execution_count": 50,
   "metadata": {},
   "outputs": [],
   "source": [
    "projects_grade = df_us.groupby('grade_level')['_projectid'].nunique()"
   ]
  },
  {
   "cell_type": "code",
   "execution_count": 51,
   "metadata": {},
   "outputs": [
    {
     "data": {
      "text/plain": [
       "<matplotlib.axes._subplots.AxesSubplot at 0x1d044f54470>"
      ]
     },
     "execution_count": 51,
     "metadata": {},
     "output_type": "execute_result"
    },
    {
     "data": {
      "image/png": "[encoded data removed]",
      "text/plain": [
       "<Figure size 432x288 with 1 Axes>"
      ]
     },
     "metadata": {},
     "output_type": "display_data"
    }
   ],
   "source": [
    "sns.set_style('white')\n",
    "sns.set_palette('muted')\n",
    "fig, ax = plt.subplots(1, 1)\n",
    "ax.set_ylabel('')\n",
    "projects_grade.plot(kind='pie', ax=ax)"
   ]
  },
  {
   "cell_type": "markdown",
   "metadata": {},
   "source": [
    "##### Projects vs. Poverty Level"
   ]
  },
  {
   "cell_type": "code",
   "execution_count": 52,
   "metadata": {},
   "outputs": [],
   "source": [
    "projects_pov = df_us.groupby('poverty_level')['_projectid'].nunique()"
   ]
  },
  {
   "cell_type": "code",
   "execution_count": 53,
   "metadata": {},
   "outputs": [
    {
     "data": {
      "text/plain": [
       "<matplotlib.axes._subplots.AxesSubplot at 0x1d044f74780>"
      ]
     },
     "execution_count": 53,
     "metadata": {},
     "output_type": "execute_result"
    },
    {
     "data": {
      "image/png": "[encoded data removed]",
      "text/plain": [
       "<Figure size 432x288 with 1 Axes>"
      ]
     },
     "metadata": {},
     "output_type": "display_data"
    }
   ],
   "source": [
    "sns.set_style('white')\n",
    "sns.set_palette('muted')\n",
    "projects_pov.plot(kind='pie')"
   ]
  },
  {
   "cell_type": "markdown",
   "metadata": {},
   "source": [
    "It makes sense that more donations are needed where the poverty level is high with limited government funding. "
   ]
  },
  {
   "cell_type": "markdown",
   "metadata": {},
   "source": [
    "##### Projects vs. Focus Area"
   ]
  },
  {
   "cell_type": "markdown",
   "metadata": {},
   "source": [
    "With the current trends in tech development, schools are focusing more on technology-related education such as STEM. To see if the donation requests match the trend, we will divide the projects into different subject areas."
   ]
  },
  {
   "cell_type": "code",
   "execution_count": 54,
   "metadata": {
    "scrolled": false
   },
   "outputs": [],
   "source": [
    "project_focus_area = df_us.groupby('primary_focus_area')['_projectid'].nunique().sort_values(ascending=False)"
   ]
  },
  {
   "cell_type": "code",
   "execution_count": 55,
   "metadata": {},
   "outputs": [
    {
     "data": {
      "text/plain": [
       "<matplotlib.axes._subplots.AxesSubplot at 0x1d044f96a90>"
      ]
     },
     "execution_count": 55,
     "metadata": {},
     "output_type": "execute_result"
    },
    {
     "data": {
      "image/png": "[encoded data removed]",
      "text/plain": [
       "<Figure size 432x288 with 1 Axes>"
      ]
     },
     "metadata": {},
     "output_type": "display_data"
    }
   ],
   "source": [
    "sns.set_palette('muted')\n",
    "sns.barplot(x=project_focus_area.values, y=project_focus_area.index, order=project_focus_area.index)"
   ]
  },
  {
   "cell_type": "markdown",
   "metadata": {},
   "source": [
    "Indeed, teachers are requesting more support in Literacy & Language and Math & Science categories. But was this the trend since the beginning?"
   ]
  },
  {
   "cell_type": "code",
   "execution_count": 40,
   "metadata": {},
   "outputs": [
    {
     "data": {
      "text/plain": [
       "<matplotlib.axes._subplots.AxesSubplot at 0x1eda4233630>"
      ]
     },
     "execution_count": 40,
     "metadata": {},
     "output_type": "execute_result"
    },
    {
     "data": {
      "image/png": "[encoded data removed]",
      "text/plain": [
       "<Figure size 432x288 with 1 Axes>"
      ]
     },
     "metadata": {},
     "output_type": "display_data"
    }
   ],
   "source": [
    "project_focus_area = df_us.groupby(['project_year','primary_focus_area'])['_projectid'].nunique()\n",
    "project_focus_area = project_focus_area.to_frame().reset_index()\n",
    "project_focus_area.columns = ['year', 'primary_focus_area', 'project_count']\n",
    "sns.set_palette('colorblind')\n",
    "sns.lineplot(data=project_focus_area, x='year', y='project_count', hue='primary_focus_area')"
   ]
  },
  {
   "cell_type": "markdown",
   "metadata": {},
   "source": [
    "While all projects exhibit an upward trend, demand in Math & Science and Literacy & Language have grown more rapidly than the rest. While most of the projects have started to slow down since 2015, projects in Math & Science continued to expand. Let’s take a look at the pattern when we break down the data by poverty level."
   ]
  },
  {
   "cell_type": "code",
   "execution_count": 56,
   "metadata": {},
   "outputs": [
    {
     "data": {
      "text/html": [
       "<div>\n",
       "<style scoped>\n",
       "    .dataframe tbody tr th:only-of-type {\n",
       "        vertical-align: middle;\n",
       "    }\n",
       "\n",
       "    .dataframe tbody tr th {\n",
       "        vertical-align: top;\n",
       "    }\n",
       "\n",
       "    .dataframe thead th {\n",
       "        text-align: right;\n",
       "    }\n",
       "</style>\n",
       "<table border=\"1\" class=\"dataframe\">\n",
       "  <thead>\n",
       "    <tr style=\"text-align: right;\">\n",
       "      <th></th>\n",
       "      <th>primary_focus_area</th>\n",
       "      <th>poverty_level</th>\n",
       "      <th>_projectid</th>\n",
       "    </tr>\n",
       "  </thead>\n",
       "  <tbody>\n",
       "    <tr>\n",
       "      <th>0</th>\n",
       "      <td>Applied Learning</td>\n",
       "      <td>high poverty</td>\n",
       "      <td>14880</td>\n",
       "    </tr>\n",
       "    <tr>\n",
       "      <th>1</th>\n",
       "      <td>Applied Learning</td>\n",
       "      <td>highest poverty</td>\n",
       "      <td>35671</td>\n",
       "    </tr>\n",
       "    <tr>\n",
       "      <th>2</th>\n",
       "      <td>Applied Learning</td>\n",
       "      <td>low poverty</td>\n",
       "      <td>1595</td>\n",
       "    </tr>\n",
       "    <tr>\n",
       "      <th>3</th>\n",
       "      <td>Applied Learning</td>\n",
       "      <td>moderate poverty</td>\n",
       "      <td>7892</td>\n",
       "    </tr>\n",
       "    <tr>\n",
       "      <th>4</th>\n",
       "      <td>Health &amp; Sports</td>\n",
       "      <td>high poverty</td>\n",
       "      <td>9673</td>\n",
       "    </tr>\n",
       "  </tbody>\n",
       "</table>\n",
       "</div>"
      ],
      "text/plain": [
       "  primary_focus_area     poverty_level  _projectid\n",
       "0   Applied Learning      high poverty       14880\n",
       "1   Applied Learning   highest poverty       35671\n",
       "2   Applied Learning       low poverty        1595\n",
       "3   Applied Learning  moderate poverty        7892\n",
       "4    Health & Sports      high poverty        9673"
      ]
     },
     "execution_count": 56,
     "metadata": {},
     "output_type": "execute_result"
    }
   ],
   "source": [
    "focus_poverty = df_us.groupby(['primary_focus_area', 'poverty_level'])['_projectid'].nunique()\n",
    "focus_poverty = focus_poverty.to_frame().reset_index()\n",
    "focus_poverty.head()"
   ]
  },
  {
   "cell_type": "code",
   "execution_count": 57,
   "metadata": {
    "scrolled": true
   },
   "outputs": [
    {
     "data": {
      "text/plain": [
       "<matplotlib.axes._subplots.AxesSubplot at 0x1d0455ce400>"
      ]
     },
     "execution_count": 57,
     "metadata": {},
     "output_type": "execute_result"
    },
    {
     "data": {
      "image/png": "[encoded data removed]",
      "text/plain": [
       "<Figure size 432x288 with 1 Axes>"
      ]
     },
     "metadata": {},
     "output_type": "display_data"
    }
   ],
   "source": [
    "sns.barplot(x='_projectid', y='poverty_level', hue='primary_focus_area', data=focus_poverty)"
   ]
  },
  {
   "cell_type": "markdown",
   "metadata": {},
   "source": [
    "Despite different wealth levels among schools, Literacy & Language and Math & Science are always on the top of the bucket list."
   ]
  },
  {
   "cell_type": "markdown",
   "metadata": {},
   "source": [
    "### Teacher Analysis"
   ]
  },
  {
   "cell_type": "markdown",
   "metadata": {},
   "source": [
    "The projects on the platform are teacher-driven. Let's first take a look at the total teacher population over years."
   ]
  },
  {
   "cell_type": "code",
   "execution_count": 58,
   "metadata": {},
   "outputs": [
    {
     "data": {
      "text/plain": [
       "<matplotlib.axes._subplots.AxesSubplot at 0x1d04565eb38>"
      ]
     },
     "execution_count": 58,
     "metadata": {},
     "output_type": "execute_result"
    },
    {
     "data": {
      "image/png": "[encoded data removed]",
      "text/plain": [
       "<Figure size 432x288 with 1 Axes>"
      ]
     },
     "metadata": {},
     "output_type": "display_data"
    }
   ],
   "source": [
    "teacher_count = df_us.groupby('project_year')['_teacher_acctid'].nunique()\n",
    "teacher_count\n",
    "sns.set_style('white')\n",
    "teacher_count.plot()"
   ]
  },
  {
   "cell_type": "markdown",
   "metadata": {},
   "source": [
    "Teacher users have more than doubled from year 2010 to 2016. It exhibits a positive correlation with the project growth."
   ]
  },
  {
   "cell_type": "markdown",
   "metadata": {},
   "source": [
    "Next, I would like to see how many projects are posted by female teachers vs. male teachers."
   ]
  },
  {
   "cell_type": "code",
   "execution_count": 59,
   "metadata": {
    "scrolled": true
   },
   "outputs": [],
   "source": [
    "df_us['teacher_gender'] = ['Female' if i in ['Mrs.', 'Ms.'] else 'Male' if i=='Mr.' else 'Unknown' for i in df_us['teacher_prefix']] "
   ]
  },
  {
   "cell_type": "code",
   "execution_count": 61,
   "metadata": {},
   "outputs": [],
   "source": [
    "## number of teachers posting projects over years\n",
    "teacher_over_time = df_us.groupby(['project_year', 'teacher_gender'])['_teacher_acctid'].nunique()\n",
    "teacher_over_time = teacher_over_time.to_frame().reset_index()\n",
    "teacher_over_time.columns = ['year', 'teacher_gender', 'teacher_count']\n",
    "#teacher_over_time"
   ]
  },
  {
   "cell_type": "code",
   "execution_count": 62,
   "metadata": {
    "scrolled": true
   },
   "outputs": [
    {
     "data": {
      "text/plain": [
       "<matplotlib.axes._subplots.AxesSubplot at 0x1d044e654a8>"
      ]
     },
     "execution_count": 62,
     "metadata": {},
     "output_type": "execute_result"
    },
    {
     "data": {
      "image/png": "[encoded data removed]",
      "text/plain": [
       "<Figure size 432x288 with 1 Axes>"
      ]
     },
     "metadata": {},
     "output_type": "display_data"
    }
   ],
   "source": [
    "sns.lineplot(data=teacher_over_time, x='year', y='teacher_count', hue='teacher_gender')"
   ]
  },
  {
   "cell_type": "markdown",
   "metadata": {},
   "source": [
    "We can spot that the number of male teachers grew very little and majority of the projects are posted by female teachers. That's probably because female are more prevalent in teaching positions. "
   ]
  },
  {
   "cell_type": "markdown",
   "metadata": {},
   "source": [
    "Would the teacher's gender have any influence on the success rate of the donation? Let's compare the projects posted by female teachers and male teachers to see if there is a significant difference by applying the Chi-square test. \n",
    "\n",
    "\n",
    "H0: there is no difference in the donation completion rate between male and female teachers\n",
    "\n",
    "H1: there is a significant difference in the donation completion rate between male and female teachers\n",
    "\n",
    "Significance level: 0.05\n"
   ]
  },
  {
   "cell_type": "code",
   "execution_count": 63,
   "metadata": {
    "scrolled": true
   },
   "outputs": [
    {
     "name": "stdout",
     "output_type": "stream",
     "text": [
      "[[92002, 18311], [651946, 133464]]\n"
     ]
    }
   ],
   "source": [
    "### build a chi-square contingency table\n",
    "male_total = df_us[(df_us['funding_status']!='live') & (df_us['teacher_gender']=='Male')]['_projectid'].nunique()\n",
    "male_complete = df_us[(df_us['funding_status']=='completed') & (df_us['teacher_gender']=='Male')]['_projectid'].nunique()\n",
    "male_incomplete = male_total - male_complete\n",
    "female_total = df_us[(df_us['funding_status']!='live') & (df_us['teacher_gender']=='Female')]['_projectid'].nunique()\n",
    "female_complete = df_us[(df_us['funding_status']=='completed') & (df_us['teacher_gender']=='Female')]['_projectid'].nunique()\n",
    "female_incomplete = female_total - female_complete\n",
    "\n",
    "x = [[male_complete, male_incomplete], [female_complete, female_incomplete]]\n",
    "print(x)"
   ]
  },
  {
   "cell_type": "code",
   "execution_count": 64,
   "metadata": {},
   "outputs": [
    {
     "name": "stdout",
     "output_type": "stream",
     "text": [
      "donation completion rate by male teachers:  0.8340086843799008\n",
      "donation completion rate by female teachers:  0.830070918373843\n"
     ]
    }
   ],
   "source": [
    "print('donation completion rate by male teachers: ', (male_complete/male_total))\n",
    "print('donation completion rate by female teachers: ', (female_complete/female_total))"
   ]
  },
  {
   "cell_type": "code",
   "execution_count": 65,
   "metadata": {},
   "outputs": [
    {
     "name": "stdout",
     "output_type": "stream",
     "text": [
      "p-value:  0.0011129774259750452\n",
      "10.62950100655928\n"
     ]
    }
   ],
   "source": [
    "## chi-square test\n",
    "chi2, pval, dof, expected = stats.chi2_contingency(x)\n",
    "print('p-value: ', pval)\n",
    "print(chi2)"
   ]
  },
  {
   "cell_type": "markdown",
   "metadata": {},
   "source": [
    "At a 0.05 significance level, the null hypothesis that female teachers and male teachers achieve the same donation completion rate can be rejected. Although we spot that the average completion rate for projects posted by both male and female teacher are around 83%, there is a 0.4% difference in the sample data. The difference is small but statistically significant. "
   ]
  },
  {
   "cell_type": "markdown",
   "metadata": {},
   "source": [
    "### Conclusions from EDA"
   ]
  },
  {
   "cell_type": "markdown",
   "metadata": {},
   "source": [
    "With the above exploratory analysis, we can observe the following:\n",
    "* Out of the massive number of donors online, only 26% has donated more than once. \n",
    "* California and New York are the two states that hosted most of the donations. These are also the two states that have the biggest population. New York, Illinois, and California are the top 3 states with the highest percentage of population that donated. \n",
    "* Project volume has grown rapidly in the past 10 years and the time to collect donation has decreased drastically. \n",
    "* Health & Sports tends to raise money quickly compared to other categories.\n",
    "* Lower grades in elementary schools need the most financing support, especially in schools that are located in high-poverty regions. \n",
    "* Despite the poverty level, Literacy & Language and Math & Science are the categories that need the most funding. These two subjects have been more dominating in the recent years. "
   ]
  },
  {
   "cell_type": "markdown",
   "metadata": {},
   "source": [
    "### Machine Learning - K-means Clustering "
   ]
  },
  {
   "cell_type": "markdown",
   "metadata": {},
   "source": [
    "get donation summary for each donor"
   ]
  },
  {
   "cell_type": "code",
   "execution_count": null,
   "metadata": {},
   "outputs": [],
   "source": [
    "df_m = df_us[['_donor_acctid', 'donation_total', 'primary_focus_area']]\n",
    "df_m.head() "
   ]
  }
 ],
 "metadata": {
  "kernelspec": {
   "display_name": "Python 3",
   "language": "python",
   "name": "python3"
  },
  "language_info": {
   "codemirror_mode": {
    "name": "ipython",
    "version": 3
   },
   "file_extension": ".py",
   "mimetype": "text/x-python",
   "name": "python",
   "nbconvert_exporter": "python",
   "pygments_lexer": "ipython3",
   "version": "3.5.6"
  }
 },
 "nbformat": 4,
 "nbformat_minor": 2
}
