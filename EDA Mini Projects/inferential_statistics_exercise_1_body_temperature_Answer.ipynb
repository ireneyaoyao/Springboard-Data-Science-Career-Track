{
 "cells": [
  {
   "cell_type": "markdown",
   "metadata": {},
   "source": [
    "# What is the True Normal Human Body Temperature? \n",
    "\n",
    "#### Background\n",
    "\n",
    "The mean normal body temperature was held to be 37$^{\\circ}$C or 98.6$^{\\circ}$F for more than 120 years since it was first conceptualized and reported by Carl Wunderlich in a famous 1868 book. But, is this value statistically correct?"
   ]
  },
  {
   "cell_type": "markdown",
   "metadata": {},
   "source": [
    "<h3>Exercises</h3>\n",
    "\n",
    "<p>In this exercise, you will analyze a dataset of human body temperatures and employ the concepts of hypothesis testing, confidence intervals, and statistical significance.</p>\n",
    "\n",
    "<p>Answer the following questions <b>in this notebook below and submit to your Github account</b>.</p> \n",
    "\n",
    "<ol>\n",
    "<li>  Is the distribution of body temperatures normal? \n",
    "    <ul>\n",
    "    <li> Although this is not a requirement for the Central Limit Theorem to hold (read the introduction on Wikipedia's page about the CLT carefully: https://en.wikipedia.org/wiki/Central_limit_theorem), it gives us some peace of mind that the population may also be normally distributed if we assume that this sample is representative of the population.\n",
    "    <li> Think about the way you're going to check for the normality of the distribution. Graphical methods are usually used first, but there are also other ways: https://en.wikipedia.org/wiki/Normality_test\n",
    "    </ul>\n",
    "<li>  Is the sample size large? Are the observations independent?\n",
    "    <ul>\n",
    "    <li> Remember that this is a condition for the Central Limit Theorem, and hence the statistical tests we are using, to apply.\n",
    "    </ul>\n",
    "<li>  Is the true population mean really 98.6 degrees F?\n",
    "    <ul>\n",
    "    <li> First, try a bootstrap hypothesis test.\n",
    "    <li> Now, let's try frequentist statistical testing. Would you use a one-sample or two-sample test? Why?\n",
    "    <li> In this situation, is it appropriate to use the $t$ or $z$ statistic? \n",
    "    <li> Now try using the other test. How is the result be different? Why?\n",
    "    </ul>\n",
    "<li>  Draw a small sample of size 10 from the data and repeat both frequentist tests. \n",
    "    <ul>\n",
    "    <li> Which one is the correct one to use? \n",
    "    <li> What do you notice? What does this tell you about the difference in application of the $t$ and $z$ statistic?\n",
    "    </ul>\n",
    "<li>  At what temperature should we consider someone's temperature to be \"abnormal\"?\n",
    "    <ul>\n",
    "    <li> As in the previous example, try calculating everything using the boostrap approach, as well as the frequentist approach.\n",
    "    <li> Start by computing the margin of error and confidence interval. When calculating the confidence interval, keep in mind that you should use the appropriate formula for one draw, and not N draws.\n",
    "    </ul>\n",
    "<li>  Is there a significant difference between males and females in normal temperature?\n",
    "    <ul>\n",
    "    <li> What testing approach did you use and why?\n",
    "    <li> Write a story with your conclusion in the context of the original problem.\n",
    "    </ul>\n",
    "</ol>\n",
    "\n",
    "You can include written notes in notebook cells using Markdown: \n",
    "   - In the control panel at the top, choose Cell > Cell Type > Markdown\n",
    "   - Markdown syntax: http://nestacms.com/docs/creating-content/markdown-cheat-sheet\n",
    "\n",
    "#### Resources\n",
    "\n",
    "+ Information and data sources: http://www.amstat.org/publications/jse/datasets/normtemp.txt, http://www.amstat.org/publications/jse/jse_data_archive.htm\n",
    "+ Markdown syntax: http://nestacms.com/docs/creating-content/markdown-cheat-sheet\n",
    "\n",
    "****"
   ]
  },
  {
   "cell_type": "code",
   "execution_count": 25,
   "metadata": {},
   "outputs": [],
   "source": [
    "import pandas as pd\n",
    "import seaborn as sns\n",
    "import matplotlib.pyplot as plt\n",
    "import numpy as np\n",
    "import scipy.stats as stats\n",
    "from statsmodels.stats import weightstats as stests\n",
    "\n",
    "df = pd.read_csv('data/human_body_temperature.csv')"
   ]
  },
  {
   "cell_type": "markdown",
   "metadata": {},
   "source": [
    "### 1. Is the distribution of body temperatures normal?"
   ]
  },
  {
   "cell_type": "markdown",
   "metadata": {},
   "source": [
    "##### graphical method"
   ]
  },
  {
   "cell_type": "code",
   "execution_count": 3,
   "metadata": {},
   "outputs": [
    {
     "name": "stderr",
     "output_type": "stream",
     "text": [
      "C:\\Users\\Leo\\Anaconda3\\lib\\site-packages\\scipy\\stats\\stats.py:1713: FutureWarning: Using a non-tuple sequence for multidimensional indexing is deprecated; use `arr[tuple(seq)]` instead of `arr[seq]`. In the future this will be interpreted as an array index, `arr[np.array(seq)]`, which will result either in an error or a different result.\n",
      "  return np.add.reduce(sorted[indexer] * weights, axis=axis) / sumval\n"
     ]
    },
    {
     "data": {
      "text/plain": [
       "<matplotlib.axes._subplots.AxesSubplot at 0x2b87518b9b0>"
      ]
     },
     "execution_count": 3,
     "metadata": {},
     "output_type": "execute_result"
    },
    {
     "data": {
      "image/png": "[encoded data removed]",
      "text/plain": [
       "<Figure size 432x288 with 1 Axes>"
      ]
     },
     "metadata": {
      "needs_background": "light"
     },
     "output_type": "display_data"
    }
   ],
   "source": [
    "sns.distplot(df['temperature'], hist=False)"
   ]
  },
  {
   "cell_type": "markdown",
   "metadata": {},
   "source": [
    "The density plot of the body temperature is a nice bell curve with no obvious outliers, it is relatively normal. Let's verify it by creating a normal density curve which has the same mean and standard deviation of the body temperature data and see how the two curves align. "
   ]
  },
  {
   "cell_type": "code",
   "execution_count": 4,
   "metadata": {},
   "outputs": [],
   "source": [
    "## define the ecdf curve function\n",
    "def ecdf(data):\n",
    "    n = len(data)\n",
    "    x = np.sort(data)\n",
    "    y = np.arange(1, len(data)+1) / n\n",
    "    return x, y"
   ]
  },
  {
   "cell_type": "code",
   "execution_count": 19,
   "metadata": {
    "scrolled": true
   },
   "outputs": [
    {
     "data": {
      "image/png": "[encoded data removed]",
      "text/plain": [
       "<Figure size 432x288 with 1 Axes>"
      ]
     },
     "metadata": {
      "needs_background": "light"
     },
     "output_type": "display_data"
    }
   ],
   "source": [
    "sample_temp = df['temperature']\n",
    "mu = np.mean(sample_temp)\n",
    "std = np.std(sample_temp)\n",
    "\n",
    "##sample out a normal distribution with this mean and std\n",
    "samples = np.random.normal(mu, std, size=10000)\n",
    "\n",
    "##get the cdf of the samples and of the data\n",
    "x_sample, y_sample = ecdf(samples)\n",
    "x, y = ecdf(sample_temp)\n",
    "\n",
    "##plot the CDFs\n",
    "_ = plt.plot(x_sample, y_sample)\n",
    "_ = plt.plot(x, y, marker='.', linestyle='none')\n",
    "_ = plt.xlabel('Body Temperature')\n",
    "_ = plt.ylabel('CDF')\n",
    "plt.show()"
   ]
  },
  {
   "cell_type": "markdown",
   "metadata": {},
   "source": [
    "The body temperature aligns well with the simulated normal density curve, and is relatively normal. "
   ]
  },
  {
   "cell_type": "markdown",
   "metadata": {},
   "source": [
    "### 2. Is the sample size large? Are the observations independent?"
   ]
  },
  {
   "cell_type": "code",
   "execution_count": 29,
   "metadata": {},
   "outputs": [
    {
     "name": "stdout",
     "output_type": "stream",
     "text": [
      "The dataset has 130 data points.\n"
     ]
    }
   ],
   "source": [
    "## samples size\n",
    "size = len(df)\n",
    "print(\"The dataset has \" + str(size) + \" data points.\")"
   ]
  },
  {
   "cell_type": "markdown",
   "metadata": {},
   "source": [
    "The dataset has 130 data points (>30) and each individuals body temperature is not affected by those of others. In this case, the sample size is large enough and the observations are independent. "
   ]
  },
  {
   "cell_type": "markdown",
   "metadata": {},
   "source": [
    "### 3. Is the true population mean really 98.6 degrees F?"
   ]
  },
  {
   "cell_type": "markdown",
   "metadata": {},
   "source": [
    "##### bootstrap hypothesis test"
   ]
  },
  {
   "cell_type": "code",
   "execution_count": 23,
   "metadata": {},
   "outputs": [
    {
     "name": "stdout",
     "output_type": "stream",
     "text": [
      "sample mean:  98.24923076923078\n",
      "p-value:  0.0\n"
     ]
    }
   ],
   "source": [
    "## shift the sample mean to be 98.6\n",
    "temp_shifted = sample_temp + (98.6 - mu)\n",
    "## bootstrap 10000 samples\n",
    "def draw_bs_reps(data, func, size=1):\n",
    "    bs_reps = np.empty(size)\n",
    "    \n",
    "    for i in range(size):\n",
    "        bs_samples = np.random.choice(data, len(data))\n",
    "        bs_reps[i] = func(bs_samples)\n",
    "    return bs_reps\n",
    "\n",
    "bs_replicates = draw_bs_reps(temp_shifted, np.mean, 10000)\n",
    "\n",
    "## probability of getting mean as least as small as mu, assuming the real population mean is 98.6\n",
    "p = np.sum(bs_replicates <= mu)/len(bs_replicates)\n",
    "print(\"sample mean: \", mu)\n",
    "print(\"p-value: \", p)"
   ]
  },
  {
   "cell_type": "markdown",
   "metadata": {},
   "source": [
    "The probability for getting a sample mean of body temperature of 98.24 is 0.0% assuming the true population mean is 98.6 degrees F. Thus we can reject the null hypothesis and conclude that the true population mean is less than 98.6 degrees F. "
   ]
  },
  {
   "cell_type": "markdown",
   "metadata": {},
   "source": [
    "##### frequentist statistical testing"
   ]
  },
  {
   "cell_type": "markdown",
   "metadata": {},
   "source": [
    "Null Hypothesis: The true population mean of body temperature is 98.24 degrees F.    \n",
    "Alternative Hypothesis: The true population mean of body temperature is less than 98.24 degrees F.     \n",
    "  \n",
    "I would use a one-sample test since we are comparing the sample mean against the population mean and not the difference between 2 different sample means.   \n",
    "\n",
    "Also, z statistics are appropriate in this case since the sample size is bigger than 30 and the distribution of the sample mean is normally distributed under central limited theorem. "
   ]
  },
  {
   "cell_type": "code",
   "execution_count": 27,
   "metadata": {},
   "outputs": [
    {
     "name": "stdout",
     "output_type": "stream",
     "text": [
      "z-stat:  -5.4548232923645195\n",
      "p-value:  4.9021570141012155e-08\n"
     ]
    }
   ],
   "source": [
    "testResult = stests.ztest(sample_temp, value=98.6)\n",
    "print(\"z-stat: \", testResult[0])\n",
    "print(\"p-value: \", testResult[1])"
   ]
  },
  {
   "cell_type": "markdown",
   "metadata": {},
   "source": [
    "The z-stat test gave a p-value very close to 0% as well. "
   ]
  },
  {
   "cell_type": "markdown",
   "metadata": {},
   "source": [
    "##### confidence intervals"
   ]
  },
  {
   "cell_type": "code",
   "execution_count": 29,
   "metadata": {},
   "outputs": [
    {
     "name": "stdout",
     "output_type": "stream",
     "text": [
      "95% confidence interval = [98.12307692 98.37538462]  degrees F.\n"
     ]
    }
   ],
   "source": [
    "## bootstrap replicates of the mean\n",
    "bs_replicates = draw_bs_reps(sample_temp, np.mean, 10000)\n",
    "conf_int = np.percentile(bs_replicates, [2.5, 97.5])\n",
    "print('95% confidence interval =', conf_int, ' degrees F.')"
   ]
  },
  {
   "cell_type": "markdown",
   "metadata": {},
   "source": [
    "The assumed true population mean of 98.6 degrees F is not in the 95% confidence interval of the sample data. Thus, we can also conclude that the true population mean is not 98.6. "
   ]
  },
  {
   "cell_type": "markdown",
   "metadata": {},
   "source": [
    "### 4. Draw a small sample of size 10 from the data and repeat both frequentist tests"
   ]
  },
  {
   "cell_type": "code",
   "execution_count": 36,
   "metadata": {},
   "outputs": [
    {
     "name": "stdout",
     "output_type": "stream",
     "text": [
      "[98.  99.1 98.4 98.8 97.8 98.  97.8 98.2 98.6 97.9]\n"
     ]
    }
   ],
   "source": [
    "sample_10 = np.random.choice(sample_temp, 10)\n",
    "print(sample_10)"
   ]
  },
  {
   "cell_type": "code",
   "execution_count": 37,
   "metadata": {},
   "outputs": [
    {
     "name": "stdout",
     "output_type": "stream",
     "text": [
      "z-stat:  -2.388293819533353\n",
      "p-value_z_stat:  0.016926803091935057\n",
      "t-stat:  -2.3882938195333527\n",
      "p-value_t_stat:  0.04067098566525225\n"
     ]
    }
   ],
   "source": [
    "## z-stats\n",
    "testResult_10z = stests.ztest(sample_10, value=98.6)\n",
    "print(\"z-stat: \", testResult_10z[0])\n",
    "print(\"p-value_z_stat: \", testResult_10z[1])\n",
    "\n",
    "## t-stats\n",
    "testResult_10t = stats.ttest_1samp(sample_10, popmean=98.6)\n",
    "print(\"t-stat: \", testResult_10t[0])\n",
    "print(\"p-value_t_stat: \", testResult_10t[1])"
   ]
  },
  {
   "cell_type": "markdown",
   "metadata": {},
   "source": [
    "When the sample size is less than 30, it is more appropriate to use the t-stats since the sampling distribution of mean may not be normally distributed. We can notice that in this case, t-stat gives a higher p-value than z-stat and it is less likely to reject the null hypothesis test. When small samples are present, t-stat is safer than z-stat. "
   ]
  },
  {
   "cell_type": "markdown",
   "metadata": {},
   "source": [
    "### 5. At what temperature should we consider someone's temperature to be \"abnormal\"?"
   ]
  },
  {
   "cell_type": "markdown",
   "metadata": {},
   "source": [
    "We'll calculate the 95% confidence interval for the mean temperature, and everything out of this range will be considered abnormal"
   ]
  },
  {
   "cell_type": "markdown",
   "metadata": {},
   "source": [
    "##### bootstrapping"
   ]
  },
  {
   "cell_type": "markdown",
   "metadata": {},
   "source": [
    "From the above bootstrapping, we know that the 95% confidence interval for the population mean is [98.12307692 98.37538462]  degrees F. The mean body temperature that are below 98.12 or above 98.38 will be considered abnormal. "
   ]
  },
  {
   "cell_type": "markdown",
   "metadata": {},
   "source": [
    "##### frequentist statistical testing"
   ]
  },
  {
   "cell_type": "code",
   "execution_count": 49,
   "metadata": {
    "scrolled": true
   },
   "outputs": [
    {
     "name": "stdout",
     "output_type": "stream",
     "text": [
      "standard error of the mean:  0.06430441683789102\n",
      "confidence interval:  (98.12319642818166, 98.3752651102799)\n"
     ]
    }
   ],
   "source": [
    "sem = stats.sem(sample_temp)\n",
    "print('standard error of the mean: ', sem)\n",
    "conf_int_s = stats.norm.interval(0.95, loc=mu, scale=sem)\n",
    "print('confidence interval: ', conf_int_s)"
   ]
  },
  {
   "cell_type": "markdown",
   "metadata": {},
   "source": [
    "### 6. Is there a significant difference between males and females in normal temperature?"
   ]
  },
  {
   "cell_type": "markdown",
   "metadata": {},
   "source": [
    "##### graphical impression"
   ]
  },
  {
   "cell_type": "code",
   "execution_count": 76,
   "metadata": {
    "scrolled": true
   },
   "outputs": [
    {
     "name": "stderr",
     "output_type": "stream",
     "text": [
      "C:\\Users\\Leo\\Anaconda3\\lib\\site-packages\\scipy\\stats\\stats.py:1713: FutureWarning: Using a non-tuple sequence for multidimensional indexing is deprecated; use `arr[tuple(seq)]` instead of `arr[seq]`. In the future this will be interpreted as an array index, `arr[np.array(seq)]`, which will result either in an error or a different result.\n",
      "  return np.add.reduce(sorted[indexer] * weights, axis=axis) / sumval\n"
     ]
    },
    {
     "data": {
      "text/plain": [
       "<matplotlib.legend.Legend at 0x2b87874db00>"
      ]
     },
     "execution_count": 76,
     "metadata": {},
     "output_type": "execute_result"
    },
    {
     "data": {
      "image/png": "[encoded data removed]",
      "text/plain": [
       "<Figure size 432x288 with 1 Axes>"
      ]
     },
     "metadata": {
      "needs_background": "light"
     },
     "output_type": "display_data"
    }
   ],
   "source": [
    "sns.distplot(female_temp)\n",
    "sns.distplot(male_temp)\n",
    "plt.legend(['female', 'male'])"
   ]
  },
  {
   "cell_type": "markdown",
   "metadata": {},
   "source": [
    "By looking at the distribution, it seems that females tend to have a higher body temperature than males. "
   ]
  },
  {
   "cell_type": "markdown",
   "metadata": {},
   "source": [
    "##### hypothesis testing"
   ]
  },
  {
   "cell_type": "markdown",
   "metadata": {},
   "source": [
    "H0: there is no difference between males and females in normal temperature   \n",
    "HA: females have higher body temperature than males   \n",
    "significance level: 0.05"
   ]
  },
  {
   "cell_type": "markdown",
   "metadata": {},
   "source": [
    "I will use a two-sample bootstrap hypothesis test to test the difference of mean. "
   ]
  },
  {
   "cell_type": "code",
   "execution_count": 56,
   "metadata": {},
   "outputs": [],
   "source": [
    "## subset df into female and male\n",
    "male_temp = df[df['gender']=='M']['temperature']\n",
    "female_temp = df[df['gender']=='F']['temperature']"
   ]
  },
  {
   "cell_type": "code",
   "execution_count": 69,
   "metadata": {},
   "outputs": [
    {
     "name": "stdout",
     "output_type": "stream",
     "text": [
      "male mean:  98.1046153846154\n",
      "female mean:  98.39384615384613\n",
      "difference between female and male mean temperature:  0.289230769230727\n"
     ]
    }
   ],
   "source": [
    "mu_m = np.mean(male_temp)\n",
    "mu_f = np.mean(female_temp)\n",
    "mu_diff = mu_f - mu_m\n",
    "print('male mean: ', mu_m)\n",
    "print('female mean: ', mu_f)\n",
    "print('difference between female and male mean temperature: ', mu_diff)"
   ]
  },
  {
   "cell_type": "code",
   "execution_count": 70,
   "metadata": {},
   "outputs": [
    {
     "name": "stdout",
     "output_type": "stream",
     "text": [
      "p-value:  0.0117\n"
     ]
    }
   ],
   "source": [
    "## shift both male and female dataset to have the same mean\n",
    "male_shifted = male_temp + (mu -mu_m)\n",
    "female_shifted = female_temp + (mu - mu_f)\n",
    "\n",
    "## compute 10000 bootstrap replicates from shifted dataset\n",
    "bs_replicates_male = draw_bs_reps(male_shifted, np.mean, 10000)\n",
    "bs_replicates_female = draw_bs_reps(female_shfited, np.mean, 10000)\n",
    "\n",
    "## get replicates of difference of means\n",
    "bs_replicates_diff = bs_replicates_female - bs_replicates_male\n",
    "\n",
    "## compute p-value for getting a difference \n",
    "p = np.sum(bs_replicates_diff >= mu_diff)/len(bs_replicates_diff)\n",
    "print('p-value: ', p)"
   ]
  },
  {
   "cell_type": "markdown",
   "metadata": {},
   "source": [
    "The p-value of 0.0117 is less than our significance level of 0.05. Thus we can reject the null hypothesis and conclude that females tend to have higher body temperature than males. "
   ]
  },
  {
   "cell_type": "code",
   "execution_count": null,
   "metadata": {},
   "outputs": [],
   "source": []
  }
 ],
 "metadata": {
  "kernelspec": {
   "display_name": "Python 3",
   "language": "python",
   "name": "python3"
  },
  "language_info": {
   "codemirror_mode": {
    "name": "ipython",
    "version": 3
   },
   "file_extension": ".py",
   "mimetype": "text/x-python",
   "name": "python",
   "nbconvert_exporter": "python",
   "pygments_lexer": "ipython3",
   "version": "3.5.6"
  }
 },
 "nbformat": 4,
 "nbformat_minor": 1
}
