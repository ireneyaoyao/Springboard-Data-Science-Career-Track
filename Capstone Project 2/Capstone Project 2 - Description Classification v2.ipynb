{
 "cells": [
  {
   "cell_type": "code",
   "execution_count": 1,
   "metadata": {},
   "outputs": [],
   "source": [
    "import numpy as np\n",
    "import pandas as pd\n",
    "import spacy\n",
    "import seaborn as sns\n",
    "import matplotlib.pyplot as plt\n",
    "nlp = spacy.load('en')\n",
    "%matplotlib inline\n",
    "import warnings\n",
    "warnings.filterwarnings('ignore')"
   ]
  },
  {
   "cell_type": "code",
   "execution_count": 2,
   "metadata": {
    "scrolled": false
   },
   "outputs": [
    {
     "name": "stdout",
     "output_type": "stream",
     "text": [
      "Index(['company_name_id', 'company_name', 'url', 'year_founded', 'city',\n",
      "       'state', 'country', 'zip_code', 'full_time_employees', 'company_type',\n",
      "       'company_category', 'revenue_source', 'business_model', 'social_impact',\n",
      "       'description', 'description_short', 'source_count', 'data_types',\n",
      "       'example_uses', 'data_impacts', 'financial_info', 'last_updated'],\n",
      "      dtype='object')\n"
     ]
    }
   ],
   "source": [
    "df = pd.read_csv('us_companies.csv')\n",
    "print(df.columns)"
   ]
  },
  {
   "cell_type": "markdown",
   "metadata": {},
   "source": [
    "#### Data Wrangling"
   ]
  },
  {
   "cell_type": "code",
   "execution_count": 496,
   "metadata": {},
   "outputs": [
    {
     "name": "stdout",
     "output_type": "stream",
     "text": [
      "['Data/Technology' 'Finance & Investment' 'Research & Consulting'\n",
      " 'Governance' 'Environment & Weather' 'Business & Legal Services'\n",
      " 'Healthcare' 'Lifestyle & Consumer' 'Transportation' 'Insurance'\n",
      " 'Education' 'Energy' 'Scientific Research' 'Geospatial/Mapping'\n",
      " 'Housing/Real Estate' 'Food & Agriculture']\n",
      "16\n"
     ]
    }
   ],
   "source": [
    "## cleanup empty and misspelled industry codes\n",
    "df = df[df['company_category'].notnull()]\n",
    "df.loc[df['company_category']=='Data/Technology,', 'company_category']='Data/Technology'\n",
    "df.loc[df['company_category']=='Housing/Real Estate,', 'company_category']='Housing/Real Estate'\n",
    "## removing industry codes that contain only 1 company\n",
    "df = df[df['company_category']!='Aerospace and Defense']\n",
    "df = df[df['company_category']!='Media']\n",
    "print(df.company_category.unique())\n",
    "print(df.company_category.nunique())"
   ]
  },
  {
   "cell_type": "code",
   "execution_count": 497,
   "metadata": {
    "scrolled": true
   },
   "outputs": [
    {
     "name": "stdout",
     "output_type": "stream",
     "text": [
      "(524, 2)\n"
     ]
    }
   ],
   "source": [
    "desc_ind = df[['description', 'company_category']]\n",
    "print(desc_ind.shape)"
   ]
  },
  {
   "cell_type": "markdown",
   "metadata": {},
   "source": [
    "The model works better with numbers than strings. I'll encode the categories as integers."
   ]
  },
  {
   "cell_type": "code",
   "execution_count": 498,
   "metadata": {},
   "outputs": [
    {
     "data": {
      "text/html": [
       "<div>\n",
       "<style scoped>\n",
       "    .dataframe tbody tr th:only-of-type {\n",
       "        vertical-align: middle;\n",
       "    }\n",
       "\n",
       "    .dataframe tbody tr th {\n",
       "        vertical-align: top;\n",
       "    }\n",
       "\n",
       "    .dataframe thead th {\n",
       "        text-align: right;\n",
       "    }\n",
       "</style>\n",
       "<table border=\"1\" class=\"dataframe\">\n",
       "  <thead>\n",
       "    <tr style=\"text-align: right;\">\n",
       "      <th></th>\n",
       "      <th>description</th>\n",
       "      <th>company_category</th>\n",
       "      <th>category_id</th>\n",
       "    </tr>\n",
       "  </thead>\n",
       "  <tbody>\n",
       "    <tr>\n",
       "      <th>0</th>\n",
       "      <td>3 Round Stones produces a platform for publishing data on the Web. 3 Round Stones provides commercial support for the Callimachus Data Platform, used by the Fortune 2000 and US Government Agencies publishing and consuming data.  Headquartered in Arlington, Virginia, we're seasoned entrepreneurs who are passionate about solving real world problems through open data and open Web standards.</td>\n",
       "      <td>Data/Technology</td>\n",
       "      <td>0</td>\n",
       "    </tr>\n",
       "    <tr>\n",
       "      <th>1</th>\n",
       "      <td>The company mission is to provide finance to small business. We also provide financing to small business with bad credit too on the basis of future credit.</td>\n",
       "      <td>Finance &amp; Investment</td>\n",
       "      <td>1</td>\n",
       "    </tr>\n",
       "    <tr>\n",
       "      <th>2</th>\n",
       "      <td>At 5PSolutions, we wish to make all basic information of different categories easily available to via tablets or phones.</td>\n",
       "      <td>Data/Technology</td>\n",
       "      <td>0</td>\n",
       "    </tr>\n",
       "    <tr>\n",
       "      <th>3</th>\n",
       "      <td>Abt Associates is a mission-driven, international company conducting research and program implementation in the fields of health, social and environmental policy, and international development. The company has multiple offices in the U.S. and program offices in more than 40 countries.</td>\n",
       "      <td>Research &amp; Consulting</td>\n",
       "      <td>2</td>\n",
       "    </tr>\n",
       "    <tr>\n",
       "      <th>4</th>\n",
       "      <td>Accela powers thousands of services and millions of transactions for more than 500 public agencies worldwide, enabling governments to connect with citizens and streamline processes related to land management, asset management, licensing, and public health &amp; safety. Accela addresses a broad range of agency, business and citizen needs, and includes built-in payment, scheduling, compliance and information transparency. Together with our partners, Accela can custom-tailor solutions based on precise agency specifications, or deploy packaged solutions based on best practice templates and pre-defined services in a matter of a few weeks.</td>\n",
       "      <td>Governance</td>\n",
       "      <td>3</td>\n",
       "    </tr>\n",
       "  </tbody>\n",
       "</table>\n",
       "</div>"
      ],
      "text/plain": [
       "                                                                                                                                                                                                                                                                                                                                                                                                                                                                                                                                                                                                                                                     description  \\\n",
       "0  3 Round Stones produces a platform for publishing data on the Web. 3 Round Stones provides commercial support for the Callimachus Data Platform, used by the Fortune 2000 and US Government Agencies publishing and consuming data.  Headquartered in Arlington, Virginia, we're seasoned entrepreneurs who are passionate about solving real world problems through open data and open Web standards.                                                                                                                                                                                                                                                          \n",
       "1  The company mission is to provide finance to small business. We also provide financing to small business with bad credit too on the basis of future credit.                                                                                                                                                                                                                                                                                                                                                                                                                                                                                                     \n",
       "2  At 5PSolutions, we wish to make all basic information of different categories easily available to via tablets or phones.                                                                                                                                                                                                                                                                                                                                                                                                                                                                                                                                        \n",
       "3  Abt Associates is a mission-driven, international company conducting research and program implementation in the fields of health, social and environmental policy, and international development. The company has multiple offices in the U.S. and program offices in more than 40 countries.                                                                                                                                                                                                                                                                                                                                                                   \n",
       "4  Accela powers thousands of services and millions of transactions for more than 500 public agencies worldwide, enabling governments to connect with citizens and streamline processes related to land management, asset management, licensing, and public health & safety. Accela addresses a broad range of agency, business and citizen needs, and includes built-in payment, scheduling, compliance and information transparency. Together with our partners, Accela can custom-tailor solutions based on precise agency specifications, or deploy packaged solutions based on best practice templates and pre-defined services in a matter of a few weeks.   \n",
       "\n",
       "        company_category  category_id  \n",
       "0  Data/Technology        0            \n",
       "1  Finance & Investment   1            \n",
       "2  Data/Technology        0            \n",
       "3  Research & Consulting  2            \n",
       "4  Governance             3            "
      ]
     },
     "execution_count": 498,
     "metadata": {},
     "output_type": "execute_result"
    }
   ],
   "source": [
    "## encode the categories as integers\n",
    "\n",
    "desc_ind['category_id']=df['company_category'].factorize()[0]\n",
    "category_id_df = desc_ind[['company_category', 'category_id']].drop_duplicates().sort_values('category_id')\n",
    "\n",
    "## create mapping on category_to_id and id_to_category\n",
    "category_to_id = dict(category_id_df.values)\n",
    "id_to_category = dict(category_id_df[['category_id', 'company_category']].values)\n",
    "desc_ind.head()"
   ]
  },
  {
   "cell_type": "markdown",
   "metadata": {},
   "source": [
    "#### Text Pre-Processing"
   ]
  },
  {
   "cell_type": "code",
   "execution_count": 499,
   "metadata": {},
   "outputs": [],
   "source": [
    "## removing html tags\n",
    "def remove_html_tag(text):\n",
    "    tag_re = re.compile(r'<[^>]+>')\n",
    "    text = tag_re.sub('', text)\n",
    "    text = text.replace(\"\\n\",\"\")\n",
    "    return text"
   ]
  },
  {
   "cell_type": "code",
   "execution_count": 500,
   "metadata": {},
   "outputs": [],
   "source": [
    "## expanding contractions\n",
    "import re\n",
    "from contractions import CONTRACTION_MAP\n",
    "\n",
    "def expand_contractions(text, contraction_mapping=CONTRACTION_MAP):\n",
    "    \n",
    "    contractions_pattern = re.compile('({})'.format('|'.join(contraction_mapping.keys())), \n",
    "                                      flags=re.IGNORECASE|re.DOTALL)\n",
    "    def expand_match(contraction):\n",
    "        match = contraction.group(0)\n",
    "        first_char = match[0]\n",
    "        expanded_contraction = contraction_mapping.get(match)\\\n",
    "                                if contraction_mapping.get(match)\\\n",
    "                                else contraction_mapping.get(match.lower())                       \n",
    "        expanded_contraction = first_char+expanded_contraction[1:]\n",
    "        return expanded_contraction\n",
    "        \n",
    "    expanded_text = contractions_pattern.sub(expand_match, text)\n",
    "    expanded_text = re.sub(\"'\", \"\", expanded_text)\n",
    "    return expanded_text"
   ]
  },
  {
   "cell_type": "code",
   "execution_count": 501,
   "metadata": {},
   "outputs": [],
   "source": [
    "## removing accented characters\n",
    "import unicodedata\n",
    "def remove_accented_chars(text):\n",
    "    text = unicodedata.normalize('NFKD', text).encode('ascii', 'ignore').decode('utf-8', 'ignore')\n",
    "    return text"
   ]
  },
  {
   "cell_type": "code",
   "execution_count": 502,
   "metadata": {},
   "outputs": [],
   "source": [
    "## removing special characters\n",
    "def remove_special_characters(text):\n",
    "    text = re.sub('[^a-zA-Z0-9\\s]', '', text)\n",
    "    return text"
   ]
  },
  {
   "cell_type": "code",
   "execution_count": 503,
   "metadata": {},
   "outputs": [],
   "source": [
    "## lemmatizing text\n",
    "def lemmatize_text(text):\n",
    "    text = nlp(text)\n",
    "    text = ' '.join([word.lemma_ if word.lemma_!='-PRON-' else word.text for word in text])\n",
    "    return text"
   ]
  },
  {
   "cell_type": "code",
   "execution_count": 504,
   "metadata": {},
   "outputs": [],
   "source": [
    "## removing stopwords:\n",
    "import nltk\n",
    "from nltk.tokenize.toktok import ToktokTokenizer\n",
    "tokenizer = ToktokTokenizer()\n",
    "stopword_list = nltk.corpus.stopwords.words('english')\n",
    "#stopword_list.remove('no')\n",
    "#stopword_list.remove('not')\n",
    "\n",
    "def remove_stopwords(text, is_lower_case=False):\n",
    "    tokens = tokenizer.tokenize(text)\n",
    "    tokens = [token.strip() for token in tokens]\n",
    "    if is_lower_case:\n",
    "        filtered_tokens = [token for token in tokens if token not in stopword_list]\n",
    "    else:\n",
    "        filtered_tokens = [token for token in tokens if token.lower() not in stopword_list]\n",
    "    filtered_text = ' '.join(filtered_tokens)\n",
    "    return filtered_text"
   ]
  },
  {
   "cell_type": "code",
   "execution_count": 505,
   "metadata": {},
   "outputs": [],
   "source": [
    "## Normalize text corpus - altogether\n",
    "def normalize_corpus(corpus, html_tag_removal=True, accented_char_removal=True, contraction_expansion=True, text_lower_case=True, text_lemmatization=True, \n",
    "                    special_char_removal=True, stopword_removal=True):\n",
    "    normalized_corpus = []\n",
    "    for doc in corpus:\n",
    "        if html_tag_removal:\n",
    "            doc = remove_html_tag(doc)\n",
    "        if accented_char_removal:\n",
    "            doc = remove_accented_chars(doc)\n",
    "        if contraction_expansion:\n",
    "            doc = expand_contractions(doc)\n",
    "        if text_lower_case:\n",
    "            doc = doc.lower()\n",
    "        if text_lemmatization:\n",
    "            doc = lemmatize_text(doc)\n",
    "        if special_char_removal:\n",
    "            doc = remove_special_characters(doc)\n",
    "        ## remove extra white spaces\n",
    "        doc = re.sub(' +', ' ', doc)\n",
    "        if stopword_removal:\n",
    "            doc = remove_stopwords(doc, is_lower_case=text_lower_case)\n",
    "        \n",
    "        normalized_corpus.append(doc)\n",
    "    return normalized_corpus"
   ]
  },
  {
   "cell_type": "code",
   "execution_count": 506,
   "metadata": {},
   "outputs": [
    {
     "data": {
      "text/html": [
       "<div>\n",
       "<style scoped>\n",
       "    .dataframe tbody tr th:only-of-type {\n",
       "        vertical-align: middle;\n",
       "    }\n",
       "\n",
       "    .dataframe tbody tr th {\n",
       "        vertical-align: top;\n",
       "    }\n",
       "\n",
       "    .dataframe thead th {\n",
       "        text-align: right;\n",
       "    }\n",
       "</style>\n",
       "<table border=\"1\" class=\"dataframe\">\n",
       "  <thead>\n",
       "    <tr style=\"text-align: right;\">\n",
       "      <th></th>\n",
       "      <th>description</th>\n",
       "      <th>company_category</th>\n",
       "      <th>category_id</th>\n",
       "      <th>normalized_description</th>\n",
       "    </tr>\n",
       "  </thead>\n",
       "  <tbody>\n",
       "    <tr>\n",
       "      <th>0</th>\n",
       "      <td>3 Round Stones produces a platform for publishing data on the Web. 3 Round Stones provides commercial support for the Callimachus Data Platform, used by the Fortune 2000 and US Government Agencies publishing and consuming data.  Headquartered in Arlington, Virginia, we're seasoned entrepreneurs who are passionate about solving real world problems through open data and open Web standards.</td>\n",
       "      <td>Data/Technology</td>\n",
       "      <td>0</td>\n",
       "      <td>3 round stone produce platform publish datum web 3 round stone provide commercial support callimachus data platform use fortune 2000 us government agency publish consume datum headquarter arlington virginia season entrepreneur passionate solve real world problem open datum open web standard</td>\n",
       "    </tr>\n",
       "    <tr>\n",
       "      <th>1</th>\n",
       "      <td>The company mission is to provide finance to small business. We also provide financing to small business with bad credit too on the basis of future credit.</td>\n",
       "      <td>Finance &amp; Investment</td>\n",
       "      <td>1</td>\n",
       "      <td>company mission provide finance small business also provide financing small business bad credit basis future credit</td>\n",
       "    </tr>\n",
       "    <tr>\n",
       "      <th>2</th>\n",
       "      <td>At 5PSolutions, we wish to make all basic information of different categories easily available to via tablets or phones.</td>\n",
       "      <td>Data/Technology</td>\n",
       "      <td>0</td>\n",
       "      <td>5psolutions wish make basic information different category easily available via tablet phone</td>\n",
       "    </tr>\n",
       "    <tr>\n",
       "      <th>3</th>\n",
       "      <td>Abt Associates is a mission-driven, international company conducting research and program implementation in the fields of health, social and environmental policy, and international development. The company has multiple offices in the U.S. and program offices in more than 40 countries.</td>\n",
       "      <td>Research &amp; Consulting</td>\n",
       "      <td>2</td>\n",
       "      <td>abt associate mission drive international company conduct research program implementation field health social environmental policy international development company multiple office us program office 40 country</td>\n",
       "    </tr>\n",
       "    <tr>\n",
       "      <th>4</th>\n",
       "      <td>Accela powers thousands of services and millions of transactions for more than 500 public agencies worldwide, enabling governments to connect with citizens and streamline processes related to land management, asset management, licensing, and public health &amp; safety. Accela addresses a broad range of agency, business and citizen needs, and includes built-in payment, scheduling, compliance and information transparency. Together with our partners, Accela can custom-tailor solutions based on precise agency specifications, or deploy packaged solutions based on best practice templates and pre-defined services in a matter of a few weeks.</td>\n",
       "      <td>Governance</td>\n",
       "      <td>3</td>\n",
       "      <td>accela power thousand service million transaction 500 public agency worldwide enable government connect citizen streamline process relate land management asset management licensing public health safety accela address broad range agency business citizen need include build payment scheduling compliance information transparency together partner accela custom tailor solution base precise agency specification deploy package solution base good practice template pre define service matter week</td>\n",
       "    </tr>\n",
       "  </tbody>\n",
       "</table>\n",
       "</div>"
      ],
      "text/plain": [
       "                                                                                                                                                                                                                                                                                                                                                                                                                                                                                                                                                                                                                                                     description  \\\n",
       "0  3 Round Stones produces a platform for publishing data on the Web. 3 Round Stones provides commercial support for the Callimachus Data Platform, used by the Fortune 2000 and US Government Agencies publishing and consuming data.  Headquartered in Arlington, Virginia, we're seasoned entrepreneurs who are passionate about solving real world problems through open data and open Web standards.                                                                                                                                                                                                                                                          \n",
       "1  The company mission is to provide finance to small business. We also provide financing to small business with bad credit too on the basis of future credit.                                                                                                                                                                                                                                                                                                                                                                                                                                                                                                     \n",
       "2  At 5PSolutions, we wish to make all basic information of different categories easily available to via tablets or phones.                                                                                                                                                                                                                                                                                                                                                                                                                                                                                                                                        \n",
       "3  Abt Associates is a mission-driven, international company conducting research and program implementation in the fields of health, social and environmental policy, and international development. The company has multiple offices in the U.S. and program offices in more than 40 countries.                                                                                                                                                                                                                                                                                                                                                                   \n",
       "4  Accela powers thousands of services and millions of transactions for more than 500 public agencies worldwide, enabling governments to connect with citizens and streamline processes related to land management, asset management, licensing, and public health & safety. Accela addresses a broad range of agency, business and citizen needs, and includes built-in payment, scheduling, compliance and information transparency. Together with our partners, Accela can custom-tailor solutions based on precise agency specifications, or deploy packaged solutions based on best practice templates and pre-defined services in a matter of a few weeks.   \n",
       "\n",
       "        company_category  category_id  \\\n",
       "0  Data/Technology        0             \n",
       "1  Finance & Investment   1             \n",
       "2  Data/Technology        0             \n",
       "3  Research & Consulting  2             \n",
       "4  Governance             3             \n",
       "\n",
       "                                                                                                                                                                                                                                                                                                                                                                                                                                                                                       normalized_description  \n",
       "0  3 round stone produce platform publish datum web 3 round stone provide commercial support callimachus data platform use fortune 2000 us government agency publish consume datum headquarter arlington virginia season entrepreneur passionate solve real world problem open datum open web standard                                                                                                                                                                                                         \n",
       "1  company mission provide finance small business also provide financing small business bad credit basis future credit                                                                                                                                                                                                                                                                                                                                                                                         \n",
       "2  5psolutions wish make basic information different category easily available via tablet phone                                                                                                                                                                                                                                                                                                                                                                                                                \n",
       "3  abt associate mission drive international company conduct research program implementation field health social environmental policy international development company multiple office us program office 40 country                                                                                                                                                                                                                                                                                           \n",
       "4  accela power thousand service million transaction 500 public agency worldwide enable government connect citizen streamline process relate land management asset management licensing public health safety accela address broad range agency business citizen need include build payment scheduling compliance information transparency together partner accela custom tailor solution base precise agency specification deploy package solution base good practice template pre define service matter week  "
      ]
     },
     "execution_count": 506,
     "metadata": {},
     "output_type": "execute_result"
    }
   ],
   "source": [
    "## Normalize company description\n",
    "description = desc_ind['description']\n",
    "normalized_description = normalize_corpus(description)\n",
    "desc_ind['normalized_description'] = normalized_description\n",
    "desc_ind.head()"
   ]
  },
  {
   "cell_type": "markdown",
   "metadata": {},
   "source": [
    "#### EDA"
   ]
  },
  {
   "cell_type": "code",
   "execution_count": 507,
   "metadata": {
    "scrolled": true
   },
   "outputs": [
    {
     "data": {
      "image/png": "[encoded data removed]",
      "text/plain": [
       "<Figure size 864x288 with 1 Axes>"
      ]
     },
     "metadata": {
      "needs_background": "light"
     },
     "output_type": "display_data"
    }
   ],
   "source": [
    "## number of companies in each company_category\n",
    "fig, ax = plt.subplots(figsize=(12,4))\n",
    "co_in_cat = desc_ind.company_category.value_counts()\n",
    "_ = sns.barplot(x=co_in_cat.index, y=co_in_cat, ax=ax)\n",
    "for i in _.get_xticklabels():\n",
    "    i.set_rotation(90)"
   ]
  },
  {
   "cell_type": "markdown",
   "metadata": {},
   "source": [
    "We notice that the data is imbalanced, with most of the companies in the Data/Technology & Finance & Investment group."
   ]
  },
  {
   "cell_type": "code",
   "execution_count": 508,
   "metadata": {
    "scrolled": false
   },
   "outputs": [
    {
     "data": {
      "image/png": "[encoded data removed]",
      "text/plain": [
       "<Figure size 864x288 with 1 Axes>"
      ]
     },
     "metadata": {
      "needs_background": "light"
     },
     "output_type": "display_data"
    }
   ],
   "source": [
    "## word counts\n",
    "all_words = desc_ind.normalized_description.str.split(expand=True).unstack().value_counts()\n",
    "fig, ax = plt.subplots(figsize=(12,4))\n",
    "_ = sns.barplot(x=all_words.index[0:50], y=all_words[0:50], ax=ax)\n",
    "plt.title('Top 50 Word Frequencies in the Dataset')\n",
    "for i in _.get_xticklabels():\n",
    "    i.set_rotation(90)"
   ]
  },
  {
   "cell_type": "code",
   "execution_count": 509,
   "metadata": {},
   "outputs": [
    {
     "data": {
      "text/plain": [
       "Text(0, 0.5, 'frequency')"
      ]
     },
     "execution_count": 509,
     "metadata": {},
     "output_type": "execute_result"
    },
    {
     "data": {
      "image/png": "[encoded data removed]",
      "text/plain": [
       "<Figure size 432x288 with 1 Axes>"
      ]
     },
     "metadata": {
      "needs_background": "light"
     },
     "output_type": "display_data"
    }
   ],
   "source": [
    "word_count = all_words.value_counts().sort_index()\n",
    "plt.plot(np.cumsum(word_count).head(30))\n",
    "plt.xlabel('word count')\n",
    "plt.ylabel('frequency')"
   ]
  },
  {
   "cell_type": "markdown",
   "metadata": {},
   "source": [
    "#### Text Exploration"
   ]
  },
  {
   "cell_type": "markdown",
   "metadata": {},
   "source": [
    "Let's first explore the words in the corpus. I'm interested in both the most frequen unigram & bigram words."
   ]
  },
  {
   "cell_type": "code",
   "execution_count": 510,
   "metadata": {},
   "outputs": [
    {
     "data": {
      "text/plain": [
       "(524, 3651)"
      ]
     },
     "execution_count": 510,
     "metadata": {},
     "output_type": "execute_result"
    }
   ],
   "source": [
    "from sklearn.feature_extraction.text import TfidfVectorizer\n",
    "\n",
    "tfidf = TfidfVectorizer(sublinear_tf=True, min_df=2, ngram_range=(1,2))\n",
    "features = tfidf.fit_transform(desc_ind['normalized_description']).toarray()\n",
    "labels = desc_ind.category_id\n",
    "features.shape"
   ]
  },
  {
   "cell_type": "markdown",
   "metadata": {},
   "source": [
    "each of the 524 descriptions is represented by 3651 features."
   ]
  },
  {
   "cell_type": "code",
   "execution_count": 511,
   "metadata": {
    "scrolled": true
   },
   "outputs": [
    {
     "name": "stdout",
     "output_type": "stream",
     "text": [
      "# 'Business & Legal Services':\n",
      "  . Most correlated unigrams:\n",
      ". background\n",
      ". docket\n",
      ". attorney\n",
      ". lawyer\n",
      ". legal\n",
      "  . Most correlated bigrams:\n",
      ". business large\n",
      ". service solution\n",
      ". resource help\n",
      ". background check\n",
      ". individual business\n",
      "# 'Data/Technology':\n",
      "  . Most correlated unigrams:\n",
      ". datum\n",
      ". extract\n",
      ". explore\n",
      ". enterprise\n",
      ". demographic\n",
      "  . Most correlated bigrams:\n",
      ". enterprise software\n",
      ". base application\n",
      ". enterprise datum\n",
      ". complex datum\n",
      ". business intelligence\n",
      "# 'Education':\n",
      "  . Most correlated unigrams:\n",
      ". education\n",
      ". teacher\n",
      ". aid\n",
      ". college\n",
      ". student\n",
      "  . Most correlated bigrams:\n",
      ". help parent\n",
      ". help student\n",
      ". school teacher\n",
      ". financial aid\n",
      ". student college\n",
      "# 'Energy':\n",
      "  . Most correlated unigrams:\n",
      ". grid\n",
      ". utility\n",
      ". electricity\n",
      ". solar\n",
      ". energy\n",
      "  . Most correlated bigrams:\n",
      ". energy service\n",
      ". energy company\n",
      ". energy efficiency\n",
      ". energy datum\n",
      ". energy management\n",
      "# 'Environment & Weather':\n",
      "  . Most correlated unigrams:\n",
      ". newspaper\n",
      ". carbon\n",
      ". detection\n",
      ". forecast\n",
      ". weather\n",
      "  . Most correlated bigrams:\n",
      ". business government\n",
      ". user well\n",
      ". 20 year\n",
      ". solution business\n",
      ". app deliver\n",
      "# 'Finance & Investment':\n",
      "  . Most correlated unigrams:\n",
      ". capital\n",
      ". credit\n",
      ". investor\n",
      ". financial\n",
      ". investment\n",
      "  . Most correlated bigrams:\n",
      ". financial information\n",
      ". global financial\n",
      ". individual investor\n",
      ". credit rating\n",
      ". institutional client\n",
      "# 'Food & Agriculture':\n",
      "  . Most correlated unigrams:\n",
      ". profitable\n",
      ". crop\n",
      ". farming\n",
      ". farmer\n",
      ". food\n",
      "  . Most correlated bigrams:\n",
      ". efficiency increase\n",
      ". market need\n",
      ". health technology\n",
      ". available market\n",
      ". find local\n",
      "# 'Geospatial/Mapping':\n",
      "  . Most correlated unigrams:\n",
      ". geographic\n",
      ". geospatial\n",
      ". marine\n",
      ". navigation\n",
      ". map\n",
      "  . Most correlated bigrams:\n",
      ". web mapping\n",
      ". navigation service\n",
      ". location base\n",
      ". datum collection\n",
      ". map datum\n",
      "# 'Governance':\n",
      "  . Most correlated unigrams:\n",
      ". democracy\n",
      ". government\n",
      ". civic\n",
      ". legislative\n",
      ". citizen\n",
      "  . Most correlated bigrams:\n",
      ". old problem\n",
      ". government transparency\n",
      ". code america\n",
      ". civic technology\n",
      ". local government\n",
      "# 'Healthcare':\n",
      "  . Most correlated unigrams:\n",
      ". healthcare\n",
      ". disease\n",
      ". health\n",
      ". care\n",
      ". patient\n",
      "  . Most correlated bigrams:\n",
      ". personal health\n",
      ". health record\n",
      ". clinical trial\n",
      ". care provider\n",
      ". health plan\n",
      "# 'Housing/Real Estate':\n",
      "  . Most correlated unigrams:\n",
      ". real\n",
      ". home\n",
      ". listing\n",
      ". permit\n",
      ". estate\n",
      "  . Most correlated bigrams:\n",
      ". sell home\n",
      ". home improvement\n",
      ". estate professional\n",
      ". estate agent\n",
      ". real estate\n",
      "# 'Insurance':\n",
      "  . Most correlated unigrams:\n",
      ". boat\n",
      ". insurer\n",
      ". watercraft\n",
      ". casualty\n",
      ". insurance\n",
      "  . Most correlated bigrams:\n",
      ". independent agent\n",
      ". million customer\n",
      ". property casualty\n",
      ". auto insurance\n",
      ". insurance financial\n",
      "# 'Lifestyle & Consumer':\n",
      "  . Most correlated unigrams:\n",
      ". foursquare\n",
      ". lifestyle\n",
      ". loss\n",
      ". eat\n",
      ". weight\n",
      "  . Most correlated bigrams:\n",
      ". good product\n",
      ". home address\n",
      ". use mobile\n",
      ". mobile cloud\n",
      ". weight loss\n",
      "# 'Research & Consulting':\n",
      "  . Most correlated unigrams:\n",
      ". firm\n",
      ". study\n",
      ". citizenry\n",
      ". measurement\n",
      ". consulting\n",
      "  . Most correlated bigrams:\n",
      ". combine deep\n",
      ". private public\n",
      ". global management\n",
      ". consulting firm\n",
      ". management consulting\n",
      "# 'Scientific Research':\n",
      "  . Most correlated unigrams:\n",
      ". drug\n",
      ". discovery\n",
      ". genetic\n",
      ". cancer\n",
      ". chemical\n",
      "  . Most correlated bigrams:\n",
      ". discovery development\n",
      ". research organization\n",
      ". life science\n",
      ". genomic datum\n",
      ". drug discovery\n",
      "# 'Transportation':\n",
      "  . Most correlated unigrams:\n",
      ". move\n",
      ". moving\n",
      ". storage\n",
      ". van\n",
      ". relocation\n",
      "  . Most correlated bigrams:\n",
      ". moving storage\n",
      ". relocation company\n",
      ". long distance\n",
      ". storage service\n",
      ". van line\n"
     ]
    }
   ],
   "source": [
    "from sklearn.feature_selection import chi2\n",
    "\n",
    "N = 5\n",
    "for indcode, category_id in sorted(category_to_id.items()):\n",
    "    features_chi2 = chi2(features, labels == category_id)\n",
    "    indices = np.argsort(features_chi2[0])\n",
    "    feature_names = np.array(tfidf.get_feature_names())[indices]\n",
    "    unigrams = [v for v in feature_names if len(v.split(' ')) == 1]\n",
    "    bigrams = [v for v in feature_names if len(v.split(' ')) == 2]\n",
    "    print(\"# '{}':\".format(indcode))\n",
    "    print(\"  . Most correlated unigrams:\\n. {}\".format('\\n. '.join(unigrams[-N:])))\n",
    "    print(\"  . Most correlated bigrams:\\n. {}\".format('\\n. '.join(bigrams[-N:])))"
   ]
  },
  {
   "cell_type": "markdown",
   "metadata": {},
   "source": [
    "#### Baseline Model"
   ]
  },
  {
   "cell_type": "markdown",
   "metadata": {},
   "source": [
    "First try Naive Bayes as the baseline model. Before I start building the model. "
   ]
  },
  {
   "cell_type": "code",
   "execution_count": 512,
   "metadata": {},
   "outputs": [],
   "source": [
    "from sklearn.naive_bayes import MultinomialNB\n",
    "from sklearn.feature_extraction.text import TfidfVectorizer\n",
    "from sklearn.feature_extraction.text import CountVectorizer\n",
    "from sklearn.model_selection import train_test_split"
   ]
  },
  {
   "cell_type": "code",
   "execution_count": 513,
   "metadata": {},
   "outputs": [],
   "source": [
    "X = desc_ind['normalized_description']\n",
    "y = desc_ind['company_category']\n",
    "X_train, X_test, y_train, y_test = train_test_split(X, y, test_size=0.33, random_state=0)"
   ]
  },
  {
   "cell_type": "code",
   "execution_count": 514,
   "metadata": {},
   "outputs": [],
   "source": [
    "#cv = CountVectorizer()\n",
    "tfidf = TfidfVectorizer(sublinear_tf=True, min_df=5, ngram_range=(1,5))\n",
    "X_train_tfidf = tfidf.fit_transform(X_train)\n",
    "X_test_tfidf = tfidf.transform(X_test)\n",
    "#X_train_cv = cv.fit_transform(X_train)\n",
    "#X_test_cv= cv.transform(X_test)"
   ]
  },
  {
   "cell_type": "code",
   "execution_count": 515,
   "metadata": {},
   "outputs": [
    {
     "name": "stdout",
     "output_type": "stream",
     "text": [
      "class_check_woSMOTE:  Counter({'Data/Technology': 66, 'Finance & Investment': 52, 'Governance': 29, 'Healthcare': 25, 'Business & Legal Services': 25, 'Energy': 21, 'Transportation': 20, 'Research & Consulting': 19, 'Housing/Real Estate': 17, 'Geospatial/Mapping': 16, 'Lifestyle & Consumer': 16, 'Education': 14, 'Scientific Research': 12, 'Environment & Weather': 8, 'Insurance': 6, 'Food & Agriculture': 5})\n",
      "class_check_words:  Counter({'Finance & Investment': 66, 'Geospatial/Mapping': 66, 'Environment & Weather': 66, 'Housing/Real Estate': 66, 'Transportation': 66, 'Education': 66, 'Food & Agriculture': 66, 'Scientific Research': 66, 'Healthcare': 66, 'Insurance': 66, 'Governance': 66, 'Energy': 66, 'Data/Technology': 66, 'Business & Legal Services': 66, 'Research & Consulting': 66, 'Lifestyle & Consumer': 66})\n"
     ]
    }
   ],
   "source": [
    "## balance the training set\n",
    "\n",
    "from imblearn.over_sampling import SMOTE\n",
    "sm = SMOTE(k_neighbors=4, random_state=12)\n",
    "X_sm, y_sm = sm.fit_sample(X_train_tfidf, y_train)\n",
    "#X_sm, y_sm = sm.fit_sample(X_train_cv, y_train)\n",
    "\n",
    "#Count the number of occurences in the y_train sets to ensure that the oversampling worked \n",
    "from collections import Counter\n",
    "class_check_woSMOTE = Counter(y_train)\n",
    "class_check_words = Counter(y_sm)\n",
    "print('class_check_woSMOTE: ', class_check_woSMOTE)\n",
    "print('class_check_words: ', class_check_words)"
   ]
  },
  {
   "cell_type": "code",
   "execution_count": 516,
   "metadata": {},
   "outputs": [],
   "source": [
    "clf = MultinomialNB().fit(X_sm, y_sm)"
   ]
  },
  {
   "cell_type": "code",
   "execution_count": 517,
   "metadata": {
    "scrolled": true
   },
   "outputs": [
    {
     "name": "stdout",
     "output_type": "stream",
     "text": [
      "exversion aim improve accessibility usability datum believe future comparatively small well assemble thoroughly document data set exversion allow search 140000 dataset consume one api upload datum collaborate publish share version control community\n",
      "\n",
      "blackrock offer mutual fund closed end fund manage account alternative investment individual institution financial professional mission create good financial future client\n",
      "\n",
      "high medical bill lead personal bankruptcy usa primary lack price quality transparency medical industry two provider maryland charge significantly different price procedure quality care patient typically know cost procedure receive billcomparedcare found 2013 goal provide patient ability compare cost care among provider within area user may upload input medical bill information anonymously without phi personally identifiable information comparedcare medical bill repository patient actively search cost medical procedure within area comparison well read physician review submit patient one stop shop medical pricing patient\n"
     ]
    }
   ],
   "source": [
    "## a little test\n",
    "print(desc_ind['normalized_description'][160])\n",
    "print(\"\")\n",
    "print(desc_ind['normalized_description'][50])\n",
    "print(\"\")\n",
    "print(desc_ind['normalized_description'][105])"
   ]
  },
  {
   "cell_type": "code",
   "execution_count": 518,
   "metadata": {},
   "outputs": [
    {
     "name": "stdout",
     "output_type": "stream",
     "text": [
      "Data/Technology\n",
      "Finance & Investment\n",
      "Healthcare\n"
     ]
    }
   ],
   "source": [
    "print(desc_ind['company_category'][160])\n",
    "print(desc_ind['company_category'][50])\n",
    "print(desc_ind['company_category'][105])"
   ]
  },
  {
   "cell_type": "code",
   "execution_count": 519,
   "metadata": {},
   "outputs": [
    {
     "name": "stdout",
     "output_type": "stream",
     "text": [
      "['Data/Technology']\n",
      "['Finance & Investment']\n",
      "['Healthcare']\n"
     ]
    }
   ],
   "source": [
    "print(clf.predict(tfidf.transform([\"exversion aim improve accessibility usability datum believe future comparatively small well assemble thoroughly document data set exversion allow search 140000 dataset consume one api upload datum collaborate publish share version control community\"])))\n",
    "print(clf.predict(tfidf.transform([\"blackrock offer mutual fund closed end fund manage account alternative investment individual institution financial professional mission create good financial future client\"])))\n",
    "print(clf.predict(tfidf.transform([\"high medical bill lead personal bankruptcy usa primary lack price quality transparency medical industry two provider maryland charge significantly different price procedure quality care patient typically know cost procedure receive bill comparedcare found 2013 goal provide patient ability compare cost care among provider within area user may upload input medical bill information anonymously without phi personally identifiable information comparedcare medical bill repository patient actively search cost medical procedure within area comparison well read physician review submit patient one stop shop medical pricing patient\"])))"
   ]
  },
  {
   "cell_type": "code",
   "execution_count": 520,
   "metadata": {},
   "outputs": [],
   "source": [
    "## not too bad"
   ]
  },
  {
   "cell_type": "code",
   "execution_count": 521,
   "metadata": {},
   "outputs": [
    {
     "name": "stdout",
     "output_type": "stream",
     "text": [
      "Accuracy on training set:  0.9287749287749287\n",
      "Accuracy on test set:  0.5549132947976878\n"
     ]
    }
   ],
   "source": [
    "from sklearn import metrics\n",
    "from sklearn.metrics import confusion_matrix\n",
    "\n",
    "y_predict_train = clf.predict(X_train_tfidf)\n",
    "y_predict = clf.predict(X_test_tfidf)\n",
    "print('Accuracy on training set: ', metrics.accuracy_score(y_train, y_predict_train))\n",
    "print('Accuracy on test set: ', metrics.accuracy_score(y_test, y_predict))"
   ]
  },
  {
   "cell_type": "code",
   "execution_count": 522,
   "metadata": {
    "scrolled": true
   },
   "outputs": [
    {
     "name": "stdout",
     "output_type": "stream",
     "text": [
      "173\n"
     ]
    },
    {
     "data": {
      "image/png": "[encoded data removed]",
      "text/plain": [
       "<Figure size 432x288 with 1 Axes>"
      ]
     },
     "metadata": {
      "needs_background": "light"
     },
     "output_type": "display_data"
    }
   ],
   "source": [
    "mat = confusion_matrix(y_test, y_predict)\n",
    "sns.heatmap(mat.T, square=True, annot=True, fmt='d', cbar=False, xticklabels=clf.classes_, yticklabels=clf.classes_)\n",
    "plt.xlabel('true label')\n",
    "plt.ylabel('predicted label')\n",
    "print(len(y_test))"
   ]
  },
  {
   "cell_type": "markdown",
   "metadata": {},
   "source": [
    "#### Model Selection"
   ]
  },
  {
   "cell_type": "code",
   "execution_count": 523,
   "metadata": {},
   "outputs": [
    {
     "data": {
      "image/png": "[encoded data removed]",
      "text/plain": [
       "<Figure size 432x288 with 1 Axes>"
      ]
     },
     "metadata": {
      "needs_background": "light"
     },
     "output_type": "display_data"
    }
   ],
   "source": [
    "from sklearn.linear_model import LogisticRegression\n",
    "from sklearn.ensemble import RandomForestClassifier\n",
    "from sklearn.svm import LinearSVC\n",
    "from sklearn.model_selection import cross_val_score\n",
    "\n",
    "\n",
    "models = [\n",
    "    RandomForestClassifier(n_estimators=200, max_depth=3, random_state=0),\n",
    "    LinearSVC(),\n",
    "    MultinomialNB(),\n",
    "    LogisticRegression(random_state=0),\n",
    "]\n",
    "cv = 5\n",
    "cv_df = pd.DataFrame(index=range(cv * len(models)))\n",
    "entries = []\n",
    "for model in models:\n",
    "    model_name = model.__class__.__name__\n",
    "    accuracies = cross_val_score(model, features, labels, scoring='accuracy', cv=cv)\n",
    "    for fold_idx, accuracy in enumerate(accuracies):\n",
    "        entries.append((model_name, fold_idx, accuracy))\n",
    "cv_df = pd.DataFrame(entries, columns=['model_name', 'fold_idx', 'accuracy'])\n",
    "\n",
    "import seaborn as sns\n",
    "\n",
    "sns.boxplot(x='model_name', y='accuracy', data=cv_df)\n",
    "sns.stripplot(x='model_name', y='accuracy', data=cv_df, \n",
    "              size=8, jitter=True, edgecolor=\"gray\", linewidth=2)\n",
    "plt.show()\n"
   ]
  },
  {
   "cell_type": "code",
   "execution_count": 524,
   "metadata": {},
   "outputs": [
    {
     "data": {
      "text/plain": [
       "model_name\n",
       "LinearSVC                 0.592259\n",
       "LogisticRegression        0.387188\n",
       "MultinomialNB             0.291150\n",
       "RandomForestClassifier    0.239195\n",
       "Name: accuracy, dtype: float64"
      ]
     },
     "execution_count": 524,
     "metadata": {},
     "output_type": "execute_result"
    }
   ],
   "source": [
    "cv_df.groupby('model_name').accuracy.mean()"
   ]
  },
  {
   "cell_type": "code",
   "execution_count": 525,
   "metadata": {},
   "outputs": [],
   "source": [
    "##Best model"
   ]
  },
  {
   "cell_type": "code",
   "execution_count": 526,
   "metadata": {},
   "outputs": [],
   "source": [
    "X = desc_ind['normalized_description']\n",
    "y = desc_ind['category_id']\n",
    "X_train, X_test, y_train, y_test, indices_train, indices_test = train_test_split(X, y, desc_ind.index, test_size=0.33, random_state=0)"
   ]
  },
  {
   "cell_type": "code",
   "execution_count": 527,
   "metadata": {},
   "outputs": [],
   "source": [
    "tfidf = TfidfVectorizer(sublinear_tf=True, min_df=2, max_df=0.3, ngram_range=(1,3))\n",
    "X_train_tv = tfidf.fit_transform(X_train)\n",
    "X_test_tv = tfidf.transform(X_test)"
   ]
  },
  {
   "cell_type": "code",
   "execution_count": 528,
   "metadata": {},
   "outputs": [
    {
     "name": "stdout",
     "output_type": "stream",
     "text": [
      "class_check_woSMOTE:  Counter({0: 66, 1: 52, 3: 29, 5: 25, 6: 25, 11: 21, 8: 20, 2: 19, 14: 17, 7: 16, 13: 16, 10: 14, 12: 12, 4: 8, 9: 6, 15: 5})\n",
      "class_check_words:  Counter({0: 66, 1: 66, 2: 66, 3: 66, 4: 66, 5: 66, 6: 66, 7: 66, 8: 66, 9: 66, 10: 66, 11: 66, 12: 66, 13: 66, 14: 66, 15: 66})\n"
     ]
    }
   ],
   "source": [
    "from imblearn.over_sampling import SMOTE\n",
    "sm = SMOTE(k_neighbors=4, random_state=1)\n",
    "X_sm, y_sm = sm.fit_sample(X_train_tv, y_train)\n",
    "\n",
    "#Count the number of occurences in the y_train sets to ensure that the oversampling worked \n",
    "from collections import Counter\n",
    "class_check_woSMOTE = Counter(y_train)\n",
    "class_check_words = Counter(y_sm)\n",
    "print('class_check_woSMOTE: ', class_check_woSMOTE)\n",
    "print('class_check_words: ', class_check_words)"
   ]
  },
  {
   "cell_type": "code",
   "execution_count": 530,
   "metadata": {},
   "outputs": [],
   "source": [
    "model = LinearSVC()\n",
    "\n",
    "model.fit(X_sm, y_sm)\n",
    "y_pred = model.predict(X_test_tv)\n",
    "\n",
    "mat = confusion_matrix(y_test, y_pred)"
   ]
  },
  {
   "cell_type": "code",
   "execution_count": 531,
   "metadata": {
    "scrolled": false
   },
   "outputs": [
    {
     "name": "stdout",
     "output_type": "stream",
     "text": [
      "Accuracy on training set :  1.0\n",
      "Accuracy on test set:  0.6184971098265896\n"
     ]
    },
    {
     "data": {
      "image/png": "[encoded data removed]",
      "text/plain": [
       "<Figure size 432x288 with 1 Axes>"
      ]
     },
     "metadata": {
      "needs_background": "light"
     },
     "output_type": "display_data"
    }
   ],
   "source": [
    "categories = [id_to_category[x] for x in model.classes_]\n",
    "sns.heatmap(mat.T, square=True, annot=True, fmt='d', cbar=False, xticklabels=categories, yticklabels=categories)\n",
    "plt.xlabel('true label')\n",
    "plt.ylabel('predicted label')\n",
    "\n",
    "y_predict_train = model.predict(X_sm)\n",
    "y_predict = model.predict(X_test_tv)\n",
    "print('Accuracy on training set : ', metrics.accuracy_score(y_sm, y_predict_train))\n",
    "print('Accuracy on test set: ', metrics.accuracy_score(y_test, y_pred))"
   ]
  },
  {
   "cell_type": "code",
   "execution_count": 532,
   "metadata": {
    "scrolled": false
   },
   "outputs": [
    {
     "name": "stdout",
     "output_type": "stream",
     "text": [
      "                           precision    recall  f1-score   support\n",
      "\n",
      "          Data/Technology       0.55      0.71      0.62        31\n",
      "     Finance & Investment       0.59      0.74      0.65        23\n",
      "    Research & Consulting       0.60      0.33      0.43         9\n",
      "               Governance       0.50      0.43      0.46        14\n",
      "    Environment & Weather       0.50      0.33      0.40         3\n",
      "Business & Legal Services       0.67      0.50      0.57        20\n",
      "               Healthcare       0.72      0.81      0.76        16\n",
      "     Lifestyle & Consumer       0.25      0.12      0.17         8\n",
      "           Transportation       0.75      0.38      0.50         8\n",
      "                Insurance       1.00      0.40      0.57         5\n",
      "                Education       0.71      1.00      0.83         5\n",
      "                   Energy       0.78      1.00      0.88         7\n",
      "      Scientific Research       0.67      0.80      0.73         5\n",
      "       Geospatial/Mapping       0.89      0.57      0.70        14\n",
      "      Housing/Real Estate       0.40      1.00      0.57         4\n",
      "       Food & Agriculture       1.00      1.00      1.00         1\n",
      "\n",
      "                micro avg       0.62      0.62      0.62       173\n",
      "                macro avg       0.66      0.63      0.62       173\n",
      "             weighted avg       0.63      0.62      0.60       173\n",
      "\n"
     ]
    }
   ],
   "source": [
    "from sklearn.metrics import classification_report\n",
    "#target_names = ['rotten', 'fresh']\n",
    "print(classification_report(y_test, y_pred, target_names=list(id_to_category.values())))"
   ]
  },
  {
   "cell_type": "markdown",
   "metadata": {},
   "source": [
    "The vast majority of the predictions end up on the diagonal (predicted label = actual label), where we want them to be. But many other segments are predicted as Data/Technology. "
   ]
  },
  {
   "cell_type": "code",
   "execution_count": null,
   "metadata": {},
   "outputs": [],
   "source": [
    "## Find out the misclassifications"
   ]
  },
  {
   "cell_type": "code",
   "execution_count": 533,
   "metadata": {
    "scrolled": false
   },
   "outputs": [
    {
     "name": "stdout",
     "output_type": "stream",
     "text": [
      "'Governance' predicted as 'Data/Technology' : 4 examples.\n"
     ]
    },
    {
     "data": {
      "text/html": [
       "<div>\n",
       "<style scoped>\n",
       "    .dataframe tbody tr th:only-of-type {\n",
       "        vertical-align: middle;\n",
       "    }\n",
       "\n",
       "    .dataframe tbody tr th {\n",
       "        vertical-align: top;\n",
       "    }\n",
       "\n",
       "    .dataframe thead th {\n",
       "        text-align: right;\n",
       "    }\n",
       "</style>\n",
       "<table border=\"1\" class=\"dataframe\">\n",
       "  <thead>\n",
       "    <tr style=\"text-align: right;\">\n",
       "      <th></th>\n",
       "      <th>company_category</th>\n",
       "      <th>description</th>\n",
       "    </tr>\n",
       "  </thead>\n",
       "  <tbody>\n",
       "    <tr>\n",
       "      <th>206</th>\n",
       "      <td>Governance</td>\n",
       "      <td>We believe a strong nonprofit information infrastructure enables a social sector strong enough to tackle the great challenges of our time. GuideStar provides the key scaffolding - data, information, and knowledge - to enable effective philanthropy: better giving decisions, more effective programs, and measurable impact. We do that by gathering and disseminating information about every single IRS-registered nonprofit organization. We provide as much information as we can about each nonprofit's mission, legitimacy, impact, reputation, finances, programs, transparency, governance, and so much more. We do that so people can make the best decisions possible based on high-quality, comprehensive information.</td>\n",
       "    </tr>\n",
       "    <tr>\n",
       "      <th>424</th>\n",
       "      <td>Governance</td>\n",
       "      <td>SmartProcure is a provider of a government purchase history database. Our SaaS provides instant access to every field within any purchase order in our database of 60 million purchase orders at the local, state, and federal level. Government agencies use our system to find the best value for a product, connect to other government agencies, and conduct their own spend analytics. This is offered to government agencies at no cost. Government contractors can use the system (for an annual fee) to locate potential government clients and conduct market research.</td>\n",
       "    </tr>\n",
       "    <tr>\n",
       "      <th>440</th>\n",
       "      <td>Governance</td>\n",
       "      <td>SpotCrime is a crime mapping website in the US with over half a million subscribers to our alerts. We're a public-facing crime map and alert service that is also an advocate for open, equal, and fair access to public crime data.</td>\n",
       "    </tr>\n",
       "    <tr>\n",
       "      <th>319</th>\n",
       "      <td>Governance</td>\n",
       "      <td>nGAP develops and markets acquisition solutions for government and other large organizations. Their experience with government contracting requirements provides the insight needed to create the financial and operational control large organizations expect. Their solutions conform to the strict regulations that their customers are required to follow. In addition, they incorporate forms libraries so that their solutions produce outputs in formats that each agency requires and can use within their own legacy systems.\\n\\nnGAP developers are also experienced in integrating solutions with legacy and financial systems, thereby providing increased value and assisting customers with accomplishing their core missions. Sitting on top of our contracting and order processing functions is a comprehensive reporting capability that can house data from a multitude of systems and agencies. Using forensic and reporting tools, nGAP's customers can implement oversight objectives across and within all organizational elements.</td>\n",
       "    </tr>\n",
       "  </tbody>\n",
       "</table>\n",
       "</div>"
      ],
      "text/plain": [
       "    company_category  \\\n",
       "206  Governance        \n",
       "424  Governance        \n",
       "440  Governance        \n",
       "319  Governance        \n",
       "\n",
       "                                                                                                                                                                                                                                                                                                                                                                                                                                                                                                                                                                                                                                                                                                                                                                                                                                                                                                                                                                                                                                                    description  \n",
       "206  We believe a strong nonprofit information infrastructure enables a social sector strong enough to tackle the great challenges of our time. GuideStar provides the key scaffolding - data, information, and knowledge - to enable effective philanthropy: better giving decisions, more effective programs, and measurable impact. We do that by gathering and disseminating information about every single IRS-registered nonprofit organization. We provide as much information as we can about each nonprofit's mission, legitimacy, impact, reputation, finances, programs, transparency, governance, and so much more. We do that so people can make the best decisions possible based on high-quality, comprehensive information.                                                                                                                                                                                                                                                                                                                      \n",
       "424  SmartProcure is a provider of a government purchase history database. Our SaaS provides instant access to every field within any purchase order in our database of 60 million purchase orders at the local, state, and federal level. Government agencies use our system to find the best value for a product, connect to other government agencies, and conduct their own spend analytics. This is offered to government agencies at no cost. Government contractors can use the system (for an annual fee) to locate potential government clients and conduct market research.                                                                                                                                                                                                                                                                                                                                                                                                                                                                            \n",
       "440  SpotCrime is a crime mapping website in the US with over half a million subscribers to our alerts. We're a public-facing crime map and alert service that is also an advocate for open, equal, and fair access to public crime data.                                                                                                                                                                                                                                                                                                                                                                                                                                                                                                                                                                                                                                                                                                                                                                                                                        \n",
       "319  nGAP develops and markets acquisition solutions for government and other large organizations. Their experience with government contracting requirements provides the insight needed to create the financial and operational control large organizations expect. Their solutions conform to the strict regulations that their customers are required to follow. In addition, they incorporate forms libraries so that their solutions produce outputs in formats that each agency requires and can use within their own legacy systems.\\n\\nnGAP developers are also experienced in integrating solutions with legacy and financial systems, thereby providing increased value and assisting customers with accomplishing their core missions. Sitting on top of our contracting and order processing functions is a comprehensive reporting capability that can house data from a multitude of systems and agencies. Using forensic and reporting tools, nGAP's customers can implement oversight objectives across and within all organizational elements.  "
      ]
     },
     "metadata": {},
     "output_type": "display_data"
    },
    {
     "name": "stdout",
     "output_type": "stream",
     "text": [
      "\n",
      "'Business & Legal Services' predicted as 'Data/Technology' : 3 examples.\n"
     ]
    },
    {
     "data": {
      "text/html": [
       "<div>\n",
       "<style scoped>\n",
       "    .dataframe tbody tr th:only-of-type {\n",
       "        vertical-align: middle;\n",
       "    }\n",
       "\n",
       "    .dataframe tbody tr th {\n",
       "        vertical-align: top;\n",
       "    }\n",
       "\n",
       "    .dataframe thead th {\n",
       "        text-align: right;\n",
       "    }\n",
       "</style>\n",
       "<table border=\"1\" class=\"dataframe\">\n",
       "  <thead>\n",
       "    <tr style=\"text-align: right;\">\n",
       "      <th></th>\n",
       "      <th>company_category</th>\n",
       "      <th>description</th>\n",
       "    </tr>\n",
       "  </thead>\n",
       "  <tbody>\n",
       "    <tr>\n",
       "      <th>133</th>\n",
       "      <td>Business &amp; Legal Services</td>\n",
       "      <td>D&amp;B is a leading source of commercial information and insight on businesses, enabling companies to Decide with Confidence for 172 years. D&amp;B's global commercial database contains more than 225 million business records. The database is enhanced by D&amp;B's proprietary DUNSRight Quality Process, which provides our customers with quality business information to make critical business decisions.\\n\\nD&amp;B provides solution sets that meet a diverse set of customer needs globally. Customers use D&amp;B Risk Management Solutions to mitigate credit and supplier risk, increase cash flow and drive increased profitability; D&amp;B Sales &amp; Marketing Solutions to increase revenue from new and existing customers; and D&amp;B Internet Solutions to convert prospects into clients faster by enabling business professionals to research companies, executives and industries.</td>\n",
       "    </tr>\n",
       "    <tr>\n",
       "      <th>344</th>\n",
       "      <td>Business &amp; Legal Services</td>\n",
       "      <td>Oversight Systems, Inc. is a privately-held, Atlanta-based software company whose continuous transaction monitoring solutions help Fortune 500 companies in a variety of industries solve problems related to governance, risk and compliance. Oversight’s mission is to transform operational analysis. \\n\\n&lt;p&gt;Oversight Systems works with consulting firms and business-process experts to design new Insights On Demand. Companies share with us current processes for analyzing data and generating conclusions, and we translate those processes to our Operational Analysis Platform for the automated creation of Insights On Demand.&lt;/p&gt;</td>\n",
       "    </tr>\n",
       "    <tr>\n",
       "      <th>474</th>\n",
       "      <td>Business &amp; Legal Services</td>\n",
       "      <td>TransUnion is a global provider of credit and information management. The company leverages its understanding of consumer information, advanced analytic capabilities, sophisticated technologies and diverse expertise to develop innovative and reliable solutions to meet the changing needs of customers and consumers.</td>\n",
       "    </tr>\n",
       "  </tbody>\n",
       "</table>\n",
       "</div>"
      ],
      "text/plain": [
       "              company_category  \\\n",
       "133  Business & Legal Services   \n",
       "344  Business & Legal Services   \n",
       "474  Business & Legal Services   \n",
       "\n",
       "                                                                                                                                                                                                                                                                                                                                                                                                                                                                                                                                                                                                                                                                                                                                                                                                                                                                         description  \n",
       "133  D&B is a leading source of commercial information and insight on businesses, enabling companies to Decide with Confidence for 172 years. D&B's global commercial database contains more than 225 million business records. The database is enhanced by D&B's proprietary DUNSRight Quality Process, which provides our customers with quality business information to make critical business decisions.\\n\\nD&B provides solution sets that meet a diverse set of customer needs globally. Customers use D&B Risk Management Solutions to mitigate credit and supplier risk, increase cash flow and drive increased profitability; D&B Sales & Marketing Solutions to increase revenue from new and existing customers; and D&B Internet Solutions to convert prospects into clients faster by enabling business professionals to research companies, executives and industries.  \n",
       "344  Oversight Systems, Inc. is a privately-held, Atlanta-based software company whose continuous transaction monitoring solutions help Fortune 500 companies in a variety of industries solve problems related to governance, risk and compliance. Oversight’s mission is to transform operational analysis. \\n\\n<p>Oversight Systems works with consulting firms and business-process experts to design new Insights On Demand. Companies share with us current processes for analyzing data and generating conclusions, and we translate those processes to our Operational Analysis Platform for the automated creation of Insights On Demand.</p>                                                                                                                                                                                                                                \n",
       "474  TransUnion is a global provider of credit and information management. The company leverages its understanding of consumer information, advanced analytic capabilities, sophisticated technologies and diverse expertise to develop innovative and reliable solutions to meet the changing needs of customers and consumers.                                                                                                                                                                                                                                                                                                                                                                                                                                                                                                                                                      "
      ]
     },
     "metadata": {},
     "output_type": "display_data"
    },
    {
     "name": "stdout",
     "output_type": "stream",
     "text": [
      "\n",
      "'Lifestyle & Consumer' predicted as 'Data/Technology' : 3 examples.\n"
     ]
    },
    {
     "data": {
      "text/html": [
       "<div>\n",
       "<style scoped>\n",
       "    .dataframe tbody tr th:only-of-type {\n",
       "        vertical-align: middle;\n",
       "    }\n",
       "\n",
       "    .dataframe tbody tr th {\n",
       "        vertical-align: top;\n",
       "    }\n",
       "\n",
       "    .dataframe thead th {\n",
       "        text-align: right;\n",
       "    }\n",
       "</style>\n",
       "<table border=\"1\" class=\"dataframe\">\n",
       "  <thead>\n",
       "    <tr style=\"text-align: right;\">\n",
       "      <th></th>\n",
       "      <th>company_category</th>\n",
       "      <th>description</th>\n",
       "    </tr>\n",
       "  </thead>\n",
       "  <tbody>\n",
       "    <tr>\n",
       "      <th>398</th>\n",
       "      <td>Lifestyle &amp; Consumer</td>\n",
       "      <td>RedLaser is a barcode-scanning application for comparison shopping and finding product information using a mobile device. The state-of-the-art barcode scanning technology was created specifically to deal with non-autofocus cameras, and continues to evolve with innovative mobile visual capabilities. The RedLaser application has been downloaded over 2 million times. RedLaser is an eBay company.</td>\n",
       "    </tr>\n",
       "    <tr>\n",
       "      <th>109</th>\n",
       "      <td>Lifestyle &amp; Consumer</td>\n",
       "      <td>CONNECT-DOT are providers of data driven strategies and services, which deliver long term commercial and social benefits, based upon our clients key business requirements. The strategies evolved should be economical, efficient, durable and flexible and empower the organizations and governments to respond rapidly to both market and customer needs.</td>\n",
       "    </tr>\n",
       "    <tr>\n",
       "      <th>189</th>\n",
       "      <td>Lifestyle &amp; Consumer</td>\n",
       "      <td>Geoscape helps clients achieve growth by tapping into America's fast growing Hispanic and multicultural markets. We provide consumer intelligence via strategic business consulting, database-driven analytics and automated systems to help our clients create competitive advantages for business development, marketing and distribution.</td>\n",
       "    </tr>\n",
       "  </tbody>\n",
       "</table>\n",
       "</div>"
      ],
      "text/plain": [
       "         company_category  \\\n",
       "398  Lifestyle & Consumer   \n",
       "109  Lifestyle & Consumer   \n",
       "189  Lifestyle & Consumer   \n",
       "\n",
       "                                                                                                                                                                                                                                                                                                                                                                                                     description  \n",
       "398  RedLaser is a barcode-scanning application for comparison shopping and finding product information using a mobile device. The state-of-the-art barcode scanning technology was created specifically to deal with non-autofocus cameras, and continues to evolve with innovative mobile visual capabilities. The RedLaser application has been downloaded over 2 million times. RedLaser is an eBay company.  \n",
       "109  CONNECT-DOT are providers of data driven strategies and services, which deliver long term commercial and social benefits, based upon our clients key business requirements. The strategies evolved should be economical, efficient, durable and flexible and empower the organizations and governments to respond rapidly to both market and customer needs.                                                 \n",
       "189  Geoscape helps clients achieve growth by tapping into America's fast growing Hispanic and multicultural markets. We provide consumer intelligence via strategic business consulting, database-driven analytics and automated systems to help our clients create competitive advantages for business development, marketing and distribution.                                                                 "
      ]
     },
     "metadata": {},
     "output_type": "display_data"
    },
    {
     "name": "stdout",
     "output_type": "stream",
     "text": [
      "\n",
      "'Geospatial/Mapping' predicted as 'Data/Technology' : 3 examples.\n"
     ]
    },
    {
     "data": {
      "text/html": [
       "<div>\n",
       "<style scoped>\n",
       "    .dataframe tbody tr th:only-of-type {\n",
       "        vertical-align: middle;\n",
       "    }\n",
       "\n",
       "    .dataframe tbody tr th {\n",
       "        vertical-align: top;\n",
       "    }\n",
       "\n",
       "    .dataframe thead th {\n",
       "        text-align: right;\n",
       "    }\n",
       "</style>\n",
       "<table border=\"1\" class=\"dataframe\">\n",
       "  <thead>\n",
       "    <tr style=\"text-align: right;\">\n",
       "      <th></th>\n",
       "      <th>company_category</th>\n",
       "      <th>description</th>\n",
       "    </tr>\n",
       "  </thead>\n",
       "  <tbody>\n",
       "    <tr>\n",
       "      <th>279</th>\n",
       "      <td>Geospatial/Mapping</td>\n",
       "      <td>Loqate can power your applications with a combination of address capture, verification, and geocoding – all for 240+ countries.</td>\n",
       "    </tr>\n",
       "    <tr>\n",
       "      <th>154</th>\n",
       "      <td>Geospatial/Mapping</td>\n",
       "      <td>Esri inspires and enables people to positively impact the future through a deeper, geographic understanding of the changing world around them. At Esri, we believe that geography is at the heart of a more resilient and sustainable future. Governments, industry leaders, academics, and nongovernmental organizations (NGOs) trust us to connect them with the analytic knowledge they need to make these critical decisions that shape the planet.</td>\n",
       "    </tr>\n",
       "    <tr>\n",
       "      <th>313</th>\n",
       "      <td>Geospatial/Mapping</td>\n",
       "      <td>Navico's vision is to lead marine electronics with outstanding solutions for performance, safety and enjoyment on the water, through a compelling 'house of brands' approach.</td>\n",
       "    </tr>\n",
       "  </tbody>\n",
       "</table>\n",
       "</div>"
      ],
      "text/plain": [
       "       company_category  \\\n",
       "279  Geospatial/Mapping   \n",
       "154  Geospatial/Mapping   \n",
       "313  Geospatial/Mapping   \n",
       "\n",
       "                                                                                                                                                                                                                                                                                                                                                                                                                                                 description  \n",
       "279  Loqate can power your applications with a combination of address capture, verification, and geocoding – all for 240+ countries.                                                                                                                                                                                                                                                                                                                          \n",
       "154  Esri inspires and enables people to positively impact the future through a deeper, geographic understanding of the changing world around them. At Esri, we believe that geography is at the heart of a more resilient and sustainable future. Governments, industry leaders, academics, and nongovernmental organizations (NGOs) trust us to connect them with the analytic knowledge they need to make these critical decisions that shape the planet.  \n",
       "313  Navico's vision is to lead marine electronics with outstanding solutions for performance, safety and enjoyment on the water, through a compelling 'house of brands' approach.                                                                                                                                                                                                                                                                            "
      ]
     },
     "metadata": {},
     "output_type": "display_data"
    },
    {
     "name": "stdout",
     "output_type": "stream",
     "text": [
      "\n",
      "'Business & Legal Services' predicted as 'Finance & Investment' : 5 examples.\n"
     ]
    },
    {
     "data": {
      "text/html": [
       "<div>\n",
       "<style scoped>\n",
       "    .dataframe tbody tr th:only-of-type {\n",
       "        vertical-align: middle;\n",
       "    }\n",
       "\n",
       "    .dataframe tbody tr th {\n",
       "        vertical-align: top;\n",
       "    }\n",
       "\n",
       "    .dataframe thead th {\n",
       "        text-align: right;\n",
       "    }\n",
       "</style>\n",
       "<table border=\"1\" class=\"dataframe\">\n",
       "  <thead>\n",
       "    <tr style=\"text-align: right;\">\n",
       "      <th></th>\n",
       "      <th>company_category</th>\n",
       "      <th>description</th>\n",
       "    </tr>\n",
       "  </thead>\n",
       "  <tbody>\n",
       "    <tr>\n",
       "      <th>138</th>\n",
       "      <td>Business &amp; Legal Services</td>\n",
       "      <td>Ecodesk is a global supply chain sustainability service provider. At its core is an open cloud-based sustainability platform enabling businesses and organisations to hold their key non-financial metrics in a central location and providing the tool set for detailed analytics of the environmental and social impacts of the supply chain. These analytics enable the benchmarking of suppliers both internal and external to the supply chain and which can greatly reduce inherent risk, identify opportunities and drive efficiency changes.</td>\n",
       "    </tr>\n",
       "    <tr>\n",
       "      <th>300</th>\n",
       "      <td>Business &amp; Legal Services</td>\n",
       "      <td>MicroBilt Corporation is a source and provider of decision critical information that responsibly assists businesses in reducing risk and managing their business. MicroBilt provides online access to consumer and commercial credit bureau data with automated decisioning and collection services. With its PRBC Consumer Report with the FICO Expansion Score, MicroBilt is a leading provider of alternative credit data to businesses that want to offer credit and other financial services to the approximately 110 million underserved and underbanked consumers in the United States.\\n\\n&lt;p&gt;MicroBilt is also a provider of proprietary financial data with its Integra Data which offers industry benchmarks, norms, valuation data, risk management tools, and other private company financial data that help companies get the answers they need when they need them. The company enables businesses to enhance their content offerings by delivering private labeled content or web sites to their established online communities. &lt;/p&gt;</td>\n",
       "    </tr>\n",
       "    <tr>\n",
       "      <th>354</th>\n",
       "      <td>Business &amp; Legal Services</td>\n",
       "      <td>PayScale provides compensation data for individuals and business to maximize their value. We link individuals and businesses to our large salary profile database. Use PayScale to discover what you are worth or find out how our cloud compensation software can help you to pay the right way.</td>\n",
       "    </tr>\n",
       "    <tr>\n",
       "      <th>61</th>\n",
       "      <td>Business &amp; Legal Services</td>\n",
       "      <td>Business Monitor provides trusted, independent analysis and forecasts on countries, industries and financial markets.</td>\n",
       "    </tr>\n",
       "    <tr>\n",
       "      <th>346</th>\n",
       "      <td>Business &amp; Legal Services</td>\n",
       "      <td>Owler is a mobile and online resource that helps you follow, track, and research companies. Get real time updates and news (about your company, your competitors, your clients, your investments), hand-curated from multiple sources.</td>\n",
       "    </tr>\n",
       "  </tbody>\n",
       "</table>\n",
       "</div>"
      ],
      "text/plain": [
       "              company_category  \\\n",
       "138  Business & Legal Services   \n",
       "300  Business & Legal Services   \n",
       "354  Business & Legal Services   \n",
       "61   Business & Legal Services   \n",
       "346  Business & Legal Services   \n",
       "\n",
       "                                                                                                                                                                                                                                                                                                                                                                                                                                                                                                                                                                                                                                                                                                                                                                                                                                                                                                                                                                                                                                              description  \n",
       "138  Ecodesk is a global supply chain sustainability service provider. At its core is an open cloud-based sustainability platform enabling businesses and organisations to hold their key non-financial metrics in a central location and providing the tool set for detailed analytics of the environmental and social impacts of the supply chain. These analytics enable the benchmarking of suppliers both internal and external to the supply chain and which can greatly reduce inherent risk, identify opportunities and drive efficiency changes.                                                                                                                                                                                                                                                                                                                                                                                                                                                                                                  \n",
       "300  MicroBilt Corporation is a source and provider of decision critical information that responsibly assists businesses in reducing risk and managing their business. MicroBilt provides online access to consumer and commercial credit bureau data with automated decisioning and collection services. With its PRBC Consumer Report with the FICO Expansion Score, MicroBilt is a leading provider of alternative credit data to businesses that want to offer credit and other financial services to the approximately 110 million underserved and underbanked consumers in the United States.\\n\\n<p>MicroBilt is also a provider of proprietary financial data with its Integra Data which offers industry benchmarks, norms, valuation data, risk management tools, and other private company financial data that help companies get the answers they need when they need them. The company enables businesses to enhance their content offerings by delivering private labeled content or web sites to their established online communities. </p>  \n",
       "354  PayScale provides compensation data for individuals and business to maximize their value. We link individuals and businesses to our large salary profile database. Use PayScale to discover what you are worth or find out how our cloud compensation software can help you to pay the right way.                                                                                                                                                                                                                                                                                                                                                                                                                                                                                                                                                                                                                                                                                                                                                     \n",
       "61   Business Monitor provides trusted, independent analysis and forecasts on countries, industries and financial markets.                                                                                                                                                                                                                                                                                                                                                                                                                                                                                                                                                                                                                                                                                                                                                                                                                                                                                                                                 \n",
       "346  Owler is a mobile and online resource that helps you follow, track, and research companies. Get real time updates and news (about your company, your competitors, your clients, your investments), hand-curated from multiple sources.                                                                                                                                                                                                                                                                                                                                                                                                                                                                                                                                                                                                                                                                                                                                                                                                                "
      ]
     },
     "metadata": {},
     "output_type": "display_data"
    },
    {
     "name": "stdout",
     "output_type": "stream",
     "text": [
      "\n"
     ]
    }
   ],
   "source": [
    "from IPython.display import display\n",
    "pd.set_option('display.max_colwidth', -1)\n",
    "\n",
    "for predicted in category_id_df.category_id:\n",
    "    for actual in category_id_df.category_id:\n",
    "        if predicted != actual and mat[actual, predicted] >= 3:\n",
    "            print(\"'{}' predicted as '{}' : {} examples.\".format(id_to_category[actual], id_to_category[predicted], mat[actual, predicted]))\n",
    "            display(desc_ind.loc[indices_test[(y_test == actual) & (y_pred == predicted)]][['company_category', 'description']])\n",
    "            print('')"
   ]
  },
  {
   "cell_type": "markdown",
   "metadata": {},
   "source": [
    "#### Doc2vec"
   ]
  },
  {
   "cell_type": "code",
   "execution_count": 461,
   "metadata": {},
   "outputs": [
    {
     "data": {
      "text/plain": [
       "25074"
      ]
     },
     "execution_count": 461,
     "metadata": {},
     "output_type": "execute_result"
    }
   ],
   "source": [
    "desc_ind.normalized_description.apply(lambda x: len(x.split(' '))).sum()"
   ]
  },
  {
   "cell_type": "code",
   "execution_count": 464,
   "metadata": {},
   "outputs": [],
   "source": [
    "from tqdm import tqdm\n",
    "import gensim\n",
    "from gensim.models import Doc2Vec\n",
    "from gensim.models.doc2vec import TaggedDocument"
   ]
  },
  {
   "cell_type": "code",
   "execution_count": 466,
   "metadata": {},
   "outputs": [
    {
     "data": {
      "text/html": [
       "<div>\n",
       "<style scoped>\n",
       "    .dataframe tbody tr th:only-of-type {\n",
       "        vertical-align: middle;\n",
       "    }\n",
       "\n",
       "    .dataframe tbody tr th {\n",
       "        vertical-align: top;\n",
       "    }\n",
       "\n",
       "    .dataframe thead th {\n",
       "        text-align: right;\n",
       "    }\n",
       "</style>\n",
       "<table border=\"1\" class=\"dataframe\">\n",
       "  <thead>\n",
       "    <tr style=\"text-align: right;\">\n",
       "      <th></th>\n",
       "      <th>description</th>\n",
       "      <th>company_category</th>\n",
       "      <th>category_id</th>\n",
       "      <th>normalized_description</th>\n",
       "    </tr>\n",
       "  </thead>\n",
       "  <tbody>\n",
       "    <tr>\n",
       "      <th>0</th>\n",
       "      <td>3 Round Stones produces a platform for publishing data on the Web. 3 Round Stones provides commercial support for the Callimachus Data Platform, used by the Fortune 2000 and US Government Agencies publishing and consuming data.  Headquartered in Arlington, Virginia, we're seasoned entrepreneurs who are passionate about solving real world problems through open data and open Web standards.</td>\n",
       "      <td>Data/Technology</td>\n",
       "      <td>0</td>\n",
       "      <td>3 round stone produce platform publish datum web 3 round stone provide commercial support callimachus data platform use fortune 2000 us government agency publish consume datum headquarter arlington virginia season entrepreneur passionate solve real world problem open datum open web standard</td>\n",
       "    </tr>\n",
       "    <tr>\n",
       "      <th>1</th>\n",
       "      <td>The company mission is to provide finance to small business. We also provide financing to small business with bad credit too on the basis of future credit.</td>\n",
       "      <td>Finance &amp; Investment</td>\n",
       "      <td>1</td>\n",
       "      <td>company mission provide finance small business also provide financing small business bad credit basis future credit</td>\n",
       "    </tr>\n",
       "    <tr>\n",
       "      <th>2</th>\n",
       "      <td>At 5PSolutions, we wish to make all basic information of different categories easily available to via tablets or phones.</td>\n",
       "      <td>Data/Technology</td>\n",
       "      <td>0</td>\n",
       "      <td>5psolutions wish make basic information different category easily available via tablet phone</td>\n",
       "    </tr>\n",
       "    <tr>\n",
       "      <th>3</th>\n",
       "      <td>Abt Associates is a mission-driven, international company conducting research and program implementation in the fields of health, social and environmental policy, and international development. The company has multiple offices in the U.S. and program offices in more than 40 countries.</td>\n",
       "      <td>Research &amp; Consulting</td>\n",
       "      <td>2</td>\n",
       "      <td>abt associate mission drive international company conduct research program implementation field health social environmental policy international development company multiple office us program office 40 country</td>\n",
       "    </tr>\n",
       "    <tr>\n",
       "      <th>4</th>\n",
       "      <td>Accela powers thousands of services and millions of transactions for more than 500 public agencies worldwide, enabling governments to connect with citizens and streamline processes related to land management, asset management, licensing, and public health &amp; safety. Accela addresses a broad range of agency, business and citizen needs, and includes built-in payment, scheduling, compliance and information transparency. Together with our partners, Accela can custom-tailor solutions based on precise agency specifications, or deploy packaged solutions based on best practice templates and pre-defined services in a matter of a few weeks.</td>\n",
       "      <td>Governance</td>\n",
       "      <td>3</td>\n",
       "      <td>accela power thousand service million transaction 500 public agency worldwide enable government connect citizen streamline process relate land management asset management licensing public health safety accela address broad range agency business citizen need include build payment scheduling compliance information transparency together partner accela custom tailor solution base precise agency specification deploy package solution base good practice template pre define service matter week</td>\n",
       "    </tr>\n",
       "  </tbody>\n",
       "</table>\n",
       "</div>"
      ],
      "text/plain": [
       "                                                                                                                                                                                                                                                                                                                                                                                                                                                                                                                                                                                                                                                     description  \\\n",
       "0  3 Round Stones produces a platform for publishing data on the Web. 3 Round Stones provides commercial support for the Callimachus Data Platform, used by the Fortune 2000 and US Government Agencies publishing and consuming data.  Headquartered in Arlington, Virginia, we're seasoned entrepreneurs who are passionate about solving real world problems through open data and open Web standards.                                                                                                                                                                                                                                                          \n",
       "1  The company mission is to provide finance to small business. We also provide financing to small business with bad credit too on the basis of future credit.                                                                                                                                                                                                                                                                                                                                                                                                                                                                                                     \n",
       "2  At 5PSolutions, we wish to make all basic information of different categories easily available to via tablets or phones.                                                                                                                                                                                                                                                                                                                                                                                                                                                                                                                                        \n",
       "3  Abt Associates is a mission-driven, international company conducting research and program implementation in the fields of health, social and environmental policy, and international development. The company has multiple offices in the U.S. and program offices in more than 40 countries.                                                                                                                                                                                                                                                                                                                                                                   \n",
       "4  Accela powers thousands of services and millions of transactions for more than 500 public agencies worldwide, enabling governments to connect with citizens and streamline processes related to land management, asset management, licensing, and public health & safety. Accela addresses a broad range of agency, business and citizen needs, and includes built-in payment, scheduling, compliance and information transparency. Together with our partners, Accela can custom-tailor solutions based on precise agency specifications, or deploy packaged solutions based on best practice templates and pre-defined services in a matter of a few weeks.   \n",
       "\n",
       "        company_category  category_id  \\\n",
       "0  Data/Technology        0             \n",
       "1  Finance & Investment   1             \n",
       "2  Data/Technology        0             \n",
       "3  Research & Consulting  2             \n",
       "4  Governance             3             \n",
       "\n",
       "                                                                                                                                                                                                                                                                                                                                                                                                                                                                                       normalized_description  \n",
       "0  3 round stone produce platform publish datum web 3 round stone provide commercial support callimachus data platform use fortune 2000 us government agency publish consume datum headquarter arlington virginia season entrepreneur passionate solve real world problem open datum open web standard                                                                                                                                                                                                         \n",
       "1  company mission provide finance small business also provide financing small business bad credit basis future credit                                                                                                                                                                                                                                                                                                                                                                                         \n",
       "2  5psolutions wish make basic information different category easily available via tablet phone                                                                                                                                                                                                                                                                                                                                                                                                                \n",
       "3  abt associate mission drive international company conduct research program implementation field health social environmental policy international development company multiple office us program office 40 country                                                                                                                                                                                                                                                                                           \n",
       "4  accela power thousand service million transaction 500 public agency worldwide enable government connect citizen streamline process relate land management asset management licensing public health safety accela address broad range agency business citizen need include build payment scheduling compliance information transparency together partner accela custom tailor solution base precise agency specification deploy package solution base good practice template pre define service matter week  "
      ]
     },
     "execution_count": 466,
     "metadata": {},
     "output_type": "execute_result"
    }
   ],
   "source": [
    "desc_ind.head()"
   ]
  },
  {
   "cell_type": "code",
   "execution_count": 469,
   "metadata": {},
   "outputs": [],
   "source": [
    "train, test = train_test_split(desc_ind, test_size=0.3, random_state=42)\n",
    "\n",
    "import nltk\n",
    "def tokenize_text(text):\n",
    "    tokens = []\n",
    "    for sent in nltk.sent_tokenize(text):\n",
    "        for word in nltk.word_tokenize(sent):\n",
    "            if len(word) < 2:\n",
    "                continue\n",
    "            tokens.append(word.lower())\n",
    "    return tokens\n",
    "\n",
    "train_tagged = train.apply(\n",
    "    lambda r: TaggedDocument(words=tokenize_text(r['normalized_description']), tags=[r.company_category]), axis=1)\n",
    "test_tagged = test.apply(\n",
    "    lambda r: TaggedDocument(words=tokenize_text(r['normalized_description']), tags=[r.company_category]), axis=1)"
   ]
  },
  {
   "cell_type": "code",
   "execution_count": 470,
   "metadata": {},
   "outputs": [
    {
     "data": {
      "text/plain": [
       "TaggedDocument(words=['trulia', 'one', 'real', 'estate', 'site', 'give', 'local', 'scoop', 'home', 'sale', 'apartment', 'rent', 'neighborhood', 'insight', 'real', 'estate', 'market', 'trend', 'help', 'figure', 'exactly', 'buy', 'sell', 'rent', 'also', 'find', 'real', 'estate', 'agent', 'view', 'price', 'recently', 'sell', 'home', 'see', 'home', 'value', 'community', 'trulia', 'also', 'allow', 'get', 'advice', 'opinion', 'local', 'real', 'estate', 'agent', 'broker', 'local', 'expert', 'trulia', 'voice', 'online', 'real', 'estate', 'community'], tags=['Housing/Real Estate'])"
      ]
     },
     "execution_count": 470,
     "metadata": {},
     "output_type": "execute_result"
    }
   ],
   "source": [
    "train_tagged.values[30]"
   ]
  },
  {
   "cell_type": "code",
   "execution_count": 472,
   "metadata": {},
   "outputs": [
    {
     "name": "stderr",
     "output_type": "stream",
     "text": [
      "100%|████████████████████████████████████████████████████████████████████████████| 366/366 [00:00<00:00, 369284.40it/s]\n"
     ]
    }
   ],
   "source": [
    "## instantiate a doc2vec model \n",
    "import multiprocessing\n",
    "cores = multiprocessing.cpu_count()\n",
    "\n",
    "model_dbow = Doc2Vec(dm=0, vector_size=300, negative=5, hs=0, min_count=2, sample=0, workers=cores)\n",
    "model_dbow.build_vocab([x for x in tqdm(train_tagged.values)])"
   ]
  },
  {
   "cell_type": "code",
   "execution_count": 476,
   "metadata": {
    "scrolled": false
   },
   "outputs": [
    {
     "name": "stderr",
     "output_type": "stream",
     "text": [
      "100%|████████████████████████████████████████████████████████████████████████████| 366/366 [00:00<00:00, 738746.52it/s]\n",
      "100%|████████████████████████████████████████████████████████████████████████████| 366/366 [00:00<00:00, 728233.05it/s]\n",
      "100%|████████████████████████████████████████████████████████████████████████████| 366/366 [00:00<00:00, 368752.17it/s]\n",
      "100%|████████████████████████████████████████████████████████████████████████████| 366/366 [00:00<00:00, 738391.18it/s]\n",
      "100%|████████████████████████████████████████████████████████████████████████████| 366/366 [00:00<00:00, 738391.18it/s]\n",
      "100%|████████████████████████████████████████████████████████████████████████████| 366/366 [00:00<00:00, 368929.41it/s]\n",
      "100%|████████████████████████████████████████████████████████████████████████████| 366/366 [00:00<00:00, 736619.61it/s]\n",
      "100%|████████████████████████████████████████████████████████████████████████████| 366/366 [00:00<00:00, 739102.20it/s]\n",
      "100%|████████████████████████████████████████████████████████████████████████████| 366/366 [00:00<00:00, 147083.96it/s]\n",
      "100%|████████████████████████████████████████████████████████████████████████████| 366/366 [00:00<00:00, 724110.97it/s]\n",
      "100%|████████████████████████████████████████████████████████████████████████████| 366/366 [00:00<00:00, 183626.23it/s]\n",
      "100%|████████████████████████████████████████████████████████████████████████████| 366/366 [00:00<00:00, 372600.79it/s]\n",
      "100%|████████████████████████████████████████████████████████████████████████████| 366/366 [00:00<00:00, 726853.82it/s]\n",
      "100%|████████████████████████████████████████████████████████████████████████████| 366/366 [00:00<00:00, 184509.05it/s]\n",
      "100%|████████████████████████████████████████████████████████████████████████████| 366/366 [00:00<00:00, 246644.48it/s]\n",
      "100%|████████████████████████████████████████████████████████████████████████████| 366/366 [00:00<00:00, 368840.77it/s]\n",
      "100%|████████████████████████████████████████████████████████████████████████████| 366/366 [00:00<00:00, 184132.81it/s]\n",
      "100%|████████████████████████████████████████████████████████████████████████████| 366/366 [00:00<00:00, 738746.52it/s]\n",
      "100%|████████████████████████████████████████████████████████████████████████████| 366/366 [00:00<00:00, 732751.92it/s]\n",
      "100%|████████████████████████████████████████████████████████████████████████████| 366/366 [00:00<00:00, 367692.28it/s]\n",
      "100%|████████████████████████████████████████████████████████████████████████████| 366/366 [00:00<00:00, 369106.82it/s]\n",
      "100%|████████████████████████████████████████████████████████████████████████████| 366/366 [00:00<00:00, 742677.92it/s]\n",
      "100%|████████████████████████████████████████████████████████████████████████████████████████| 366/366 [00:00<?, ?it/s]\n",
      "100%|████████████████████████████████████████████████████████████████████████████| 366/366 [00:00<00:00, 184353.94it/s]\n",
      "100%|████████████████████████████████████████████████████████████████████████████| 366/366 [00:00<00:00, 245933.24it/s]\n",
      "100%|████████████████████████████████████████████████████████████████████████████████████████| 366/366 [00:00<?, ?it/s]\n",
      "100%|████████████████████████████████████████████████████████████████████████████| 366/366 [00:00<00:00, 724110.97it/s]\n",
      "100%|████████████████████████████████████████████████████████████████████████████| 366/366 [00:00<00:00, 369106.82it/s]\n",
      "100%|████████████████████████████████████████████████████████████████████████████| 366/366 [00:00<00:00, 368929.41it/s]\n",
      "100%|████████████████████████████████████████████████████████████████████████████| 366/366 [00:00<00:00, 723769.57it/s]\n"
     ]
    }
   ],
   "source": [
    "from sklearn import utils\n",
    "for epoch in range(30):\n",
    "    model_dbow.train(utils.shuffle([x for x in tqdm(train_tagged.values)]), total_examples=len(train_tagged.values), epochs=1)\n",
    "    model_dbow.alpha -= 0.002\n",
    "    model_dbow.min_alpha = model_dbow.alpha"
   ]
  },
  {
   "cell_type": "code",
   "execution_count": 479,
   "metadata": {},
   "outputs": [],
   "source": [
    "def vec_for_learning(model, tagged_docs):\n",
    "    sents = tagged_docs.values\n",
    "    targets, regressors = zip(*[(doc.tags[0], model.infer_vector(doc.words, steps=20)) for doc in sents])\n",
    "    return targets, regressors\n",
    "def vec_for_learning(model, tagged_docs):\n",
    "    sents = tagged_docs.values\n",
    "    targets, regressors = zip(*[(doc.tags[0], model.infer_vector(doc.words, steps=20)) for doc in sents])\n",
    "    return targets, regressors"
   ]
  },
  {
   "cell_type": "code",
   "execution_count": 482,
   "metadata": {},
   "outputs": [
    {
     "name": "stdout",
     "output_type": "stream",
     "text": [
      "Testing accuracy 0.3987341772151899\n",
      "Testing F1 score: 0.4083482934542373\n"
     ]
    }
   ],
   "source": [
    "## Train the Logistic Regression Classifier\n",
    "from sklearn.linear_model import LogisticRegression\n",
    "\n",
    "y_train, X_train = vec_for_learning(model_dbow, train_tagged)\n",
    "y_test, X_test = vec_for_learning(model_dbow, test_tagged)\n",
    "\n",
    "logreg = LogisticRegression(n_jobs=1, C=1e5)\n",
    "logreg.fit(X_train, y_train)\n",
    "y_pred = logreg.predict(X_test)\n",
    "\n",
    "from sklearn.metrics import accuracy_score, f1_score\n",
    "\n",
    "print('Testing accuracy %s' % accuracy_score(y_test, y_pred))\n",
    "print('Testing F1 score: {}'.format(f1_score(y_test, y_pred, average='weighted')))"
   ]
  },
  {
   "cell_type": "code",
   "execution_count": 483,
   "metadata": {},
   "outputs": [
    {
     "name": "stderr",
     "output_type": "stream",
     "text": [
      "100%|████████████████████████████████████████████████████████████████████████████████████████| 366/366 [00:00<?, ?it/s]\n"
     ]
    }
   ],
   "source": [
    "model_dmm = Doc2Vec(dm=1, dm_mean=1, vector_size=300, window=10, negative=5, min_count=1, workers=5, alpha=0.065, min_alpha=0.065)\n",
    "model_dmm.build_vocab([x for x in tqdm(train_tagged.values)])"
   ]
  },
  {
   "cell_type": "code",
   "execution_count": 484,
   "metadata": {},
   "outputs": [
    {
     "name": "stderr",
     "output_type": "stream",
     "text": [
      "100%|████████████████████████████████████████████████████████████████████████████| 366/366 [00:00<00:00, 369284.40it/s]\n",
      "100%|████████████████████████████████████████████████████████████████████████████████████████| 366/366 [00:00<?, ?it/s]\n",
      "100%|████████████████████████████████████████████████████████████████████████████| 366/366 [00:00<00:00, 366463.42it/s]\n",
      "100%|████████████████████████████████████████████████████████████████████████████| 366/366 [00:00<00:00, 737681.53it/s]\n",
      "100%|████████████████████████████████████████████████████████████████████████████| 366/366 [00:00<00:00, 737681.53it/s]\n",
      "100%|████████████████████████████████████████████████████████████████████████████| 366/366 [00:00<00:00, 738391.18it/s]\n",
      "100%|████████████████████████████████████████████████████████████████████████████| 366/366 [00:00<00:00, 736973.24it/s]\n",
      "100%|████████████████████████████████████████████████████████████████████████████| 366/366 [00:00<00:00, 737327.22it/s]\n",
      "100%|████████████████████████████████████████████████████████████████████████████████████████| 366/366 [00:00<?, ?it/s]\n",
      "100%|████████████████████████████████████████████████████████████████████████████████████████| 366/366 [00:00<?, ?it/s]\n",
      "100%|████████████████████████████████████████████████████████████████████████████████████████| 366/366 [00:00<?, ?it/s]\n",
      "100%|████████████████████████████████████████████████████████████████████████████| 366/366 [00:00<00:00, 737681.53it/s]\n",
      "100%|████████████████████████████████████████████████████████████████████████████| 366/366 [00:00<00:00, 737327.22it/s]\n",
      "100%|████████████████████████████████████████████████████████████████████████████| 366/366 [00:00<00:00, 737681.53it/s]\n",
      "100%|████████████████████████████████████████████████████████████████████████████| 366/366 [00:00<00:00, 736973.24it/s]\n",
      "100%|████████████████████████████████████████████████████████████████████████████| 366/366 [00:00<00:00, 748836.71it/s]\n",
      "100%|████████████████████████████████████████████████████████████████████████████| 366/366 [00:00<00:00, 735913.36it/s]\n",
      "100%|████████████████████████████████████████████████████████████████████████████| 366/366 [00:00<00:00, 736973.24it/s]\n",
      "100%|████████████████████████████████████████████████████████████████████████████| 366/366 [00:00<00:00, 737681.53it/s]\n",
      "100%|████████████████████████████████████████████████████████████████████████████| 366/366 [00:00<00:00, 761843.80it/s]\n",
      "100%|████████████████████████████████████████████████████████████████████████████| 366/366 [00:00<00:00, 368840.77it/s]\n",
      "100%|████████████████████████████████████████████████████████████████████████████| 366/366 [00:00<00:00, 754356.40it/s]\n",
      "100%|████████████████████████████████████████████████████████████████████████████| 366/366 [00:00<00:00, 739102.20it/s]\n",
      "100%|████████████████████████████████████████████████████████████████████████████| 366/366 [00:00<00:00, 737681.53it/s]\n",
      "100%|████████████████████████████████████████████████████████████████████████████| 366/366 [00:00<00:00, 736266.31it/s]\n",
      "100%|████████████████████████████████████████████████████████████████████████████| 366/366 [00:00<00:00, 737681.53it/s]\n",
      "100%|████████████████████████████████████████████████████████████████████████████████████████| 366/366 [00:00<?, ?it/s]\n",
      "100%|████████████████████████████████████████████████████████████████████████████| 366/366 [00:00<00:00, 737681.53it/s]\n",
      "100%|████████████████████████████████████████████████████████████████████████████| 366/366 [00:00<00:00, 735560.74it/s]\n",
      "100%|████████████████████████████████████████████████████████████████████████████| 366/366 [00:00<00:00, 244522.98it/s]\n"
     ]
    },
    {
     "name": "stdout",
     "output_type": "stream",
     "text": [
      "Wall time: 2.77 s\n"
     ]
    }
   ],
   "source": [
    "%%time\n",
    "for epoch in range(30):\n",
    "    model_dmm.train(utils.shuffle([x for x in tqdm(train_tagged.values)]), total_examples=len(train_tagged.values), epochs=1)\n",
    "    model_dmm.alpha -= 0.002\n",
    "    model_dmm.min_alpha = model_dmm.alpha"
   ]
  },
  {
   "cell_type": "code",
   "execution_count": 485,
   "metadata": {},
   "outputs": [
    {
     "name": "stdout",
     "output_type": "stream",
     "text": [
      "Testing accuracy 0.27848101265822783\n",
      "Testing F1 score: 0.24961255210500813\n"
     ]
    }
   ],
   "source": [
    "y_train, X_train = vec_for_learning(model_dmm, train_tagged)\n",
    "y_test, X_test = vec_for_learning(model_dmm, test_tagged)\n",
    "\n",
    "logreg.fit(X_train, y_train)\n",
    "y_pred = logreg.predict(X_test)\n",
    "\n",
    "print('Testing accuracy %s' % accuracy_score(y_test, y_pred))\n",
    "print('Testing F1 score: {}'.format(f1_score(y_test, y_pred, average='weighted')))"
   ]
  },
  {
   "cell_type": "code",
   "execution_count": 486,
   "metadata": {},
   "outputs": [],
   "source": [
    "## Model Pairing\n",
    "model_dbow.delete_temporary_training_data(keep_doctags_vectors=True, keep_inference=True)\n",
    "model_dmm.delete_temporary_training_data(keep_doctags_vectors=True, keep_inference=True)"
   ]
  },
  {
   "cell_type": "code",
   "execution_count": 491,
   "metadata": {},
   "outputs": [],
   "source": [
    "from gensim.test.test_doc2vec import ConcatenatedDoc2Vec\n",
    "new_model = ConcatenatedDoc2Vec([model_dbow, model_dmm])"
   ]
  },
  {
   "cell_type": "code",
   "execution_count": 492,
   "metadata": {},
   "outputs": [],
   "source": [
    "## Building feature vectors\n",
    "def get_vectors(model, tagged_docs):\n",
    "    sents = tagged_docs.values\n",
    "    targets, regressors = zip(*[(doc.tags[0], model.infer_vector(doc.words, steps=20)) for doc in sents])\n",
    "    return targets, regressors"
   ]
  },
  {
   "cell_type": "code",
   "execution_count": 493,
   "metadata": {},
   "outputs": [
    {
     "name": "stdout",
     "output_type": "stream",
     "text": [
      "Testing accuracy 0.2974683544303797\n",
      "Testing F1 score: 0.3056901653351846\n"
     ]
    }
   ],
   "source": [
    "y_train, X_train = get_vectors(new_model, train_tagged)\n",
    "y_test, X_test = get_vectors(new_model, test_tagged)\n",
    "\n",
    "logreg.fit(X_train, y_train)\n",
    "y_pred = logreg.predict(X_test)\n",
    "\n",
    "print('Testing accuracy %s' % accuracy_score(y_test, y_pred))\n",
    "print('Testing F1 score: {}'.format(f1_score(y_test, y_pred, average='weighted')))"
   ]
  },
  {
   "cell_type": "code",
   "execution_count": null,
   "metadata": {},
   "outputs": [],
   "source": []
  },
  {
   "cell_type": "code",
   "execution_count": 432,
   "metadata": {},
   "outputs": [
    {
     "ename": "KeyError",
     "evalue": "'industry_group'",
     "output_type": "error",
     "traceback": [
      "\u001b[1;31m---------------------------------------------------------------------------\u001b[0m",
      "\u001b[1;31mKeyError\u001b[0m                                  Traceback (most recent call last)",
      "\u001b[1;32m~\\Anaconda3\\envs\\NLP\\lib\\site-packages\\pandas\\core\\indexes\\base.py\u001b[0m in \u001b[0;36mget_loc\u001b[1;34m(self, key, method, tolerance)\u001b[0m\n\u001b[0;32m   3077\u001b[0m             \u001b[1;32mtry\u001b[0m\u001b[1;33m:\u001b[0m\u001b[1;33m\u001b[0m\u001b[0m\n\u001b[1;32m-> 3078\u001b[1;33m                 \u001b[1;32mreturn\u001b[0m \u001b[0mself\u001b[0m\u001b[1;33m.\u001b[0m\u001b[0m_engine\u001b[0m\u001b[1;33m.\u001b[0m\u001b[0mget_loc\u001b[0m\u001b[1;33m(\u001b[0m\u001b[0mkey\u001b[0m\u001b[1;33m)\u001b[0m\u001b[1;33m\u001b[0m\u001b[0m\n\u001b[0m\u001b[0;32m   3079\u001b[0m             \u001b[1;32mexcept\u001b[0m \u001b[0mKeyError\u001b[0m\u001b[1;33m:\u001b[0m\u001b[1;33m\u001b[0m\u001b[0m\n",
      "\u001b[1;32mpandas\\_libs\\index.pyx\u001b[0m in \u001b[0;36mpandas._libs.index.IndexEngine.get_loc\u001b[1;34m()\u001b[0m\n",
      "\u001b[1;32mpandas\\_libs\\index.pyx\u001b[0m in \u001b[0;36mpandas._libs.index.IndexEngine.get_loc\u001b[1;34m()\u001b[0m\n",
      "\u001b[1;32mpandas\\_libs\\hashtable_class_helper.pxi\u001b[0m in \u001b[0;36mpandas._libs.hashtable.PyObjectHashTable.get_item\u001b[1;34m()\u001b[0m\n",
      "\u001b[1;32mpandas\\_libs\\hashtable_class_helper.pxi\u001b[0m in \u001b[0;36mpandas._libs.hashtable.PyObjectHashTable.get_item\u001b[1;34m()\u001b[0m\n",
      "\u001b[1;31mKeyError\u001b[0m: 'industry_group'",
      "\nDuring handling of the above exception, another exception occurred:\n",
      "\u001b[1;31mKeyError\u001b[0m                                  Traceback (most recent call last)",
      "\u001b[1;32m<ipython-input-432-48614088f551>\u001b[0m in \u001b[0;36m<module>\u001b[1;34m()\u001b[0m\n\u001b[0;32m      1\u001b[0m \u001b[1;31m## word cloud for top 3 categories\u001b[0m\u001b[1;33m\u001b[0m\u001b[1;33m\u001b[0m\u001b[0m\n\u001b[1;32m----> 2\u001b[1;33m \u001b[0mdata_tech\u001b[0m \u001b[1;33m=\u001b[0m \u001b[0mdesc_ind\u001b[0m\u001b[1;33m[\u001b[0m\u001b[0mdesc_ind\u001b[0m\u001b[1;33m[\u001b[0m\u001b[1;34m'industry_group'\u001b[0m\u001b[1;33m]\u001b[0m\u001b[1;33m==\u001b[0m\u001b[1;34m'Data/Technology'\u001b[0m\u001b[1;33m]\u001b[0m\u001b[1;33m[\u001b[0m\u001b[1;34m'normalized_description'\u001b[0m\u001b[1;33m]\u001b[0m\u001b[1;33m.\u001b[0m\u001b[0mvalues\u001b[0m\u001b[1;33m\u001b[0m\u001b[0m\n\u001b[0m\u001b[0;32m      3\u001b[0m \u001b[0mbiz_fin\u001b[0m \u001b[1;33m=\u001b[0m \u001b[0mdesc_ind\u001b[0m\u001b[1;33m[\u001b[0m\u001b[0mdesc_ind\u001b[0m\u001b[1;33m[\u001b[0m\u001b[1;34m'industry_group'\u001b[0m\u001b[1;33m]\u001b[0m\u001b[1;33m==\u001b[0m\u001b[1;34m'Business & Financial Services'\u001b[0m\u001b[1;33m]\u001b[0m\u001b[1;33m[\u001b[0m\u001b[1;34m'normalized_description'\u001b[0m\u001b[1;33m]\u001b[0m\u001b[1;33m.\u001b[0m\u001b[0mvalues\u001b[0m\u001b[1;33m\u001b[0m\u001b[0m\n\u001b[0;32m      4\u001b[0m \u001b[0mcon\u001b[0m \u001b[1;33m=\u001b[0m \u001b[0mdesc_ind\u001b[0m\u001b[1;33m[\u001b[0m\u001b[0mdesc_ind\u001b[0m\u001b[1;33m[\u001b[0m\u001b[1;34m'industry_group'\u001b[0m\u001b[1;33m]\u001b[0m\u001b[1;33m==\u001b[0m\u001b[1;34m'Consumer Products & Services'\u001b[0m\u001b[1;33m]\u001b[0m\u001b[1;33m[\u001b[0m\u001b[1;34m'normalized_description'\u001b[0m\u001b[1;33m]\u001b[0m\u001b[1;33m.\u001b[0m\u001b[0mvalues\u001b[0m\u001b[1;33m\u001b[0m\u001b[0m\n\u001b[0;32m      5\u001b[0m \u001b[0menergy\u001b[0m \u001b[1;33m=\u001b[0m \u001b[0mdesc_ind\u001b[0m\u001b[1;33m[\u001b[0m\u001b[0mdesc_ind\u001b[0m\u001b[1;33m[\u001b[0m\u001b[1;34m'industry_group'\u001b[0m\u001b[1;33m]\u001b[0m\u001b[1;33m==\u001b[0m\u001b[1;34m'Energy'\u001b[0m\u001b[1;33m]\u001b[0m\u001b[1;33m[\u001b[0m\u001b[1;34m'normalized_description'\u001b[0m\u001b[1;33m]\u001b[0m\u001b[1;33m.\u001b[0m\u001b[0mvalues\u001b[0m\u001b[1;33m\u001b[0m\u001b[0m\n",
      "\u001b[1;32m~\\Anaconda3\\envs\\NLP\\lib\\site-packages\\pandas\\core\\frame.py\u001b[0m in \u001b[0;36m__getitem__\u001b[1;34m(self, key)\u001b[0m\n\u001b[0;32m   2686\u001b[0m             \u001b[1;32mreturn\u001b[0m \u001b[0mself\u001b[0m\u001b[1;33m.\u001b[0m\u001b[0m_getitem_multilevel\u001b[0m\u001b[1;33m(\u001b[0m\u001b[0mkey\u001b[0m\u001b[1;33m)\u001b[0m\u001b[1;33m\u001b[0m\u001b[0m\n\u001b[0;32m   2687\u001b[0m         \u001b[1;32melse\u001b[0m\u001b[1;33m:\u001b[0m\u001b[1;33m\u001b[0m\u001b[0m\n\u001b[1;32m-> 2688\u001b[1;33m             \u001b[1;32mreturn\u001b[0m \u001b[0mself\u001b[0m\u001b[1;33m.\u001b[0m\u001b[0m_getitem_column\u001b[0m\u001b[1;33m(\u001b[0m\u001b[0mkey\u001b[0m\u001b[1;33m)\u001b[0m\u001b[1;33m\u001b[0m\u001b[0m\n\u001b[0m\u001b[0;32m   2689\u001b[0m \u001b[1;33m\u001b[0m\u001b[0m\n\u001b[0;32m   2690\u001b[0m     \u001b[1;32mdef\u001b[0m \u001b[0m_getitem_column\u001b[0m\u001b[1;33m(\u001b[0m\u001b[0mself\u001b[0m\u001b[1;33m,\u001b[0m \u001b[0mkey\u001b[0m\u001b[1;33m)\u001b[0m\u001b[1;33m:\u001b[0m\u001b[1;33m\u001b[0m\u001b[0m\n",
      "\u001b[1;32m~\\Anaconda3\\envs\\NLP\\lib\\site-packages\\pandas\\core\\frame.py\u001b[0m in \u001b[0;36m_getitem_column\u001b[1;34m(self, key)\u001b[0m\n\u001b[0;32m   2693\u001b[0m         \u001b[1;31m# get column\u001b[0m\u001b[1;33m\u001b[0m\u001b[1;33m\u001b[0m\u001b[0m\n\u001b[0;32m   2694\u001b[0m         \u001b[1;32mif\u001b[0m \u001b[0mself\u001b[0m\u001b[1;33m.\u001b[0m\u001b[0mcolumns\u001b[0m\u001b[1;33m.\u001b[0m\u001b[0mis_unique\u001b[0m\u001b[1;33m:\u001b[0m\u001b[1;33m\u001b[0m\u001b[0m\n\u001b[1;32m-> 2695\u001b[1;33m             \u001b[1;32mreturn\u001b[0m \u001b[0mself\u001b[0m\u001b[1;33m.\u001b[0m\u001b[0m_get_item_cache\u001b[0m\u001b[1;33m(\u001b[0m\u001b[0mkey\u001b[0m\u001b[1;33m)\u001b[0m\u001b[1;33m\u001b[0m\u001b[0m\n\u001b[0m\u001b[0;32m   2696\u001b[0m \u001b[1;33m\u001b[0m\u001b[0m\n\u001b[0;32m   2697\u001b[0m         \u001b[1;31m# duplicate columns & possible reduce dimensionality\u001b[0m\u001b[1;33m\u001b[0m\u001b[1;33m\u001b[0m\u001b[0m\n",
      "\u001b[1;32m~\\Anaconda3\\envs\\NLP\\lib\\site-packages\\pandas\\core\\generic.py\u001b[0m in \u001b[0;36m_get_item_cache\u001b[1;34m(self, item)\u001b[0m\n\u001b[0;32m   2487\u001b[0m         \u001b[0mres\u001b[0m \u001b[1;33m=\u001b[0m \u001b[0mcache\u001b[0m\u001b[1;33m.\u001b[0m\u001b[0mget\u001b[0m\u001b[1;33m(\u001b[0m\u001b[0mitem\u001b[0m\u001b[1;33m)\u001b[0m\u001b[1;33m\u001b[0m\u001b[0m\n\u001b[0;32m   2488\u001b[0m         \u001b[1;32mif\u001b[0m \u001b[0mres\u001b[0m \u001b[1;32mis\u001b[0m \u001b[1;32mNone\u001b[0m\u001b[1;33m:\u001b[0m\u001b[1;33m\u001b[0m\u001b[0m\n\u001b[1;32m-> 2489\u001b[1;33m             \u001b[0mvalues\u001b[0m \u001b[1;33m=\u001b[0m \u001b[0mself\u001b[0m\u001b[1;33m.\u001b[0m\u001b[0m_data\u001b[0m\u001b[1;33m.\u001b[0m\u001b[0mget\u001b[0m\u001b[1;33m(\u001b[0m\u001b[0mitem\u001b[0m\u001b[1;33m)\u001b[0m\u001b[1;33m\u001b[0m\u001b[0m\n\u001b[0m\u001b[0;32m   2490\u001b[0m             \u001b[0mres\u001b[0m \u001b[1;33m=\u001b[0m \u001b[0mself\u001b[0m\u001b[1;33m.\u001b[0m\u001b[0m_box_item_values\u001b[0m\u001b[1;33m(\u001b[0m\u001b[0mitem\u001b[0m\u001b[1;33m,\u001b[0m \u001b[0mvalues\u001b[0m\u001b[1;33m)\u001b[0m\u001b[1;33m\u001b[0m\u001b[0m\n\u001b[0;32m   2491\u001b[0m             \u001b[0mcache\u001b[0m\u001b[1;33m[\u001b[0m\u001b[0mitem\u001b[0m\u001b[1;33m]\u001b[0m \u001b[1;33m=\u001b[0m \u001b[0mres\u001b[0m\u001b[1;33m\u001b[0m\u001b[0m\n",
      "\u001b[1;32m~\\Anaconda3\\envs\\NLP\\lib\\site-packages\\pandas\\core\\internals.py\u001b[0m in \u001b[0;36mget\u001b[1;34m(self, item, fastpath)\u001b[0m\n\u001b[0;32m   4113\u001b[0m \u001b[1;33m\u001b[0m\u001b[0m\n\u001b[0;32m   4114\u001b[0m             \u001b[1;32mif\u001b[0m \u001b[1;32mnot\u001b[0m \u001b[0misna\u001b[0m\u001b[1;33m(\u001b[0m\u001b[0mitem\u001b[0m\u001b[1;33m)\u001b[0m\u001b[1;33m:\u001b[0m\u001b[1;33m\u001b[0m\u001b[0m\n\u001b[1;32m-> 4115\u001b[1;33m                 \u001b[0mloc\u001b[0m \u001b[1;33m=\u001b[0m \u001b[0mself\u001b[0m\u001b[1;33m.\u001b[0m\u001b[0mitems\u001b[0m\u001b[1;33m.\u001b[0m\u001b[0mget_loc\u001b[0m\u001b[1;33m(\u001b[0m\u001b[0mitem\u001b[0m\u001b[1;33m)\u001b[0m\u001b[1;33m\u001b[0m\u001b[0m\n\u001b[0m\u001b[0;32m   4116\u001b[0m             \u001b[1;32melse\u001b[0m\u001b[1;33m:\u001b[0m\u001b[1;33m\u001b[0m\u001b[0m\n\u001b[0;32m   4117\u001b[0m                 \u001b[0mindexer\u001b[0m \u001b[1;33m=\u001b[0m \u001b[0mnp\u001b[0m\u001b[1;33m.\u001b[0m\u001b[0marange\u001b[0m\u001b[1;33m(\u001b[0m\u001b[0mlen\u001b[0m\u001b[1;33m(\u001b[0m\u001b[0mself\u001b[0m\u001b[1;33m.\u001b[0m\u001b[0mitems\u001b[0m\u001b[1;33m)\u001b[0m\u001b[1;33m)\u001b[0m\u001b[1;33m[\u001b[0m\u001b[0misna\u001b[0m\u001b[1;33m(\u001b[0m\u001b[0mself\u001b[0m\u001b[1;33m.\u001b[0m\u001b[0mitems\u001b[0m\u001b[1;33m)\u001b[0m\u001b[1;33m]\u001b[0m\u001b[1;33m\u001b[0m\u001b[0m\n",
      "\u001b[1;32m~\\Anaconda3\\envs\\NLP\\lib\\site-packages\\pandas\\core\\indexes\\base.py\u001b[0m in \u001b[0;36mget_loc\u001b[1;34m(self, key, method, tolerance)\u001b[0m\n\u001b[0;32m   3078\u001b[0m                 \u001b[1;32mreturn\u001b[0m \u001b[0mself\u001b[0m\u001b[1;33m.\u001b[0m\u001b[0m_engine\u001b[0m\u001b[1;33m.\u001b[0m\u001b[0mget_loc\u001b[0m\u001b[1;33m(\u001b[0m\u001b[0mkey\u001b[0m\u001b[1;33m)\u001b[0m\u001b[1;33m\u001b[0m\u001b[0m\n\u001b[0;32m   3079\u001b[0m             \u001b[1;32mexcept\u001b[0m \u001b[0mKeyError\u001b[0m\u001b[1;33m:\u001b[0m\u001b[1;33m\u001b[0m\u001b[0m\n\u001b[1;32m-> 3080\u001b[1;33m                 \u001b[1;32mreturn\u001b[0m \u001b[0mself\u001b[0m\u001b[1;33m.\u001b[0m\u001b[0m_engine\u001b[0m\u001b[1;33m.\u001b[0m\u001b[0mget_loc\u001b[0m\u001b[1;33m(\u001b[0m\u001b[0mself\u001b[0m\u001b[1;33m.\u001b[0m\u001b[0m_maybe_cast_indexer\u001b[0m\u001b[1;33m(\u001b[0m\u001b[0mkey\u001b[0m\u001b[1;33m)\u001b[0m\u001b[1;33m)\u001b[0m\u001b[1;33m\u001b[0m\u001b[0m\n\u001b[0m\u001b[0;32m   3081\u001b[0m \u001b[1;33m\u001b[0m\u001b[0m\n\u001b[0;32m   3082\u001b[0m         \u001b[0mindexer\u001b[0m \u001b[1;33m=\u001b[0m \u001b[0mself\u001b[0m\u001b[1;33m.\u001b[0m\u001b[0mget_indexer\u001b[0m\u001b[1;33m(\u001b[0m\u001b[1;33m[\u001b[0m\u001b[0mkey\u001b[0m\u001b[1;33m]\u001b[0m\u001b[1;33m,\u001b[0m \u001b[0mmethod\u001b[0m\u001b[1;33m=\u001b[0m\u001b[0mmethod\u001b[0m\u001b[1;33m,\u001b[0m \u001b[0mtolerance\u001b[0m\u001b[1;33m=\u001b[0m\u001b[0mtolerance\u001b[0m\u001b[1;33m)\u001b[0m\u001b[1;33m\u001b[0m\u001b[0m\n",
      "\u001b[1;32mpandas\\_libs\\index.pyx\u001b[0m in \u001b[0;36mpandas._libs.index.IndexEngine.get_loc\u001b[1;34m()\u001b[0m\n",
      "\u001b[1;32mpandas\\_libs\\index.pyx\u001b[0m in \u001b[0;36mpandas._libs.index.IndexEngine.get_loc\u001b[1;34m()\u001b[0m\n",
      "\u001b[1;32mpandas\\_libs\\hashtable_class_helper.pxi\u001b[0m in \u001b[0;36mpandas._libs.hashtable.PyObjectHashTable.get_item\u001b[1;34m()\u001b[0m\n",
      "\u001b[1;32mpandas\\_libs\\hashtable_class_helper.pxi\u001b[0m in \u001b[0;36mpandas._libs.hashtable.PyObjectHashTable.get_item\u001b[1;34m()\u001b[0m\n",
      "\u001b[1;31mKeyError\u001b[0m: 'industry_group'"
     ]
    }
   ],
   "source": [
    "## word cloud for top 3 categories\n",
    "data_tech = desc_ind[desc_ind['industry_group']=='Data/Technology']['normalized_description'].values\n",
    "biz_fin = desc_ind[desc_ind['industry_group']=='Business & Financial Services']['normalized_description'].values\n",
    "con = desc_ind[desc_ind['industry_group']=='Consumer Products & Services']['normalized_description'].values\n",
    "energy = desc_ind[desc_ind['industry_group']=='Energy']['normalized_description'].values"
   ]
  },
  {
   "cell_type": "code",
   "execution_count": null,
   "metadata": {},
   "outputs": [],
   "source": [
    "from wordcloud import WordCloud, STOPWORDS\n",
    "topic_list = {\"Data/Technology\": data_tech, \"Business & Financial Services\": biz_fin, \n",
    "              \"Consumer Products & Services\": con}\n",
    "\n",
    "def generate_wordcloud(topic, title):\n",
    "    wordcloud = WordCloud().generate(\" \".join(topic))\n",
    "    plt.imshow(wordcloud)#, interpolation='bilinear')\n",
    "    plt.title(title)\n",
    "    plt.axis(\"off\")\n",
    "    plt.show()\n",
    "\n",
    "for key, value in topic_list.items():\n",
    "    generate_wordcloud(value, key)"
   ]
  },
  {
   "cell_type": "code",
   "execution_count": null,
   "metadata": {},
   "outputs": [],
   "source": [
    "# We can see that the companies in the Business & Financial Services sector often offer services on investment, credit, research, and financial and capital management. The Data & Technology sector focuses on datum(data), analytics, and web and software application. Business & Legal Services sector provides mostly legal help, risk management, and lawyer services."
   ]
  },
  {
   "cell_type": "code",
   "execution_count": null,
   "metadata": {},
   "outputs": [],
   "source": []
  },
  {
   "cell_type": "code",
   "execution_count": null,
   "metadata": {},
   "outputs": [],
   "source": []
  },
  {
   "cell_type": "code",
   "execution_count": null,
   "metadata": {},
   "outputs": [],
   "source": []
  },
  {
   "cell_type": "code",
   "execution_count": null,
   "metadata": {},
   "outputs": [],
   "source": []
  }
 ],
 "metadata": {
  "kernelspec": {
   "display_name": "Python 3",
   "language": "python",
   "name": "python3"
  },
  "language_info": {
   "codemirror_mode": {
    "name": "ipython",
    "version": 3
   },
   "file_extension": ".py",
   "mimetype": "text/x-python",
   "name": "python",
   "nbconvert_exporter": "python",
   "pygments_lexer": "ipython3",
   "version": "3.5.6"
  }
 },
 "nbformat": 4,
 "nbformat_minor": 2
}
