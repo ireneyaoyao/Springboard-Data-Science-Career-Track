{
 "cells": [
  {
   "cell_type": "markdown",
   "metadata": {},
   "source": [
    "## Exploratory Data Analysis"
   ]
  },
  {
   "cell_type": "markdown",
   "metadata": {},
   "source": [
    "### Import Data"
   ]
  },
  {
   "cell_type": "code",
   "execution_count": 1,
   "metadata": {},
   "outputs": [],
   "source": [
    "import pandas as pd\n",
    "import numpy as np\n",
    "import matplotlib.pyplot as plt\n",
    "import seaborn as sns\n",
    "%matplotlib inline  \n",
    "pd.options.display.max_columns = None"
   ]
  },
  {
   "cell_type": "markdown",
   "metadata": {},
   "source": [
    "The optimized dataset after data wrangling was stored as a pickled file. "
   ]
  },
  {
   "cell_type": "code",
   "execution_count": 2,
   "metadata": {},
   "outputs": [],
   "source": [
    "df = pd.read_pickle('project_donation_optimized.pkl')"
   ]
  },
  {
   "cell_type": "markdown",
   "metadata": {},
   "source": [
    "### Exploratory Data Analysis"
   ]
  },
  {
   "cell_type": "markdown",
   "metadata": {},
   "source": [
    "The exploratory data analysis provides an in-depth analysis of the DonorsChoose dataset. It provides insights from different perspectives including donations, projects, and how the userbase grew over time. To make the analysis more relevant to the US market, we will only look at donations that happened in US. "
   ]
  },
  {
   "cell_type": "code",
   "execution_count": 4,
   "metadata": {},
   "outputs": [],
   "source": [
    "## get US dataset by mapping the states\n",
    "xl = pd.ExcelFile('state_long_lat.xlsx')\n",
    "lon_lat_map = xl.parse('state_long_lat')\n",
    "us_states = lon_lat_map['State_Short']\n",
    "df_us = df[(df['donor_state'].notnull()) & (df['donor_state'].isin(us_states))]"
   ]
  },
  {
   "cell_type": "markdown",
   "metadata": {},
   "source": [
    "### Donors & Donations"
   ]
  },
  {
   "cell_type": "markdown",
   "metadata": {},
   "source": [
    "To start with, we will run some general numbers from the dataset including total number of donors and donations to see how many donors are actively using the website to make contributions. "
   ]
  },
  {
   "cell_type": "code",
   "execution_count": 71,
   "metadata": {
    "scrolled": true
   },
   "outputs": [
    {
     "name": "stdout",
     "output_type": "stream",
     "text": [
      "As of October 2016, there are 1786756 registered donors on DonorsChoose, who have made a total contribution of 362873020.0 dollars.\n"
     ]
    }
   ],
   "source": [
    "## total number of donors\n",
    "donor_number = df_us['_donor_acctid'].nunique()\n",
    "total_donation = df_us['donation_total'].sum()\n",
    "print(\"As of October 2016, there are \" + \n",
    "      str(donor_number) + \n",
    "      \"\"\" registered donors on DonorsChoose, who have made a total contribution of \"\"\" + \n",
    "      str(total_donation) + \" dollars.\")"
   ]
  },
  {
   "cell_type": "markdown",
   "metadata": {},
   "source": [
    "Next, I would love to see among all the users, how many are frequent versus single-time donors. "
   ]
  },
  {
   "cell_type": "code",
   "execution_count": 6,
   "metadata": {
    "scrolled": true
   },
   "outputs": [
    {
     "data": {
      "text/html": [
       "<div>\n",
       "<style scoped>\n",
       "    .dataframe tbody tr th:only-of-type {\n",
       "        vertical-align: middle;\n",
       "    }\n",
       "\n",
       "    .dataframe tbody tr th {\n",
       "        vertical-align: top;\n",
       "    }\n",
       "\n",
       "    .dataframe thead th {\n",
       "        text-align: right;\n",
       "    }\n",
       "</style>\n",
       "<table border=\"1\" class=\"dataframe\">\n",
       "  <thead>\n",
       "    <tr style=\"text-align: right;\">\n",
       "      <th></th>\n",
       "      <th>donation_frequency</th>\n",
       "      <th>count</th>\n",
       "    </tr>\n",
       "  </thead>\n",
       "  <tbody>\n",
       "    <tr>\n",
       "      <th>0</th>\n",
       "      <td>1</td>\n",
       "      <td>1318268</td>\n",
       "    </tr>\n",
       "    <tr>\n",
       "      <th>1</th>\n",
       "      <td>2</td>\n",
       "      <td>250701</td>\n",
       "    </tr>\n",
       "    <tr>\n",
       "      <th>2</th>\n",
       "      <td>3</td>\n",
       "      <td>85637</td>\n",
       "    </tr>\n",
       "    <tr>\n",
       "      <th>3</th>\n",
       "      <td>4</td>\n",
       "      <td>40662</td>\n",
       "    </tr>\n",
       "    <tr>\n",
       "      <th>4</th>\n",
       "      <td>5</td>\n",
       "      <td>23093</td>\n",
       "    </tr>\n",
       "  </tbody>\n",
       "</table>\n",
       "</div>"
      ],
      "text/plain": [
       "   donation_frequency    count\n",
       "0                   1  1318268\n",
       "1                   2   250701\n",
       "2                   3    85637\n",
       "3                   4    40662\n",
       "4                   5    23093"
      ]
     },
     "execution_count": 6,
     "metadata": {},
     "output_type": "execute_result"
    }
   ],
   "source": [
    "donation_count = df_us.groupby('_donor_acctid').size().to_frame().reset_index()\n",
    "donation_count.columns = ['donor_id', 'donation_count']\n",
    "#donation_count.head()\n",
    "donation_freq = donation_count['donation_count'].value_counts(ascending=False).to_frame().reset_index()\n",
    "donation_freq.columns = ['donation_frequency', 'count']\n",
    "donation_freq.head()"
   ]
  },
  {
   "cell_type": "markdown",
   "metadata": {},
   "source": [
    "Out of the 1786756 donors, majority (1318268) of them have only donated once, and only 26% are frequent donors. "
   ]
  },
  {
   "cell_type": "code",
   "execution_count": 8,
   "metadata": {
    "scrolled": true
   },
   "outputs": [
    {
     "data": {
      "text/plain": [
       "1997"
      ]
     },
     "execution_count": 8,
     "metadata": {},
     "output_type": "execute_result"
    }
   ],
   "source": [
    "big_donor = donation_count[donation_count['donation_count']>=100]\n",
    "big_donor['donor_id'].count()"
   ]
  },
  {
   "cell_type": "markdown",
   "metadata": {},
   "source": [
    "There are 1997 donors who have donated more than 100 times. I will categorize them into the big_donor category for future analysis."
   ]
  },
  {
   "cell_type": "markdown",
   "metadata": {},
   "source": [
    "### Donation Distribution"
   ]
  },
  {
   "cell_type": "markdown",
   "metadata": {},
   "source": [
    "It is interesting to see how different states are using the service and where the donations are concentrated. This can be reflected in both the number of donations and total donation amount in each state. "
   ]
  },
  {
   "cell_type": "code",
   "execution_count": 9,
   "metadata": {},
   "outputs": [],
   "source": [
    "donor_state_count = df_us.groupby(df_us['donor_state'].astype('object')).size().sort_values(ascending=False)\n",
    "max_donor_state = donor_state_count.head(10)\n",
    "min_donor_state = donor_state_count.tail(10)"
   ]
  },
  {
   "cell_type": "code",
   "execution_count": 13,
   "metadata": {},
   "outputs": [],
   "source": [
    "state_don_amt = df_us.groupby(df_us['donor_state'].astype('object'))['donation_total'].sum().sort_values(ascending=False)\n",
    "max_state_amt = state_don_amt.head(10)\n",
    "min_state_amt = state_don_amt.tail(10)"
   ]
  },
  {
   "cell_type": "code",
   "execution_count": 77,
   "metadata": {
    "scrolled": false
   },
   "outputs": [
    {
     "data": {
      "text/plain": [
       "<matplotlib.axes._subplots.AxesSubplot at 0x200c3dcd240>"
      ]
     },
     "execution_count": 77,
     "metadata": {},
     "output_type": "execute_result"
    },
    {
     "data": {
      "image/png": "[encoded data removed]",
      "text/plain": [
       "<Figure size 936x288 with 2 Axes>"
      ]
     },
     "metadata": {},
     "output_type": "display_data"
    }
   ],
   "source": [
    "### states with the most donation\n",
    "fig, (ax0, ax1) = plt.subplots(nrows=1, ncols=2, figsize=(13, 4))\n",
    "sns.set_style('white')\n",
    "sns.set_palette('muted')\n",
    "ax0.set_title('States with the most donation')\n",
    "ax1.set_title('States with the highest amount of donation')\n",
    "max_donor_state.plot.bar(ax=ax0)\n",
    "max_state_amt.plot.bar(ax=ax1)"
   ]
  },
  {
   "cell_type": "code",
   "execution_count": 78,
   "metadata": {
    "scrolled": true
   },
   "outputs": [
    {
     "data": {
      "text/plain": [
       "<matplotlib.axes._subplots.AxesSubplot at 0x200c3e4d8d0>"
      ]
     },
     "execution_count": 78,
     "metadata": {},
     "output_type": "execute_result"
    },
    {
     "data": {
      "image/png": "[encoded data removed]",
      "text/plain": [
       "<Figure size 936x288 with 2 Axes>"
      ]
     },
     "metadata": {},
     "output_type": "display_data"
    }
   ],
   "source": [
    "### states with the least donation\n",
    "fig, (ax0, ax1) = plt.subplots(nrows=1, ncols=2, figsize=(13, 4))\n",
    "sns.set_style('white')\n",
    "ax0.set_title('States with the least donation')\n",
    "ax1.set_title('States with the lowest amount of donation')\n",
    "min_donor_state.plot.bar(ax=ax0, color='b')\n",
    "min_state_amt.plot.bar(ax=ax1, color='b')"
   ]
  },
  {
   "cell_type": "markdown",
   "metadata": {},
   "source": [
    "Lastly, let's find out the cities with the most number of donations and store them as a list of big cities.  "
   ]
  },
  {
   "cell_type": "code",
   "execution_count": 79,
   "metadata": {
    "scrolled": false
   },
   "outputs": [],
   "source": [
    "donor_city_count = df_us.groupby(df_us['donor_city'].astype('object')).size().sort_values(ascending=False)\n",
    "max_donor_city = donor_city_count.head(10)\n",
    "big_city = max_donor_city.index.tolist()"
   ]
  },
  {
   "cell_type": "markdown",
   "metadata": {},
   "source": [
    "### Projects"
   ]
  },
  {
   "cell_type": "code",
   "execution_count": 17,
   "metadata": {},
   "outputs": [
    {
     "name": "stdout",
     "output_type": "stream",
     "text": [
      "924255\n",
      "2016-10-11 00:00:00\n"
     ]
    }
   ],
   "source": [
    "print(df_us['_projectid'].nunique())\n",
    "print(df_us['date_posted'].max())"
   ]
  },
  {
   "cell_type": "markdown",
   "metadata": {},
   "source": [
    "As of October 2016, there are in total 924,255 projects posted on the website. In order to see how the number of projects has grown over time, we will break the numbers down into different years. We also notice that for the projects posted on the platform, they can either be completed or expired without enough donation. We would also like to see the trends in fully-funded projects. "
   ]
  },
  {
   "cell_type": "code",
   "execution_count": 18,
   "metadata": {
    "scrolled": false
   },
   "outputs": [
    {
     "name": "stderr",
     "output_type": "stream",
     "text": [
      "C:\\Users\\Leo\\Anaconda3\\lib\\site-packages\\ipykernel_launcher.py:1: SettingWithCopyWarning: \n",
      "A value is trying to be set on a copy of a slice from a DataFrame.\n",
      "Try using .loc[row_indexer,col_indexer] = value instead\n",
      "\n",
      "See the caveats in the documentation: http://pandas.pydata.org/pandas-docs/stable/indexing.html#indexing-view-versus-copy\n",
      "  \"\"\"Entry point for launching an IPython kernel.\n",
      "C:\\Users\\Leo\\Anaconda3\\lib\\site-packages\\ipykernel_launcher.py:2: SettingWithCopyWarning: \n",
      "A value is trying to be set on a copy of a slice from a DataFrame.\n",
      "Try using .loc[row_indexer,col_indexer] = value instead\n",
      "\n",
      "See the caveats in the documentation: http://pandas.pydata.org/pandas-docs/stable/indexing.html#indexing-view-versus-copy\n",
      "  \n"
     ]
    }
   ],
   "source": [
    "df_us['project_year'] = df_us['date_posted'].dt.year\n",
    "df_us['complete_year'] = df_us['date_completed'].dt.year"
   ]
  },
  {
   "cell_type": "code",
   "execution_count": 19,
   "metadata": {},
   "outputs": [],
   "source": [
    "### projects posted over time\n",
    "project_over_time = df_us.groupby('project_year')['_projectid'].nunique()\n",
    "completed_projects = df_us[df_us['funding_status']=='completed']\n",
    "completed_over_time = completed_projects.groupby('complete_year')['_projectid'].nunique()"
   ]
  },
  {
   "cell_type": "code",
   "execution_count": 85,
   "metadata": {
    "scrolled": false
   },
   "outputs": [
    {
     "data": {
      "text/plain": [
       "Text(0.5, 1.0, 'Number of total and completed projects')"
      ]
     },
     "execution_count": 85,
     "metadata": {},
     "output_type": "execute_result"
    },
    {
     "data": {
      "image/png": "[encoded data removed]",
      "text/plain": [
       "<Figure size 432x288 with 1 Axes>"
      ]
     },
     "metadata": {},
     "output_type": "display_data"
    }
   ],
   "source": [
    "sns.set_style('white')\n",
    "fig, ax = plt.subplots()\n",
    "project_over_time.plot.area(ax=ax)\n",
    "completed_over_time.plot.area(ax=ax)\n",
    "ax.set_title('Number of total and completed projects')"
   ]
  },
  {
   "cell_type": "markdown",
   "metadata": {},
   "source": [
    "We can see that the project flow started to pick up in a fast pace starting around year 2006. A quick research on the company's Wikipedia page unfolds that the organization has been given Charity Navigator's highest rating every year since 2005. This corresponds to the high growth path revealed in the chart.  "
   ]
  },
  {
   "cell_type": "markdown",
   "metadata": {},
   "source": [
    "With the drastic growth in number of posted projects, it would important to keep the turnaround. I am curious to know whether it's taking longer or shorter for each project to be completed. "
   ]
  },
  {
   "cell_type": "code",
   "execution_count": 21,
   "metadata": {},
   "outputs": [
    {
     "name": "stderr",
     "output_type": "stream",
     "text": [
      "C:\\Users\\Leo\\Anaconda3\\lib\\site-packages\\ipykernel_launcher.py:3: SettingWithCopyWarning: \n",
      "A value is trying to be set on a copy of a slice from a DataFrame.\n",
      "Try using .loc[row_indexer,col_indexer] = value instead\n",
      "\n",
      "See the caveats in the documentation: http://pandas.pydata.org/pandas-docs/stable/indexing.html#indexing-view-versus-copy\n",
      "  This is separate from the ipykernel package so we can avoid doing imports until\n"
     ]
    }
   ],
   "source": [
    "### average time for projects to be completed\n",
    "df_complete = df_us[df_us['funding_status']=='completed']\n",
    "df_complete['days_to_complete'] = (df_complete['date_completed']-df_complete['date_posted']).dt.days\n",
    "df_complete= df_complete[['_projectid', 'project_year', 'days_to_complete']].drop_duplicates()"
   ]
  },
  {
   "cell_type": "code",
   "execution_count": 80,
   "metadata": {
    "scrolled": true
   },
   "outputs": [],
   "source": [
    "#df_complete.head()\n",
    "df_complete_nan = df_complete.dropna()"
   ]
  },
  {
   "cell_type": "code",
   "execution_count": 81,
   "metadata": {
    "scrolled": true
   },
   "outputs": [],
   "source": [
    "average_completion_days = df_complete.groupby('project_year')['days_to_complete'].mean()\n",
    "#average_completion_days.values"
   ]
  },
  {
   "cell_type": "code",
   "execution_count": 88,
   "metadata": {
    "scrolled": false
   },
   "outputs": [
    {
     "name": "stderr",
     "output_type": "stream",
     "text": [
      "C:\\Users\\Leo\\Anaconda3\\lib\\site-packages\\scipy\\stats\\stats.py:1713: FutureWarning: Using a non-tuple sequence for multidimensional indexing is deprecated; use `arr[tuple(seq)]` instead of `arr[seq]`. In the future this will be interpreted as an array index, `arr[np.array(seq)]`, which will result either in an error or a different result.\n",
      "  return np.add.reduce(sorted[indexer] * weights, axis=axis) / sumval\n"
     ]
    },
    {
     "data": {
      "text/plain": [
       "<matplotlib.axes._subplots.AxesSubplot at 0x200c333f438>"
      ]
     },
     "execution_count": 88,
     "metadata": {},
     "output_type": "execute_result"
    },
    {
     "data": {
      "image/png": "[encoded data removed]",
      "text/plain": [
       "<Figure size 936x360 with 2 Axes>"
      ]
     },
     "metadata": {},
     "output_type": "display_data"
    }
   ],
   "source": [
    "fig, (ax0, ax1) = plt.subplots(nrows=1, ncols=2, figsize=(13, 5))\n",
    "sns.set_style('white')\n",
    "ax0.set_title('average project completion days')\n",
    "ax1.set_title('average completion days over time')\n",
    "sns.distplot(df_complete_nan['days_to_complete'], ax = ax0)\n",
    "sns.lineplot(x=average_completion_days.index, y=average_completion_days.values, ax = ax1)"
   ]
  },
  {
   "cell_type": "markdown",
   "metadata": {},
   "source": [
    "Majority of the projects are fully-donated within 100 days, and the turnaround keeps decreasing with more and more people start using the platform. The projects that are posted recently were completed within around a month. "
   ]
  },
  {
   "cell_type": "markdown",
   "metadata": {},
   "source": [
    "Now we have an idea of the project volume, let's take a look at the donation amount associated with each project. We will identify the projects with the most donation count, highest donation amount, and the average donation of all the completed projects. "
   ]
  },
  {
   "cell_type": "code",
   "execution_count": 25,
   "metadata": {},
   "outputs": [
    {
     "data": {
      "text/plain": [
       "457.025634765625"
      ]
     },
     "execution_count": 25,
     "metadata": {},
     "output_type": "execute_result"
    }
   ],
   "source": [
    "## project donation size\n",
    "total_donation_per_project = completed_projects.groupby('_projectid')['donation_total'].sum()\n",
    "total_donation_per_project = total_donation_per_project.sort_values(ascending=False)\n",
    "average_donation = total_donation_per_project.mean()\n",
    "average_donation"
   ]
  },
  {
   "cell_type": "code",
   "execution_count": 26,
   "metadata": {
    "scrolled": true
   },
   "outputs": [
    {
     "name": "stdout",
     "output_type": "stream",
     "text": [
      "highest donation amount: 186951.77\n",
      "max number of donation: 848\n"
     ]
    }
   ],
   "source": [
    "## max donation size\n",
    "print('highest donation amount: ' + str(total_donation_per_project.max()))\n",
    "print('max number of donation: ' + str(completed_projects['num_donors'].max()))"
   ]
  },
  {
   "cell_type": "code",
   "execution_count": 27,
   "metadata": {
    "scrolled": true
   },
   "outputs": [
    {
     "name": "stdout",
     "output_type": "stream",
     "text": [
      "_projectid\n",
      "bbbc6cccccd3c1bc8c44ec494bb6cf23    186951.765625\n",
      "Name: donation_total, dtype: float32\n"
     ]
    }
   ],
   "source": [
    "print(total_donation_per_project.sort_values(ascending=False).head(1))"
   ]
  },
  {
   "cell_type": "code",
   "execution_count": 28,
   "metadata": {},
   "outputs": [
    {
     "data": {
      "text/html": [
       "<div>\n",
       "<style scoped>\n",
       "    .dataframe tbody tr th:only-of-type {\n",
       "        vertical-align: middle;\n",
       "    }\n",
       "\n",
       "    .dataframe tbody tr th {\n",
       "        vertical-align: top;\n",
       "    }\n",
       "\n",
       "    .dataframe thead th {\n",
       "        text-align: right;\n",
       "    }\n",
       "</style>\n",
       "<table border=\"1\" class=\"dataframe\">\n",
       "  <thead>\n",
       "    <tr style=\"text-align: right;\">\n",
       "      <th></th>\n",
       "      <th>_donationid</th>\n",
       "      <th>_projectid</th>\n",
       "      <th>_donor_acctid</th>\n",
       "      <th>donor_city</th>\n",
       "      <th>donor_state</th>\n",
       "      <th>is_teacher_acct</th>\n",
       "      <th>donation_timestamp</th>\n",
       "      <th>donation_to_project</th>\n",
       "      <th>donation_optional_support</th>\n",
       "      <th>donation_total</th>\n",
       "      <th>payment_method</th>\n",
       "      <th>is_teacher_referred</th>\n",
       "      <th>thank_you_packet_mailed</th>\n",
       "      <th>_teacher_acctid</th>\n",
       "      <th>school_ncesid</th>\n",
       "      <th>school_latitude</th>\n",
       "      <th>school_longitude</th>\n",
       "      <th>school_city</th>\n",
       "      <th>school_state</th>\n",
       "      <th>school_zip</th>\n",
       "      <th>school_metro</th>\n",
       "      <th>school_district</th>\n",
       "      <th>school_county</th>\n",
       "      <th>teacher_prefix</th>\n",
       "      <th>primary_focus_subject</th>\n",
       "      <th>primary_focus_area</th>\n",
       "      <th>secondary_focus_subject</th>\n",
       "      <th>secondary_focus_area</th>\n",
       "      <th>resource_type</th>\n",
       "      <th>poverty_level</th>\n",
       "      <th>grade_level</th>\n",
       "      <th>total_price_excluding_optional_support</th>\n",
       "      <th>total_price_including_optional_support</th>\n",
       "      <th>students_reached</th>\n",
       "      <th>total_donations</th>\n",
       "      <th>num_donors</th>\n",
       "      <th>eligible_double_your_impact_match</th>\n",
       "      <th>eligible_almost_home_match</th>\n",
       "      <th>funding_status</th>\n",
       "      <th>date_posted</th>\n",
       "      <th>date_completed</th>\n",
       "      <th>date_thank_you_packet_mailed</th>\n",
       "      <th>date_expiration</th>\n",
       "      <th>project_year</th>\n",
       "      <th>complete_year</th>\n",
       "    </tr>\n",
       "  </thead>\n",
       "  <tbody>\n",
       "    <tr>\n",
       "      <th>254134</th>\n",
       "      <td>01d72050cfc5714eb5f9bde7f2a1e2f0</td>\n",
       "      <td>bbbc6cccccd3c1bc8c44ec494bb6cf23</td>\n",
       "      <td>4242433cbedd23bf0f4f3ff22eb17ccc</td>\n",
       "      <td>NaN</td>\n",
       "      <td>OR</td>\n",
       "      <td>0</td>\n",
       "      <td>2015-12-03 14:04:45.633</td>\n",
       "      <td>425.00</td>\n",
       "      <td>75.00</td>\n",
       "      <td>500.0</td>\n",
       "      <td>paypal</td>\n",
       "      <td>0</td>\n",
       "      <td>f</td>\n",
       "      <td>ba835ad62be9d5f38b2e54a8edbf83fb</td>\n",
       "      <td>NaN</td>\n",
       "      <td>40.839062</td>\n",
       "      <td>-73.900124</td>\n",
       "      <td>New York City</td>\n",
       "      <td>NY</td>\n",
       "      <td>10457.0</td>\n",
       "      <td>urban</td>\n",
       "      <td>New York Dept Of Education</td>\n",
       "      <td>Bronx</td>\n",
       "      <td>Mr.</td>\n",
       "      <td>Gym &amp; Fitness</td>\n",
       "      <td>Health &amp; Sports</td>\n",
       "      <td>NaN</td>\n",
       "      <td>NaN</td>\n",
       "      <td>Supplies</td>\n",
       "      <td>highest poverty</td>\n",
       "      <td>Grades 3-5</td>\n",
       "      <td>217377.015625</td>\n",
       "      <td>255737.671875</td>\n",
       "      <td>999.0</td>\n",
       "      <td>249253.3125</td>\n",
       "      <td>313</td>\n",
       "      <td>t</td>\n",
       "      <td>f</td>\n",
       "      <td>completed</td>\n",
       "      <td>2015-08-28</td>\n",
       "      <td>2015-12-28</td>\n",
       "      <td>NaT</td>\n",
       "      <td>2016-01-29</td>\n",
       "      <td>2015</td>\n",
       "      <td>2015.0</td>\n",
       "    </tr>\n",
       "    <tr>\n",
       "      <th>254136</th>\n",
       "      <td>01dd0a7985b986793d9d6ae6204023b0</td>\n",
       "      <td>bbbc6cccccd3c1bc8c44ec494bb6cf23</td>\n",
       "      <td>0e210f62f3f0cb27598664a7f0116b09</td>\n",
       "      <td>NaN</td>\n",
       "      <td>NY</td>\n",
       "      <td>0</td>\n",
       "      <td>2015-12-01 23:38:29.281</td>\n",
       "      <td>21.25</td>\n",
       "      <td>3.75</td>\n",
       "      <td>25.0</td>\n",
       "      <td>creditcard</td>\n",
       "      <td>0</td>\n",
       "      <td>f</td>\n",
       "      <td>ba835ad62be9d5f38b2e54a8edbf83fb</td>\n",
       "      <td>NaN</td>\n",
       "      <td>40.839062</td>\n",
       "      <td>-73.900124</td>\n",
       "      <td>New York City</td>\n",
       "      <td>NY</td>\n",
       "      <td>10457.0</td>\n",
       "      <td>urban</td>\n",
       "      <td>New York Dept Of Education</td>\n",
       "      <td>Bronx</td>\n",
       "      <td>Mr.</td>\n",
       "      <td>Gym &amp; Fitness</td>\n",
       "      <td>Health &amp; Sports</td>\n",
       "      <td>NaN</td>\n",
       "      <td>NaN</td>\n",
       "      <td>Supplies</td>\n",
       "      <td>highest poverty</td>\n",
       "      <td>Grades 3-5</td>\n",
       "      <td>217377.015625</td>\n",
       "      <td>255737.671875</td>\n",
       "      <td>999.0</td>\n",
       "      <td>249253.3125</td>\n",
       "      <td>313</td>\n",
       "      <td>t</td>\n",
       "      <td>f</td>\n",
       "      <td>completed</td>\n",
       "      <td>2015-08-28</td>\n",
       "      <td>2015-12-28</td>\n",
       "      <td>NaT</td>\n",
       "      <td>2016-01-29</td>\n",
       "      <td>2015</td>\n",
       "      <td>2015.0</td>\n",
       "    </tr>\n",
       "  </tbody>\n",
       "</table>\n",
       "</div>"
      ],
      "text/plain": [
       "                             _donationid                        _projectid  \\\n",
       "254134  01d72050cfc5714eb5f9bde7f2a1e2f0  bbbc6cccccd3c1bc8c44ec494bb6cf23   \n",
       "254136  01dd0a7985b986793d9d6ae6204023b0  bbbc6cccccd3c1bc8c44ec494bb6cf23   \n",
       "\n",
       "                           _donor_acctid donor_city donor_state  \\\n",
       "254134  4242433cbedd23bf0f4f3ff22eb17ccc        NaN          OR   \n",
       "254136  0e210f62f3f0cb27598664a7f0116b09        NaN          NY   \n",
       "\n",
       "        is_teacher_acct      donation_timestamp  donation_to_project  \\\n",
       "254134                0 2015-12-03 14:04:45.633               425.00   \n",
       "254136                0 2015-12-01 23:38:29.281                21.25   \n",
       "\n",
       "        donation_optional_support  donation_total payment_method  \\\n",
       "254134                      75.00           500.0         paypal   \n",
       "254136                       3.75            25.0     creditcard   \n",
       "\n",
       "        is_teacher_referred thank_you_packet_mailed  \\\n",
       "254134                    0                       f   \n",
       "254136                    0                       f   \n",
       "\n",
       "                         _teacher_acctid  school_ncesid  school_latitude  \\\n",
       "254134  ba835ad62be9d5f38b2e54a8edbf83fb            NaN        40.839062   \n",
       "254136  ba835ad62be9d5f38b2e54a8edbf83fb            NaN        40.839062   \n",
       "\n",
       "        school_longitude    school_city school_state  school_zip school_metro  \\\n",
       "254134        -73.900124  New York City           NY     10457.0        urban   \n",
       "254136        -73.900124  New York City           NY     10457.0        urban   \n",
       "\n",
       "                   school_district school_county teacher_prefix  \\\n",
       "254134  New York Dept Of Education         Bronx            Mr.   \n",
       "254136  New York Dept Of Education         Bronx            Mr.   \n",
       "\n",
       "       primary_focus_subject primary_focus_area secondary_focus_subject  \\\n",
       "254134         Gym & Fitness    Health & Sports                     NaN   \n",
       "254136         Gym & Fitness    Health & Sports                     NaN   \n",
       "\n",
       "       secondary_focus_area resource_type    poverty_level grade_level  \\\n",
       "254134                  NaN      Supplies  highest poverty  Grades 3-5   \n",
       "254136                  NaN      Supplies  highest poverty  Grades 3-5   \n",
       "\n",
       "        total_price_excluding_optional_support  \\\n",
       "254134                           217377.015625   \n",
       "254136                           217377.015625   \n",
       "\n",
       "        total_price_including_optional_support  students_reached  \\\n",
       "254134                           255737.671875             999.0   \n",
       "254136                           255737.671875             999.0   \n",
       "\n",
       "        total_donations  num_donors eligible_double_your_impact_match  \\\n",
       "254134      249253.3125         313                                 t   \n",
       "254136      249253.3125         313                                 t   \n",
       "\n",
       "       eligible_almost_home_match funding_status date_posted date_completed  \\\n",
       "254134                          f      completed  2015-08-28     2015-12-28   \n",
       "254136                          f      completed  2015-08-28     2015-12-28   \n",
       "\n",
       "       date_thank_you_packet_mailed date_expiration  project_year  \\\n",
       "254134                          NaT      2016-01-29          2015   \n",
       "254136                          NaT      2016-01-29          2015   \n",
       "\n",
       "        complete_year  \n",
       "254134         2015.0  \n",
       "254136         2015.0  "
      ]
     },
     "execution_count": 28,
     "metadata": {},
     "output_type": "execute_result"
    }
   ],
   "source": [
    "completed_projects[completed_projects['_projectid']=='bbbc6cccccd3c1bc8c44ec494bb6cf23'].head(2)"
   ]
  },
  {
   "cell_type": "code",
   "execution_count": 29,
   "metadata": {
    "scrolled": false
   },
   "outputs": [
    {
     "data": {
      "text/html": [
       "<div>\n",
       "<style scoped>\n",
       "    .dataframe tbody tr th:only-of-type {\n",
       "        vertical-align: middle;\n",
       "    }\n",
       "\n",
       "    .dataframe tbody tr th {\n",
       "        vertical-align: top;\n",
       "    }\n",
       "\n",
       "    .dataframe thead th {\n",
       "        text-align: right;\n",
       "    }\n",
       "</style>\n",
       "<table border=\"1\" class=\"dataframe\">\n",
       "  <thead>\n",
       "    <tr style=\"text-align: right;\">\n",
       "      <th></th>\n",
       "      <th>_donationid</th>\n",
       "      <th>_projectid</th>\n",
       "      <th>_donor_acctid</th>\n",
       "      <th>donor_city</th>\n",
       "      <th>donor_state</th>\n",
       "      <th>is_teacher_acct</th>\n",
       "      <th>donation_timestamp</th>\n",
       "      <th>donation_to_project</th>\n",
       "      <th>donation_optional_support</th>\n",
       "      <th>donation_total</th>\n",
       "      <th>payment_method</th>\n",
       "      <th>is_teacher_referred</th>\n",
       "      <th>thank_you_packet_mailed</th>\n",
       "      <th>_teacher_acctid</th>\n",
       "      <th>school_ncesid</th>\n",
       "      <th>school_latitude</th>\n",
       "      <th>school_longitude</th>\n",
       "      <th>school_city</th>\n",
       "      <th>school_state</th>\n",
       "      <th>school_zip</th>\n",
       "      <th>school_metro</th>\n",
       "      <th>school_district</th>\n",
       "      <th>school_county</th>\n",
       "      <th>teacher_prefix</th>\n",
       "      <th>primary_focus_subject</th>\n",
       "      <th>primary_focus_area</th>\n",
       "      <th>secondary_focus_subject</th>\n",
       "      <th>secondary_focus_area</th>\n",
       "      <th>resource_type</th>\n",
       "      <th>poverty_level</th>\n",
       "      <th>grade_level</th>\n",
       "      <th>total_price_excluding_optional_support</th>\n",
       "      <th>total_price_including_optional_support</th>\n",
       "      <th>students_reached</th>\n",
       "      <th>total_donations</th>\n",
       "      <th>num_donors</th>\n",
       "      <th>eligible_double_your_impact_match</th>\n",
       "      <th>eligible_almost_home_match</th>\n",
       "      <th>funding_status</th>\n",
       "      <th>date_posted</th>\n",
       "      <th>date_completed</th>\n",
       "      <th>date_thank_you_packet_mailed</th>\n",
       "      <th>date_expiration</th>\n",
       "      <th>project_year</th>\n",
       "      <th>complete_year</th>\n",
       "    </tr>\n",
       "  </thead>\n",
       "  <tbody>\n",
       "    <tr>\n",
       "      <th>17863</th>\n",
       "      <td>0009d2759ff78b89a8b85b95ffc1e921</td>\n",
       "      <td>c34218abf3fecd36be01305d67ed7fbb</td>\n",
       "      <td>9437d67acc13a0643c8667c019602b9d</td>\n",
       "      <td>NaN</td>\n",
       "      <td>CA</td>\n",
       "      <td>0</td>\n",
       "      <td>2015-05-29 01:04:07.193</td>\n",
       "      <td>84.150002</td>\n",
       "      <td>14.85</td>\n",
       "      <td>99.0</td>\n",
       "      <td>creditcard</td>\n",
       "      <td>1</td>\n",
       "      <td>f</td>\n",
       "      <td>7fe6dd0c1af5f911e9bc38030cfb4ced</td>\n",
       "      <td>6.112201e+10</td>\n",
       "      <td>38.006054</td>\n",
       "      <td>-122.552521</td>\n",
       "      <td>San Rafael</td>\n",
       "      <td>CA</td>\n",
       "      <td>94903.0</td>\n",
       "      <td>suburban</td>\n",
       "      <td>Dixie School District</td>\n",
       "      <td>Marin</td>\n",
       "      <td>Ms.</td>\n",
       "      <td>Health &amp; Wellness</td>\n",
       "      <td>Health &amp; Sports</td>\n",
       "      <td>Literacy</td>\n",
       "      <td>Literacy &amp; Language</td>\n",
       "      <td>Supplies</td>\n",
       "      <td>moderate poverty</td>\n",
       "      <td>Grades 3-5</td>\n",
       "      <td>93563.90625</td>\n",
       "      <td>110075.1875</td>\n",
       "      <td>350.0</td>\n",
       "      <td>109333.476562</td>\n",
       "      <td>848</td>\n",
       "      <td>f</td>\n",
       "      <td>f</td>\n",
       "      <td>completed</td>\n",
       "      <td>2015-05-26</td>\n",
       "      <td>2015-08-12</td>\n",
       "      <td>2015-12-21</td>\n",
       "      <td>2015-10-24</td>\n",
       "      <td>2015</td>\n",
       "      <td>2015.0</td>\n",
       "    </tr>\n",
       "    <tr>\n",
       "      <th>17864</th>\n",
       "      <td>0019498f1881b4ab7462e92a08df5c14</td>\n",
       "      <td>c34218abf3fecd36be01305d67ed7fbb</td>\n",
       "      <td>306961a477a046e184d4e708f718111f</td>\n",
       "      <td>NaN</td>\n",
       "      <td>PA</td>\n",
       "      <td>0</td>\n",
       "      <td>2015-06-25 08:53:17.245</td>\n",
       "      <td>40.000000</td>\n",
       "      <td>0.00</td>\n",
       "      <td>40.0</td>\n",
       "      <td>creditcard</td>\n",
       "      <td>1</td>\n",
       "      <td>f</td>\n",
       "      <td>7fe6dd0c1af5f911e9bc38030cfb4ced</td>\n",
       "      <td>6.112201e+10</td>\n",
       "      <td>38.006054</td>\n",
       "      <td>-122.552521</td>\n",
       "      <td>San Rafael</td>\n",
       "      <td>CA</td>\n",
       "      <td>94903.0</td>\n",
       "      <td>suburban</td>\n",
       "      <td>Dixie School District</td>\n",
       "      <td>Marin</td>\n",
       "      <td>Ms.</td>\n",
       "      <td>Health &amp; Wellness</td>\n",
       "      <td>Health &amp; Sports</td>\n",
       "      <td>Literacy</td>\n",
       "      <td>Literacy &amp; Language</td>\n",
       "      <td>Supplies</td>\n",
       "      <td>moderate poverty</td>\n",
       "      <td>Grades 3-5</td>\n",
       "      <td>93563.90625</td>\n",
       "      <td>110075.1875</td>\n",
       "      <td>350.0</td>\n",
       "      <td>109333.476562</td>\n",
       "      <td>848</td>\n",
       "      <td>f</td>\n",
       "      <td>f</td>\n",
       "      <td>completed</td>\n",
       "      <td>2015-05-26</td>\n",
       "      <td>2015-08-12</td>\n",
       "      <td>2015-12-21</td>\n",
       "      <td>2015-10-24</td>\n",
       "      <td>2015</td>\n",
       "      <td>2015.0</td>\n",
       "    </tr>\n",
       "  </tbody>\n",
       "</table>\n",
       "</div>"
      ],
      "text/plain": [
       "                            _donationid                        _projectid  \\\n",
       "17863  0009d2759ff78b89a8b85b95ffc1e921  c34218abf3fecd36be01305d67ed7fbb   \n",
       "17864  0019498f1881b4ab7462e92a08df5c14  c34218abf3fecd36be01305d67ed7fbb   \n",
       "\n",
       "                          _donor_acctid donor_city donor_state  \\\n",
       "17863  9437d67acc13a0643c8667c019602b9d        NaN          CA   \n",
       "17864  306961a477a046e184d4e708f718111f        NaN          PA   \n",
       "\n",
       "       is_teacher_acct      donation_timestamp  donation_to_project  \\\n",
       "17863                0 2015-05-29 01:04:07.193            84.150002   \n",
       "17864                0 2015-06-25 08:53:17.245            40.000000   \n",
       "\n",
       "       donation_optional_support  donation_total payment_method  \\\n",
       "17863                      14.85            99.0     creditcard   \n",
       "17864                       0.00            40.0     creditcard   \n",
       "\n",
       "       is_teacher_referred thank_you_packet_mailed  \\\n",
       "17863                    1                       f   \n",
       "17864                    1                       f   \n",
       "\n",
       "                        _teacher_acctid  school_ncesid  school_latitude  \\\n",
       "17863  7fe6dd0c1af5f911e9bc38030cfb4ced   6.112201e+10        38.006054   \n",
       "17864  7fe6dd0c1af5f911e9bc38030cfb4ced   6.112201e+10        38.006054   \n",
       "\n",
       "       school_longitude school_city school_state  school_zip school_metro  \\\n",
       "17863       -122.552521  San Rafael           CA     94903.0     suburban   \n",
       "17864       -122.552521  San Rafael           CA     94903.0     suburban   \n",
       "\n",
       "             school_district school_county teacher_prefix  \\\n",
       "17863  Dixie School District         Marin            Ms.   \n",
       "17864  Dixie School District         Marin            Ms.   \n",
       "\n",
       "      primary_focus_subject primary_focus_area secondary_focus_subject  \\\n",
       "17863     Health & Wellness    Health & Sports                Literacy   \n",
       "17864     Health & Wellness    Health & Sports                Literacy   \n",
       "\n",
       "      secondary_focus_area resource_type     poverty_level grade_level  \\\n",
       "17863  Literacy & Language      Supplies  moderate poverty  Grades 3-5   \n",
       "17864  Literacy & Language      Supplies  moderate poverty  Grades 3-5   \n",
       "\n",
       "       total_price_excluding_optional_support  \\\n",
       "17863                             93563.90625   \n",
       "17864                             93563.90625   \n",
       "\n",
       "       total_price_including_optional_support  students_reached  \\\n",
       "17863                             110075.1875             350.0   \n",
       "17864                             110075.1875             350.0   \n",
       "\n",
       "       total_donations  num_donors eligible_double_your_impact_match  \\\n",
       "17863    109333.476562         848                                 f   \n",
       "17864    109333.476562         848                                 f   \n",
       "\n",
       "      eligible_almost_home_match funding_status date_posted date_completed  \\\n",
       "17863                          f      completed  2015-05-26     2015-08-12   \n",
       "17864                          f      completed  2015-05-26     2015-08-12   \n",
       "\n",
       "      date_thank_you_packet_mailed date_expiration  project_year  \\\n",
       "17863                   2015-12-21      2015-10-24          2015   \n",
       "17864                   2015-12-21      2015-10-24          2015   \n",
       "\n",
       "       complete_year  \n",
       "17863         2015.0  \n",
       "17864         2015.0  "
      ]
     },
     "execution_count": 29,
     "metadata": {},
     "output_type": "execute_result"
    }
   ],
   "source": [
    "completed_projects[completed_projects['num_donors']==848]\n",
    "completed_projects[completed_projects['_projectid']=='c34218abf3fecd36be01305d67ed7fbb'].head(2)"
   ]
  },
  {
   "cell_type": "markdown",
   "metadata": {},
   "source": [
    "The average donations per project is around USD 450. The project with the higest donation amount is a project completed in 2015. It was posted by a teacher in New York City to raise funds for gyms and fitness purpose. The project was sponsored by 313 donors with a total donation amount of USD 186,951.77. The project with the most number of donors is a project for an elementary school in San Rafael, CA. The funds are used to support Literacy development and raised USD 93,563.91 dollars from 848 donors."
   ]
  },
  {
   "cell_type": "markdown",
   "metadata": {},
   "source": [
    "#### projects vs. grade levels"
   ]
  },
  {
   "cell_type": "markdown",
   "metadata": {},
   "source": [
    "Is there a difference among grade levels? Are some grades require more funding than the others? "
   ]
  },
  {
   "cell_type": "code",
   "execution_count": 30,
   "metadata": {},
   "outputs": [],
   "source": [
    "projects_grade = df_us.groupby('grade_level')['_projectid'].nunique()"
   ]
  },
  {
   "cell_type": "code",
   "execution_count": 95,
   "metadata": {},
   "outputs": [
    {
     "data": {
      "text/plain": [
       "<matplotlib.axes._subplots.AxesSubplot at 0x200c36abef0>"
      ]
     },
     "execution_count": 95,
     "metadata": {},
     "output_type": "execute_result"
    },
    {
     "data": {
      "image/png": "[encoded data removed]",
      "text/plain": [
       "<Figure size 432x288 with 1 Axes>"
      ]
     },
     "metadata": {},
     "output_type": "display_data"
    }
   ],
   "source": [
    "sns.set_style('white')\n",
    "sns.set_palette('muted')\n",
    "fig, ax = plt.subplots(1, 1)\n",
    "ax.set_ylabel('')\n",
    "projects_grade.plot(kind='pie', ax=ax)"
   ]
  },
  {
   "cell_type": "markdown",
   "metadata": {},
   "source": [
    "Most of the fundings are demanded in elementary level, especially among lower grades. "
   ]
  },
  {
   "cell_type": "markdown",
   "metadata": {},
   "source": [
    "#### projects vs. poverty level"
   ]
  },
  {
   "cell_type": "code",
   "execution_count": 34,
   "metadata": {},
   "outputs": [],
   "source": [
    "projects_pov = df_us.groupby('poverty_level')['_projectid'].nunique()"
   ]
  },
  {
   "cell_type": "code",
   "execution_count": 96,
   "metadata": {},
   "outputs": [
    {
     "data": {
      "text/plain": [
       "<matplotlib.axes._subplots.AxesSubplot at 0x200c36d76d8>"
      ]
     },
     "execution_count": 96,
     "metadata": {},
     "output_type": "execute_result"
    },
    {
     "data": {
      "image/png": "[encoded data removed]",
      "text/plain": [
       "<Figure size 432x288 with 1 Axes>"
      ]
     },
     "metadata": {},
     "output_type": "display_data"
    }
   ],
   "source": [
    "sns.set_style('white')\n",
    "sns.set_palette('muted')\n",
    "projects_pov.plot(kind='pie')"
   ]
  },
  {
   "cell_type": "markdown",
   "metadata": {},
   "source": [
    "It makes sense that more donations are needed where the poverty level is high with limited government funding. "
   ]
  },
  {
   "cell_type": "markdown",
   "metadata": {},
   "source": [
    "#### focus area"
   ]
  },
  {
   "cell_type": "markdown",
   "metadata": {},
   "source": [
    "With the current trends in tech development, schools are focusing more on technology-related education such as STEM. To see if the donation request match the trend, we will divide the projects into different subject areas."
   ]
  },
  {
   "cell_type": "code",
   "execution_count": null,
   "metadata": {
    "scrolled": false
   },
   "outputs": [],
   "source": [
    "project_focus_area = df_us.groupby('primary_focus_area')['_projectid'].nunique().sort_values(ascending=False)"
   ]
  },
  {
   "cell_type": "code",
   "execution_count": 63,
   "metadata": {},
   "outputs": [
    {
     "data": {
      "text/plain": [
       "<matplotlib.axes._subplots.AxesSubplot at 0x200a66fdfd0>"
      ]
     },
     "execution_count": 63,
     "metadata": {},
     "output_type": "execute_result"
    },
    {
     "data": {
      "image/png": "[encoded data removed]",
      "text/plain": [
       "<Figure size 432x288 with 1 Axes>"
      ]
     },
     "metadata": {},
     "output_type": "display_data"
    }
   ],
   "source": [
    "sns.set_palette('muted')\n",
    "sns.barplot(x=project_focus_area.values, y=project_focus_area.index, order=project_focus_area.index)"
   ]
  },
  {
   "cell_type": "markdown",
   "metadata": {},
   "source": [
    "Indeed, teachers are requesting more support in Literacy & Language and Math & Science categories. But was this the trend since the beginning? "
   ]
  },
  {
   "cell_type": "code",
   "execution_count": 64,
   "metadata": {},
   "outputs": [
    {
     "data": {
      "text/plain": [
       "<matplotlib.axes._subplots.AxesSubplot at 0x200a6748d68>"
      ]
     },
     "execution_count": 64,
     "metadata": {},
     "output_type": "execute_result"
    },
    {
     "data": {
      "image/png": "[encoded data removed]",
      "text/plain": [
       "<Figure size 432x288 with 1 Axes>"
      ]
     },
     "metadata": {},
     "output_type": "display_data"
    }
   ],
   "source": [
    "project_focus_area = df_us.groupby(['project_year','primary_focus_area'])['_projectid'].nunique()\n",
    "project_focus_area = project_focus_area.to_frame().reset_index()\n",
    "project_focus_area.columns = ['year', 'primary_focus_area', 'project_count']\n",
    "sns.set_palette('colorblind')\n",
    "sns.lineplot(data=project_focus_area, x='year', y='project_count', hue='primary_focus_area')"
   ]
  },
  {
   "cell_type": "markdown",
   "metadata": {},
   "source": [
    "While all projects exhibit an upward trend, demand in Math & Science and Literacy & Language has grown exponentially. While most of the projects have started to slow down since 2015, projects in Math & Sicence continued to expand. Furthermore, I'm curious if the same pattern exists in all poverty levels. "
   ]
  },
  {
   "cell_type": "code",
   "execution_count": 102,
   "metadata": {},
   "outputs": [
    {
     "data": {
      "text/html": [
       "<div>\n",
       "<style scoped>\n",
       "    .dataframe tbody tr th:only-of-type {\n",
       "        vertical-align: middle;\n",
       "    }\n",
       "\n",
       "    .dataframe tbody tr th {\n",
       "        vertical-align: top;\n",
       "    }\n",
       "\n",
       "    .dataframe thead th {\n",
       "        text-align: right;\n",
       "    }\n",
       "</style>\n",
       "<table border=\"1\" class=\"dataframe\">\n",
       "  <thead>\n",
       "    <tr style=\"text-align: right;\">\n",
       "      <th></th>\n",
       "      <th>primary_focus_area</th>\n",
       "      <th>poverty_level</th>\n",
       "      <th>_projectid</th>\n",
       "    </tr>\n",
       "  </thead>\n",
       "  <tbody>\n",
       "    <tr>\n",
       "      <th>0</th>\n",
       "      <td>Applied Learning</td>\n",
       "      <td>high poverty</td>\n",
       "      <td>14880</td>\n",
       "    </tr>\n",
       "    <tr>\n",
       "      <th>1</th>\n",
       "      <td>Applied Learning</td>\n",
       "      <td>highest poverty</td>\n",
       "      <td>35671</td>\n",
       "    </tr>\n",
       "    <tr>\n",
       "      <th>2</th>\n",
       "      <td>Applied Learning</td>\n",
       "      <td>low poverty</td>\n",
       "      <td>1595</td>\n",
       "    </tr>\n",
       "    <tr>\n",
       "      <th>3</th>\n",
       "      <td>Applied Learning</td>\n",
       "      <td>moderate poverty</td>\n",
       "      <td>7892</td>\n",
       "    </tr>\n",
       "    <tr>\n",
       "      <th>4</th>\n",
       "      <td>Health &amp; Sports</td>\n",
       "      <td>high poverty</td>\n",
       "      <td>9673</td>\n",
       "    </tr>\n",
       "  </tbody>\n",
       "</table>\n",
       "</div>"
      ],
      "text/plain": [
       "  primary_focus_area     poverty_level  _projectid\n",
       "0   Applied Learning      high poverty       14880\n",
       "1   Applied Learning   highest poverty       35671\n",
       "2   Applied Learning       low poverty        1595\n",
       "3   Applied Learning  moderate poverty        7892\n",
       "4    Health & Sports      high poverty        9673"
      ]
     },
     "execution_count": 102,
     "metadata": {},
     "output_type": "execute_result"
    }
   ],
   "source": [
    "focus_poverty = df_us.groupby(['primary_focus_area', 'poverty_level'])['_projectid'].nunique()\n",
    "focus_poverty = focus_poverty.to_frame().reset_index()\n",
    "focus_poverty.head()"
   ]
  },
  {
   "cell_type": "code",
   "execution_count": 110,
   "metadata": {
    "scrolled": true
   },
   "outputs": [
    {
     "data": {
      "text/plain": [
       "<matplotlib.axes._subplots.AxesSubplot at 0x200c8ac7eb8>"
      ]
     },
     "execution_count": 110,
     "metadata": {},
     "output_type": "execute_result"
    },
    {
     "data": {
      "image/png": "[encoded data removed]",
      "text/plain": [
       "<Figure size 432x288 with 1 Axes>"
      ]
     },
     "metadata": {},
     "output_type": "display_data"
    }
   ],
   "source": [
    "sns.barplot(x='_projectid', y='poverty_level', hue='primary_focus_area', data=focus_poverty)"
   ]
  },
  {
   "cell_type": "markdown",
   "metadata": {},
   "source": [
    "Despite different wealth levels among schools, Literacy & Language and Math & Science are always on the top of the bucket list. "
   ]
  },
  {
   "cell_type": "markdown",
   "metadata": {},
   "source": [
    "### Teachers"
   ]
  },
  {
   "cell_type": "markdown",
   "metadata": {},
   "source": [
    "The projects on the platform are teacher-driven. Let's first take a look at the total teacher population over years. "
   ]
  },
  {
   "cell_type": "code",
   "execution_count": 65,
   "metadata": {},
   "outputs": [
    {
     "data": {
      "text/plain": [
       "<matplotlib.axes._subplots.AxesSubplot at 0x200a67cc898>"
      ]
     },
     "execution_count": 65,
     "metadata": {},
     "output_type": "execute_result"
    },
    {
     "data": {
      "image/png": "[encoded data removed]",
      "text/plain": [
       "<Figure size 432x288 with 1 Axes>"
      ]
     },
     "metadata": {},
     "output_type": "display_data"
    }
   ],
   "source": [
    "teacher_count = df_us.groupby('project_year')['_teacher_acctid'].nunique()\n",
    "teacher_count\n",
    "sns.set_style('white')\n",
    "teacher_count.plot()"
   ]
  },
  {
   "cell_type": "markdown",
   "metadata": {},
   "source": [
    "Teacher users have more than doubled from year 2010 to 2016. It exhibits a positive correlation with the project growth.  "
   ]
  },
  {
   "cell_type": "markdown",
   "metadata": {},
   "source": [
    "Next, I would like to see how many projects are posted by female teachers vs. male teachers. "
   ]
  },
  {
   "cell_type": "code",
   "execution_count": 66,
   "metadata": {
    "scrolled": true
   },
   "outputs": [
    {
     "name": "stderr",
     "output_type": "stream",
     "text": [
      "C:\\Users\\Leo\\Anaconda3\\lib\\site-packages\\ipykernel_launcher.py:1: SettingWithCopyWarning: \n",
      "A value is trying to be set on a copy of a slice from a DataFrame.\n",
      "Try using .loc[row_indexer,col_indexer] = value instead\n",
      "\n",
      "See the caveats in the documentation: http://pandas.pydata.org/pandas-docs/stable/indexing.html#indexing-view-versus-copy\n",
      "  \"\"\"Entry point for launching an IPython kernel.\n"
     ]
    }
   ],
   "source": [
    "df_us['teacher_gender'] = ['Female' if i in ['Mrs.', 'Ms.'] else 'Male' if i=='Mr.' else 'Unknown' for i in df_us['teacher_prefix']] "
   ]
  },
  {
   "cell_type": "code",
   "execution_count": 67,
   "metadata": {},
   "outputs": [],
   "source": [
    "## number of teachers posting projects over years\n",
    "teacher_over_time = df_us.groupby(['project_year', 'teacher_gender'])['_teacher_acctid'].nunique()\n",
    "teacher_over_time = teacher_over_time.to_frame().reset_index()\n",
    "teacher_over_time.columns = ['year', 'teacher_gender', 'teacher_count']\n",
    "#teacher_over_time"
   ]
  },
  {
   "cell_type": "code",
   "execution_count": 68,
   "metadata": {
    "scrolled": false
   },
   "outputs": [
    {
     "data": {
      "text/plain": [
       "<matplotlib.axes._subplots.AxesSubplot at 0x200c3baf198>"
      ]
     },
     "execution_count": 68,
     "metadata": {},
     "output_type": "execute_result"
    },
    {
     "data": {
      "image/png": "[encoded data removed]",
      "text/plain": [
       "<Figure size 432x288 with 1 Axes>"
      ]
     },
     "metadata": {},
     "output_type": "display_data"
    }
   ],
   "source": [
    "sns.lineplot(data=teacher_over_time, x='year', y='teacher_count', hue='teacher_gender')"
   ]
  },
  {
   "cell_type": "markdown",
   "metadata": {},
   "source": [
    "We can spot that the number of male teachers grew very little and majority the projects are posted by female teachers. That's probably because female dominates the teaching industry.  "
   ]
  },
  {
   "cell_type": "markdown",
   "metadata": {},
   "source": [
    "### Conclusion"
   ]
  },
  {
   "cell_type": "markdown",
   "metadata": {},
   "source": [
    "With the above analysis, we can observe the following: \n",
    "* Out of the massive number of donors online, only 26% has donated more than once. \n",
    "* California and New York are the two states that hosted most of the donations. These are also the two states that have the biggest population.\n",
    "* The project volume has grown rapidly in the past 10 years and the time to collect donation has decreased drastically. \n",
    "* Lower grades in elementary schools need the most financing support, especially in schools that are located in high-poverty regions. \n",
    "* Despite the poverty level, Literacy & Language and Math & Science are the categories that need the most funding. These two subjects have been more dominating in the recent years. \n",
    "\n",
    "Machine learning goals: \n",
    "* Identify the characteristics of the frequent donors and ways to motivate the others."
   ]
  },
  {
   "cell_type": "code",
   "execution_count": null,
   "metadata": {},
   "outputs": [],
   "source": []
  }
 ],
 "metadata": {
  "kernelspec": {
   "display_name": "Python 3",
   "language": "python",
   "name": "python3"
  },
  "language_info": {
   "codemirror_mode": {
    "name": "ipython",
    "version": 3
   },
   "file_extension": ".py",
   "mimetype": "text/x-python",
   "name": "python",
   "nbconvert_exporter": "python",
   "pygments_lexer": "ipython3",
   "version": "3.5.6"
  }
 },
 "nbformat": 4,
 "nbformat_minor": 2
}
