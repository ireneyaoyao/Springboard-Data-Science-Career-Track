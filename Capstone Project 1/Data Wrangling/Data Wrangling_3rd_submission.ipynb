{
 "cells": [
  {
   "cell_type": "markdown",
   "metadata": {},
   "source": [
    "### Data Wrangling Steps\n",
    "#### By: Irene Yao\n",
    "#### Date: 8/20/2018\n",
    "The data is downloaded into csv files from DonorsChoose.org: https://research.donorschoose.org/t/download-opendata/33     \n",
    "For this project, I will use the two datasets: Project Data and Donation Data.     "
   ]
  },
  {
   "cell_type": "markdown",
   "metadata": {},
   "source": [
    "#### Step 1: Import relevant packages"
   ]
  },
  {
   "cell_type": "code",
   "execution_count": 1,
   "metadata": {},
   "outputs": [],
   "source": [
    "import pandas as pd\n",
    "import numpy as np"
   ]
  },
  {
   "cell_type": "markdown",
   "metadata": {},
   "source": [
    "#### Step 2: Inspect columns from both data tables"
   ]
  },
  {
   "cell_type": "code",
   "execution_count": 2,
   "metadata": {
    "scrolled": true
   },
   "outputs": [
    {
     "name": "stdout",
     "output_type": "stream",
     "text": [
      ",_donationid,_projectid,_donor_acctid,_cartid,donor_city,donor_state,donor_zip,is_teacher_acct,donation_timestamp,donation_to_project,donation_optional_support,donation_total,donation_included_optional_support,payment_method,payment_included_acct_credit,payment_included_campaign_gift_card,payment_included_web_purchased_gift_card,payment_was_promo_matched,is_teacher_referred,giving_page_id,giving_page_type,for_honoree,thank_you_packet_mailed\n",
      "\n"
     ]
    }
   ],
   "source": [
    "donation_file = 'donations.csv'\n",
    "with open(donation_file) as dfile:\n",
    "    columns = dfile.readline() ## read the first line, which is the columns\n",
    "    print(columns)"
   ]
  },
  {
   "cell_type": "code",
   "execution_count": 3,
   "metadata": {},
   "outputs": [
    {
     "name": "stdout",
     "output_type": "stream",
     "text": [
      ",_projectid,_teacher_acctid,_schoolid,school_ncesid,school_latitude,school_longitude,school_city,school_state,school_zip,school_metro,school_district,school_county,school_charter,school_magnet,school_year_round,school_nlns,school_kipp,school_charter_ready_promise,teacher_prefix,teacher_teach_for_america,teacher_ny_teaching_fellow,primary_focus_subject,primary_focus_area,secondary_focus_subject,secondary_focus_area,resource_type,poverty_level,grade_level,vendor_shipping_charges,sales_tax,payment_processing_charges,fulfillment_labor_materials,total_price_excluding_optional_support,total_price_including_optional_support,students_reached,total_donations,num_donors,eligible_double_your_impact_match,eligible_almost_home_match,funding_status,date_posted,date_completed,date_thank_you_packet_mailed,date_expiration\n",
      "\n"
     ]
    }
   ],
   "source": [
    "projects_file = 'projects.csv'\n",
    "with open(projects_file) as pfile:\n",
    "    columns = pfile.readline() ## read the first line, which is the columns\n",
    "    print(columns)"
   ]
  },
  {
   "cell_type": "markdown",
   "metadata": {},
   "source": [
    "#### Step 3: Merge donation and project tables and remove the irrelevant columns\n",
    "Some of the columns are created to link to other tables which I'm not going to cover in this study. Those columns will be removed.      \n",
    "After inspecting the two data tables, the following columns are determined neccessary.    \n",
    "* From donation table: '_donationid','_projectid','_donor_acctid','donor_city','donor_state','is_teacher_acct','donation_timestamp','donation_to_project',\n",
    "'donation_optional_support','donation_total','payment_method','is_teacher_referred','thank_you_packet_mailed' \n",
    "\n",
    "* From projects table: '_projectid','_teacher_acctid','school_ncesid','school_latitude','school_longitude','school_city','school_state','school_zip','school_metro',\n",
    "'school_district','school_county','teacher_prefix','primary_focus_subject','primary_focus_area','secondary_focus_subject','secondary_focus_area',\n",
    "'resource_type','poverty_level','grade_level','total_price_excluding_optional_support','total_price_including_optional_support','students_reached',\n",
    "'total_donations','num_donors','eligible_double_your_impact_match','eligible_almost_home_match','funding_status','date_posted','date_completed',\n",
    "'date_thank_you_packet_mailed','date_expiration'"
   ]
  },
  {
   "cell_type": "markdown",
   "metadata": {},
   "source": [
    "##### a. Import the donation dataset   \n",
    "   The donation dataset consists information of each donation from qualified donors. It includes data aspects such as donor    location, teacher status, and donation amount. Since the dataset is very large, I will define the data types for each column at the time of the import."
   ]
  },
  {
   "cell_type": "code",
   "execution_count": 5,
   "metadata": {
    "scrolled": true
   },
   "outputs": [],
   "source": [
    "## import csv for donation\n",
    "chunksize = 10000\n",
    "chunks = []\n",
    "for chunk in pd.read_csv(donation_file, chunksize=chunksize):\n",
    "    chunks.append(chunk)\n",
    "df_donation = pd.concat(chunks, axis=0)"
   ]
  },
  {
   "cell_type": "markdown",
   "metadata": {},
   "source": [
    "##### b. Import the project dataset  \n",
    "The project dataset comprises data on the project itself. Features include project status, total donation amount, and project subject, etc. "
   ]
  },
  {
   "cell_type": "code",
   "execution_count": 6,
   "metadata": {},
   "outputs": [],
   "source": [
    "## import csv for projects\n",
    "chunsize = 10000\n",
    "chunks = []\n",
    "for chunk in pd.read_csv(projects_file, chunksize=chunksize):\n",
    "    chunks.append(chunk)\n",
    "df_projects = pd.concat(chunks, axis=0)"
   ]
  },
  {
   "cell_type": "markdown",
   "metadata": {},
   "source": [
    "##### c. Selecting the relevant columns"
   ]
  },
  {
   "cell_type": "code",
   "execution_count": 7,
   "metadata": {
    "scrolled": true
   },
   "outputs": [
    {
     "data": {
      "text/html": [
       "<div>\n",
       "<style scoped>\n",
       "    .dataframe tbody tr th:only-of-type {\n",
       "        vertical-align: middle;\n",
       "    }\n",
       "\n",
       "    .dataframe tbody tr th {\n",
       "        vertical-align: top;\n",
       "    }\n",
       "\n",
       "    .dataframe thead th {\n",
       "        text-align: right;\n",
       "    }\n",
       "</style>\n",
       "<table border=\"1\" class=\"dataframe\">\n",
       "  <thead>\n",
       "    <tr style=\"text-align: right;\">\n",
       "      <th></th>\n",
       "      <th>_donationid</th>\n",
       "      <th>_projectid</th>\n",
       "      <th>_donor_acctid</th>\n",
       "      <th>donor_city</th>\n",
       "      <th>donor_state</th>\n",
       "      <th>is_teacher_acct</th>\n",
       "      <th>donation_timestamp</th>\n",
       "      <th>donation_to_project</th>\n",
       "      <th>donation_optional_support</th>\n",
       "      <th>donation_total</th>\n",
       "      <th>payment_method</th>\n",
       "      <th>is_teacher_referred</th>\n",
       "      <th>thank_you_packet_mailed</th>\n",
       "    </tr>\n",
       "  </thead>\n",
       "  <tbody>\n",
       "    <tr>\n",
       "      <th>0</th>\n",
       "      <td>0000023f507999464aa2b78875b7e5d6</td>\n",
       "      <td>69bf3a609bb4673818e0eebd004ea504</td>\n",
       "      <td>22c50856b0824db76daf527da6af9abf</td>\n",
       "      <td>NaN</td>\n",
       "      <td>NaN</td>\n",
       "      <td>f</td>\n",
       "      <td>2011-02-13 11:07:19.349</td>\n",
       "      <td>8.50</td>\n",
       "      <td>1.50</td>\n",
       "      <td>10.0</td>\n",
       "      <td>creditcard</td>\n",
       "      <td>f</td>\n",
       "      <td>f</td>\n",
       "    </tr>\n",
       "    <tr>\n",
       "      <th>1</th>\n",
       "      <td>000009891526c0ade7180f8423792063</td>\n",
       "      <td>26f02742185eb1f73f3bc5be4655fae2</td>\n",
       "      <td>c91489d7b6b89943a28555e6add72509</td>\n",
       "      <td>NaN</td>\n",
       "      <td>NJ</td>\n",
       "      <td>t</td>\n",
       "      <td>2013-05-26 11:28:31.30</td>\n",
       "      <td>63.75</td>\n",
       "      <td>11.25</td>\n",
       "      <td>75.0</td>\n",
       "      <td>creditcard</td>\n",
       "      <td>f</td>\n",
       "      <td>f</td>\n",
       "    </tr>\n",
       "  </tbody>\n",
       "</table>\n",
       "</div>"
      ],
      "text/plain": [
       "                        _donationid                        _projectid  \\\n",
       "0  0000023f507999464aa2b78875b7e5d6  69bf3a609bb4673818e0eebd004ea504   \n",
       "1  000009891526c0ade7180f8423792063  26f02742185eb1f73f3bc5be4655fae2   \n",
       "\n",
       "                      _donor_acctid donor_city donor_state is_teacher_acct  \\\n",
       "0  22c50856b0824db76daf527da6af9abf        NaN         NaN               f   \n",
       "1  c91489d7b6b89943a28555e6add72509        NaN          NJ               t   \n",
       "\n",
       "        donation_timestamp  donation_to_project  donation_optional_support  \\\n",
       "0  2011-02-13 11:07:19.349                 8.50                       1.50   \n",
       "1   2013-05-26 11:28:31.30                63.75                      11.25   \n",
       "\n",
       "   donation_total payment_method is_teacher_referred thank_you_packet_mailed  \n",
       "0            10.0     creditcard                   f                       f  \n",
       "1            75.0     creditcard                   f                       f  "
      ]
     },
     "execution_count": 7,
     "metadata": {},
     "output_type": "execute_result"
    }
   ],
   "source": [
    "## select only the relevant columns\n",
    "## zipcode column is removed because the last two digits are hidden; didn't offer useful info\n",
    "new_cols_d = ['_donationid','_projectid','_donor_acctid','donor_city','donor_state','is_teacher_acct'\n",
    "            ,'donation_timestamp','donation_to_project','donation_optional_support','donation_total','payment_method','is_teacher_referred'\n",
    "            ,'thank_you_packet_mailed']\n",
    "df_donation_short = df_donation[new_cols_d]\n",
    "df_donation_short.head(2)"
   ]
  },
  {
   "cell_type": "code",
   "execution_count": 8,
   "metadata": {
    "scrolled": false
   },
   "outputs": [
    {
     "data": {
      "text/html": [
       "<div>\n",
       "<style scoped>\n",
       "    .dataframe tbody tr th:only-of-type {\n",
       "        vertical-align: middle;\n",
       "    }\n",
       "\n",
       "    .dataframe tbody tr th {\n",
       "        vertical-align: top;\n",
       "    }\n",
       "\n",
       "    .dataframe thead th {\n",
       "        text-align: right;\n",
       "    }\n",
       "</style>\n",
       "<table border=\"1\" class=\"dataframe\">\n",
       "  <thead>\n",
       "    <tr style=\"text-align: right;\">\n",
       "      <th></th>\n",
       "      <th>_projectid</th>\n",
       "      <th>_teacher_acctid</th>\n",
       "      <th>school_ncesid</th>\n",
       "      <th>school_latitude</th>\n",
       "      <th>school_longitude</th>\n",
       "      <th>school_city</th>\n",
       "      <th>school_state</th>\n",
       "      <th>school_zip</th>\n",
       "      <th>school_metro</th>\n",
       "      <th>school_district</th>\n",
       "      <th>...</th>\n",
       "      <th>students_reached</th>\n",
       "      <th>total_donations</th>\n",
       "      <th>num_donors</th>\n",
       "      <th>eligible_double_your_impact_match</th>\n",
       "      <th>eligible_almost_home_match</th>\n",
       "      <th>funding_status</th>\n",
       "      <th>date_posted</th>\n",
       "      <th>date_completed</th>\n",
       "      <th>date_thank_you_packet_mailed</th>\n",
       "      <th>date_expiration</th>\n",
       "    </tr>\n",
       "  </thead>\n",
       "  <tbody>\n",
       "    <tr>\n",
       "      <th>0</th>\n",
       "      <td>7342bd01a2a7725ce033a179d22e382d</td>\n",
       "      <td>5c43ef5eac0f5857c266baa1ccfa3d3f</td>\n",
       "      <td>3.600097e+11</td>\n",
       "      <td>40.688454</td>\n",
       "      <td>-73.910432</td>\n",
       "      <td>New York City</td>\n",
       "      <td>NY</td>\n",
       "      <td>11207.0</td>\n",
       "      <td>urban</td>\n",
       "      <td>New York City Dept Of Ed</td>\n",
       "      <td>...</td>\n",
       "      <td>0.0</td>\n",
       "      <td>251.9</td>\n",
       "      <td>1</td>\n",
       "      <td>f</td>\n",
       "      <td>f</td>\n",
       "      <td>completed</td>\n",
       "      <td>2002-09-13 00:00:00</td>\n",
       "      <td>2002-09-23 00:00:00</td>\n",
       "      <td>2003-01-27 00:00:00</td>\n",
       "      <td>2003-12-31 00:00:00</td>\n",
       "    </tr>\n",
       "    <tr>\n",
       "      <th>1</th>\n",
       "      <td>ed87d61cef7fda668ae70be7e0c6cebf</td>\n",
       "      <td>1f4493b3d3fe4a611f3f4d21a249376a</td>\n",
       "      <td>3.600077e+11</td>\n",
       "      <td>40.765517</td>\n",
       "      <td>-73.960090</td>\n",
       "      <td>New York City</td>\n",
       "      <td>NY</td>\n",
       "      <td>10065.0</td>\n",
       "      <td>NaN</td>\n",
       "      <td>New York City Dept Of Ed</td>\n",
       "      <td>...</td>\n",
       "      <td>0.0</td>\n",
       "      <td>137.0</td>\n",
       "      <td>1</td>\n",
       "      <td>f</td>\n",
       "      <td>f</td>\n",
       "      <td>completed</td>\n",
       "      <td>2002-09-13 00:00:00</td>\n",
       "      <td>2002-09-23 00:00:00</td>\n",
       "      <td>2003-01-03 00:00:00</td>\n",
       "      <td>2003-12-31 00:00:00</td>\n",
       "    </tr>\n",
       "  </tbody>\n",
       "</table>\n",
       "<p>2 rows × 31 columns</p>\n",
       "</div>"
      ],
      "text/plain": [
       "                         _projectid                   _teacher_acctid  \\\n",
       "0  7342bd01a2a7725ce033a179d22e382d  5c43ef5eac0f5857c266baa1ccfa3d3f   \n",
       "1  ed87d61cef7fda668ae70be7e0c6cebf  1f4493b3d3fe4a611f3f4d21a249376a   \n",
       "\n",
       "   school_ncesid  school_latitude  school_longitude    school_city  \\\n",
       "0   3.600097e+11        40.688454        -73.910432  New York City   \n",
       "1   3.600077e+11        40.765517        -73.960090  New York City   \n",
       "\n",
       "  school_state  school_zip school_metro           school_district  \\\n",
       "0           NY     11207.0        urban  New York City Dept Of Ed   \n",
       "1           NY     10065.0          NaN  New York City Dept Of Ed   \n",
       "\n",
       "          ...          students_reached total_donations num_donors  \\\n",
       "0         ...                       0.0           251.9          1   \n",
       "1         ...                       0.0           137.0          1   \n",
       "\n",
       "  eligible_double_your_impact_match eligible_almost_home_match funding_status  \\\n",
       "0                                 f                          f      completed   \n",
       "1                                 f                          f      completed   \n",
       "\n",
       "           date_posted       date_completed date_thank_you_packet_mailed  \\\n",
       "0  2002-09-13 00:00:00  2002-09-23 00:00:00          2003-01-27 00:00:00   \n",
       "1  2002-09-13 00:00:00  2002-09-23 00:00:00          2003-01-03 00:00:00   \n",
       "\n",
       "       date_expiration  \n",
       "0  2003-12-31 00:00:00  \n",
       "1  2003-12-31 00:00:00  \n",
       "\n",
       "[2 rows x 31 columns]"
      ]
     },
     "execution_count": 8,
     "metadata": {},
     "output_type": "execute_result"
    }
   ],
   "source": [
    "## do the same for projects dataset\n",
    "new_cols_p = ['_projectid','_teacher_acctid','school_ncesid','school_latitude','school_longitude'\n",
    "              ,'school_city','school_state','school_zip','school_metro','school_district','school_county'\n",
    "              ,'teacher_prefix','primary_focus_subject','primary_focus_area','secondary_focus_subject','secondary_focus_area'\n",
    "              ,'resource_type','poverty_level','grade_level','total_price_excluding_optional_support'\n",
    "              ,'total_price_including_optional_support','students_reached','total_donations','num_donors'\n",
    "              ,'eligible_double_your_impact_match','eligible_almost_home_match','funding_status','date_posted'\n",
    "              ,'date_completed','date_thank_you_packet_mailed','date_expiration']\n",
    "df_projects_short = df_projects[new_cols_p]\n",
    "df_projects_short.head(2)"
   ]
  },
  {
   "cell_type": "markdown",
   "metadata": {},
   "source": [
    "##### d. Merge the donation and project tables"
   ]
  },
  {
   "cell_type": "code",
   "execution_count": 9,
   "metadata": {},
   "outputs": [
    {
     "data": {
      "text/html": [
       "<div>\n",
       "<style scoped>\n",
       "    .dataframe tbody tr th:only-of-type {\n",
       "        vertical-align: middle;\n",
       "    }\n",
       "\n",
       "    .dataframe tbody tr th {\n",
       "        vertical-align: top;\n",
       "    }\n",
       "\n",
       "    .dataframe thead th {\n",
       "        text-align: right;\n",
       "    }\n",
       "</style>\n",
       "<table border=\"1\" class=\"dataframe\">\n",
       "  <thead>\n",
       "    <tr style=\"text-align: right;\">\n",
       "      <th></th>\n",
       "      <th>_donationid</th>\n",
       "      <th>_projectid</th>\n",
       "      <th>_donor_acctid</th>\n",
       "      <th>donor_city</th>\n",
       "      <th>donor_state</th>\n",
       "      <th>is_teacher_acct</th>\n",
       "      <th>donation_timestamp</th>\n",
       "      <th>donation_to_project</th>\n",
       "      <th>donation_optional_support</th>\n",
       "      <th>donation_total</th>\n",
       "      <th>...</th>\n",
       "      <th>students_reached</th>\n",
       "      <th>total_donations</th>\n",
       "      <th>num_donors</th>\n",
       "      <th>eligible_double_your_impact_match</th>\n",
       "      <th>eligible_almost_home_match</th>\n",
       "      <th>funding_status</th>\n",
       "      <th>date_posted</th>\n",
       "      <th>date_completed</th>\n",
       "      <th>date_thank_you_packet_mailed</th>\n",
       "      <th>date_expiration</th>\n",
       "    </tr>\n",
       "  </thead>\n",
       "  <tbody>\n",
       "    <tr>\n",
       "      <th>0</th>\n",
       "      <td>0000023f507999464aa2b78875b7e5d6</td>\n",
       "      <td>69bf3a609bb4673818e0eebd004ea504</td>\n",
       "      <td>22c50856b0824db76daf527da6af9abf</td>\n",
       "      <td>NaN</td>\n",
       "      <td>NaN</td>\n",
       "      <td>f</td>\n",
       "      <td>2011-02-13 11:07:19.349</td>\n",
       "      <td>8.50</td>\n",
       "      <td>1.50</td>\n",
       "      <td>10.00</td>\n",
       "      <td>...</td>\n",
       "      <td>23.0</td>\n",
       "      <td>510.90</td>\n",
       "      <td>4</td>\n",
       "      <td>t</td>\n",
       "      <td>f</td>\n",
       "      <td>completed</td>\n",
       "      <td>2011-01-23 00:00:00</td>\n",
       "      <td>2011-03-18 00:00:00</td>\n",
       "      <td>2011-05-10 00:00:00</td>\n",
       "      <td>2011-06-21 00:00:00</td>\n",
       "    </tr>\n",
       "    <tr>\n",
       "      <th>1</th>\n",
       "      <td>53ec9a692cd770d6e4f0c6673451ff60</td>\n",
       "      <td>69bf3a609bb4673818e0eebd004ea504</td>\n",
       "      <td>ba7d4afdfc182c4c5fde1d57980697bc</td>\n",
       "      <td>NaN</td>\n",
       "      <td>CA</td>\n",
       "      <td>f</td>\n",
       "      <td>2011-03-18 01:54:04.96</td>\n",
       "      <td>217.13</td>\n",
       "      <td>38.32</td>\n",
       "      <td>255.45</td>\n",
       "      <td>...</td>\n",
       "      <td>23.0</td>\n",
       "      <td>510.90</td>\n",
       "      <td>4</td>\n",
       "      <td>t</td>\n",
       "      <td>f</td>\n",
       "      <td>completed</td>\n",
       "      <td>2011-01-23 00:00:00</td>\n",
       "      <td>2011-03-18 00:00:00</td>\n",
       "      <td>2011-05-10 00:00:00</td>\n",
       "      <td>2011-06-21 00:00:00</td>\n",
       "    </tr>\n",
       "    <tr>\n",
       "      <th>2</th>\n",
       "      <td>798dad82b651ff0371e4a655e56bbca5</td>\n",
       "      <td>69bf3a609bb4673818e0eebd004ea504</td>\n",
       "      <td>9b29654e7ea1241e6fa1ec4805b7429e</td>\n",
       "      <td>Wilton</td>\n",
       "      <td>CA</td>\n",
       "      <td>f</td>\n",
       "      <td>2011-03-18 01:54:04.882</td>\n",
       "      <td>166.13</td>\n",
       "      <td>29.32</td>\n",
       "      <td>195.45</td>\n",
       "      <td>...</td>\n",
       "      <td>23.0</td>\n",
       "      <td>510.90</td>\n",
       "      <td>4</td>\n",
       "      <td>t</td>\n",
       "      <td>f</td>\n",
       "      <td>completed</td>\n",
       "      <td>2011-01-23 00:00:00</td>\n",
       "      <td>2011-03-18 00:00:00</td>\n",
       "      <td>2011-05-10 00:00:00</td>\n",
       "      <td>2011-06-21 00:00:00</td>\n",
       "    </tr>\n",
       "    <tr>\n",
       "      <th>3</th>\n",
       "      <td>87c43e67b49398b4e0d54d31e2ae95ca</td>\n",
       "      <td>69bf3a609bb4673818e0eebd004ea504</td>\n",
       "      <td>b8f54362e335b81171ebbe36c657ea4b</td>\n",
       "      <td>Orangevale</td>\n",
       "      <td>CA</td>\n",
       "      <td>f</td>\n",
       "      <td>2011-01-31 00:41:24.833</td>\n",
       "      <td>42.50</td>\n",
       "      <td>7.50</td>\n",
       "      <td>50.00</td>\n",
       "      <td>...</td>\n",
       "      <td>23.0</td>\n",
       "      <td>510.90</td>\n",
       "      <td>4</td>\n",
       "      <td>t</td>\n",
       "      <td>f</td>\n",
       "      <td>completed</td>\n",
       "      <td>2011-01-23 00:00:00</td>\n",
       "      <td>2011-03-18 00:00:00</td>\n",
       "      <td>2011-05-10 00:00:00</td>\n",
       "      <td>2011-06-21 00:00:00</td>\n",
       "    </tr>\n",
       "    <tr>\n",
       "      <th>4</th>\n",
       "      <td>000009891526c0ade7180f8423792063</td>\n",
       "      <td>26f02742185eb1f73f3bc5be4655fae2</td>\n",
       "      <td>c91489d7b6b89943a28555e6add72509</td>\n",
       "      <td>NaN</td>\n",
       "      <td>NJ</td>\n",
       "      <td>t</td>\n",
       "      <td>2013-05-26 11:28:31.30</td>\n",
       "      <td>63.75</td>\n",
       "      <td>11.25</td>\n",
       "      <td>75.00</td>\n",
       "      <td>...</td>\n",
       "      <td>78.0</td>\n",
       "      <td>335.96</td>\n",
       "      <td>4</td>\n",
       "      <td>f</td>\n",
       "      <td>f</td>\n",
       "      <td>completed</td>\n",
       "      <td>2013-02-11 00:00:00</td>\n",
       "      <td>2013-05-26 00:00:00</td>\n",
       "      <td>2013-09-09 00:00:00</td>\n",
       "      <td>2013-06-11 00:00:00</td>\n",
       "    </tr>\n",
       "  </tbody>\n",
       "</table>\n",
       "<p>5 rows × 43 columns</p>\n",
       "</div>"
      ],
      "text/plain": [
       "                        _donationid                        _projectid  \\\n",
       "0  0000023f507999464aa2b78875b7e5d6  69bf3a609bb4673818e0eebd004ea504   \n",
       "1  53ec9a692cd770d6e4f0c6673451ff60  69bf3a609bb4673818e0eebd004ea504   \n",
       "2  798dad82b651ff0371e4a655e56bbca5  69bf3a609bb4673818e0eebd004ea504   \n",
       "3  87c43e67b49398b4e0d54d31e2ae95ca  69bf3a609bb4673818e0eebd004ea504   \n",
       "4  000009891526c0ade7180f8423792063  26f02742185eb1f73f3bc5be4655fae2   \n",
       "\n",
       "                      _donor_acctid  donor_city donor_state is_teacher_acct  \\\n",
       "0  22c50856b0824db76daf527da6af9abf         NaN         NaN               f   \n",
       "1  ba7d4afdfc182c4c5fde1d57980697bc         NaN          CA               f   \n",
       "2  9b29654e7ea1241e6fa1ec4805b7429e      Wilton          CA               f   \n",
       "3  b8f54362e335b81171ebbe36c657ea4b  Orangevale          CA               f   \n",
       "4  c91489d7b6b89943a28555e6add72509         NaN          NJ               t   \n",
       "\n",
       "        donation_timestamp  donation_to_project  donation_optional_support  \\\n",
       "0  2011-02-13 11:07:19.349                 8.50                       1.50   \n",
       "1   2011-03-18 01:54:04.96               217.13                      38.32   \n",
       "2  2011-03-18 01:54:04.882               166.13                      29.32   \n",
       "3  2011-01-31 00:41:24.833                42.50                       7.50   \n",
       "4   2013-05-26 11:28:31.30                63.75                      11.25   \n",
       "\n",
       "   donation_total         ...          students_reached total_donations  \\\n",
       "0           10.00         ...                      23.0          510.90   \n",
       "1          255.45         ...                      23.0          510.90   \n",
       "2          195.45         ...                      23.0          510.90   \n",
       "3           50.00         ...                      23.0          510.90   \n",
       "4           75.00         ...                      78.0          335.96   \n",
       "\n",
       "  num_donors eligible_double_your_impact_match  eligible_almost_home_match  \\\n",
       "0          4                                 t                           f   \n",
       "1          4                                 t                           f   \n",
       "2          4                                 t                           f   \n",
       "3          4                                 t                           f   \n",
       "4          4                                 f                           f   \n",
       "\n",
       "   funding_status          date_posted       date_completed  \\\n",
       "0       completed  2011-01-23 00:00:00  2011-03-18 00:00:00   \n",
       "1       completed  2011-01-23 00:00:00  2011-03-18 00:00:00   \n",
       "2       completed  2011-01-23 00:00:00  2011-03-18 00:00:00   \n",
       "3       completed  2011-01-23 00:00:00  2011-03-18 00:00:00   \n",
       "4       completed  2013-02-11 00:00:00  2013-05-26 00:00:00   \n",
       "\n",
       "  date_thank_you_packet_mailed      date_expiration  \n",
       "0          2011-05-10 00:00:00  2011-06-21 00:00:00  \n",
       "1          2011-05-10 00:00:00  2011-06-21 00:00:00  \n",
       "2          2011-05-10 00:00:00  2011-06-21 00:00:00  \n",
       "3          2011-05-10 00:00:00  2011-06-21 00:00:00  \n",
       "4          2013-09-09 00:00:00  2013-06-11 00:00:00  \n",
       "\n",
       "[5 rows x 43 columns]"
      ]
     },
     "execution_count": 9,
     "metadata": {},
     "output_type": "execute_result"
    }
   ],
   "source": [
    "## merge projects table together with donation table using _projectid\n",
    "df = df_donation_short.merge(df_projects_short, how='inner', on='_projectid')\n",
    "df.head()"
   ]
  },
  {
   "cell_type": "markdown",
   "metadata": {},
   "source": [
    "Inner join donation table and project table should return the same number of rows as donation table itself, check this by viewing the shape of the 3 tables."
   ]
  },
  {
   "cell_type": "code",
   "execution_count": 10,
   "metadata": {
    "scrolled": false
   },
   "outputs": [
    {
     "name": "stdout",
     "output_type": "stream",
     "text": [
      "(6211956, 13)\n",
      "(1203287, 31)\n",
      "(6211956, 43)\n"
     ]
    }
   ],
   "source": [
    "print(df_donation_short.shape)\n",
    "print(df_projects_short.shape)\n",
    "print(df.shape)"
   ]
  },
  {
   "cell_type": "code",
   "execution_count": 12,
   "metadata": {
    "scrolled": true
   },
   "outputs": [
    {
     "name": "stdout",
     "output_type": "stream",
     "text": [
      "2002-09-13 00:00:00\n",
      "2016-10-11 00:00:00\n"
     ]
    }
   ],
   "source": [
    "print(df['date_posted'].min())\n",
    "print(df['date_posted'].max())"
   ]
  },
  {
   "cell_type": "markdown",
   "metadata": {},
   "source": [
    "We notice that the merged dataset has more than 6 million entries for projects entered from year 2002 to 2016. For the purpose of the study, we will only look at projects that are posted after 2015 to speed up the analysis. "
   ]
  },
  {
   "cell_type": "markdown",
   "metadata": {},
   "source": [
    "## Data Wrangling\n",
    "Now we can put the donations and projects tables aside for a while and work on the merged table for data wrangling. "
   ]
  },
  {
   "cell_type": "markdown",
   "metadata": {},
   "source": [
    "#### Step 1: Inspect the dataframe"
   ]
  },
  {
   "cell_type": "code",
   "execution_count": 11,
   "metadata": {
    "scrolled": true
   },
   "outputs": [
    {
     "name": "stdout",
     "output_type": "stream",
     "text": [
      "<class 'pandas.core.frame.DataFrame'>\n",
      "Int64Index: 6211956 entries, 0 to 6211955\n",
      "Data columns (total 43 columns):\n",
      "_donationid                               object\n",
      "_projectid                                object\n",
      "_donor_acctid                             object\n",
      "donor_city                                object\n",
      "donor_state                               object\n",
      "is_teacher_acct                           object\n",
      "donation_timestamp                        object\n",
      "donation_to_project                       float64\n",
      "donation_optional_support                 float64\n",
      "donation_total                            float64\n",
      "payment_method                            object\n",
      "is_teacher_referred                       object\n",
      "thank_you_packet_mailed                   object\n",
      "_teacher_acctid                           object\n",
      "school_ncesid                             float64\n",
      "school_latitude                           float64\n",
      "school_longitude                          float64\n",
      "school_city                               object\n",
      "school_state                              object\n",
      "school_zip                                float64\n",
      "school_metro                              object\n",
      "school_district                           object\n",
      "school_county                             object\n",
      "teacher_prefix                            object\n",
      "primary_focus_subject                     object\n",
      "primary_focus_area                        object\n",
      "secondary_focus_subject                   object\n",
      "secondary_focus_area                      object\n",
      "resource_type                             object\n",
      "poverty_level                             object\n",
      "grade_level                               object\n",
      "total_price_excluding_optional_support    float64\n",
      "total_price_including_optional_support    float64\n",
      "students_reached                          float64\n",
      "total_donations                           float64\n",
      "num_donors                                int64\n",
      "eligible_double_your_impact_match         object\n",
      "eligible_almost_home_match                object\n",
      "funding_status                            object\n",
      "date_posted                               object\n",
      "date_completed                            object\n",
      "date_thank_you_packet_mailed              object\n",
      "date_expiration                           object\n",
      "dtypes: float64(11), int64(1), object(31)\n",
      "memory usage: 12.9 GB\n"
     ]
    }
   ],
   "source": [
    "## inspect the dataframe\n",
    "df.info(memory_usage='deep')"
   ]
  },
  {
   "cell_type": "markdown",
   "metadata": {},
   "source": [
    "The dataset has 6211956 rows and some of the columns have null values. We notice that the biggest problem with the dataset is that it consumes more than 12.9GB of memory. Before we take care of the missing values, we need to address the memory problem first. "
   ]
  },
  {
   "cell_type": "markdown",
   "metadata": {},
   "source": [
    "#### Step 2: Optimize and downsize the dataset"
   ]
  },
  {
   "cell_type": "markdown",
   "metadata": {},
   "source": [
    "The dataset has 3 data types: float, integer and object. First, let's inspect the average memory usage for each data type. "
   ]
  },
  {
   "cell_type": "code",
   "execution_count": 13,
   "metadata": {},
   "outputs": [
    {
     "name": "stdout",
     "output_type": "stream",
     "text": [
      "Average memory usage for float columns: 47.39 MB\n",
      "Average memory usage for integer columns: 29.62 MB\n",
      "Average memory usage for object columns: 398.94 MB\n"
     ]
    }
   ],
   "source": [
    "for dtype in ['float','integer','object']:\n",
    "    selected_dtype = df.select_dtypes(include=[dtype])\n",
    "    mean_usage_b = selected_dtype.memory_usage(deep=True).mean()\n",
    "    mean_usage_mb = mean_usage_b / 1024 ** 2\n",
    "    print(\"Average memory usage for {} columns: {:03.2f} MB\".format(dtype,mean_usage_mb))"
   ]
  },
  {
   "cell_type": "code",
   "execution_count": 12,
   "metadata": {},
   "outputs": [],
   "source": [
    "## downsizing the integer and float columns to numeric\n",
    "df_int = df.select_dtypes(include=['integer'])\n",
    "converted_int = df_int.apply(pd.to_numeric,downcast='unsigned')\n",
    "df_float = df.select_dtypes(include=['float'])\n",
    "converted_float = df_float.apply(pd.to_numeric,downcast='float')"
   ]
  },
  {
   "cell_type": "markdown",
   "metadata": {},
   "source": [
    "Since many columns in the dataset are categorical data, converting them to the type 'category' will save a lot of memory. However, we don't want to convert all the object columns to 'category' if they don't have a few unique values. As a result, we only want to convert columns where less than 50% of the values are unique. "
   ]
  },
  {
   "cell_type": "code",
   "execution_count": 13,
   "metadata": {},
   "outputs": [],
   "source": [
    "converted_obj = pd.DataFrame()\n",
    "df_obj = df.select_dtypes(include=['object'])\n",
    "\n",
    "for col in df_obj.columns:\n",
    "    num_unique_values = len(df_obj[col].unique())\n",
    "    num_total_values = len(df_obj[col])\n",
    "    if num_unique_values / num_total_values < 0.5:\n",
    "        converted_obj.loc[:,col] = df_obj[col].astype('category')\n",
    "    else:\n",
    "        converted_obj.loc[:,col] = df_obj[col]"
   ]
  },
  {
   "cell_type": "markdown",
   "metadata": {},
   "source": [
    "As a final step, we replace the orginal columns with the converted optimized columns. "
   ]
  },
  {
   "cell_type": "code",
   "execution_count": 15,
   "metadata": {
    "scrolled": true
   },
   "outputs": [],
   "source": [
    "df[converted_int.columns] = converted_int\n",
    "df[converted_float.columns] = converted_float\n",
    "df[converted_obj.columns] = converted_obj"
   ]
  },
  {
   "cell_type": "markdown",
   "metadata": {},
   "source": [
    "After the optimization, we can see that the memory usage has decreased from 12.9GB to 2GB. "
   ]
  },
  {
   "cell_type": "code",
   "execution_count": 16,
   "metadata": {
    "scrolled": true
   },
   "outputs": [
    {
     "name": "stdout",
     "output_type": "stream",
     "text": [
      "<class 'pandas.core.frame.DataFrame'>\n",
      "Int64Index: 6211956 entries, 0 to 6211955\n",
      "Data columns (total 43 columns):\n",
      "_donationid                               object\n",
      "_projectid                                category\n",
      "_donor_acctid                             category\n",
      "donor_city                                category\n",
      "donor_state                               category\n",
      "is_teacher_acct                           category\n",
      "donation_timestamp                        object\n",
      "donation_to_project                       float32\n",
      "donation_optional_support                 float32\n",
      "donation_total                            float32\n",
      "payment_method                            category\n",
      "is_teacher_referred                       category\n",
      "thank_you_packet_mailed                   category\n",
      "_teacher_acctid                           category\n",
      "school_ncesid                             float32\n",
      "school_latitude                           float32\n",
      "school_longitude                          float32\n",
      "school_city                               category\n",
      "school_state                              category\n",
      "school_zip                                float32\n",
      "school_metro                              category\n",
      "school_district                           category\n",
      "school_county                             category\n",
      "teacher_prefix                            category\n",
      "primary_focus_subject                     category\n",
      "primary_focus_area                        category\n",
      "secondary_focus_subject                   category\n",
      "secondary_focus_area                      category\n",
      "resource_type                             category\n",
      "poverty_level                             category\n",
      "grade_level                               category\n",
      "total_price_excluding_optional_support    float32\n",
      "total_price_including_optional_support    float32\n",
      "students_reached                          float32\n",
      "total_donations                           float32\n",
      "num_donors                                uint16\n",
      "eligible_double_your_impact_match         category\n",
      "eligible_almost_home_match                category\n",
      "funding_status                            category\n",
      "date_posted                               category\n",
      "date_completed                            category\n",
      "date_thank_you_packet_mailed              category\n",
      "date_expiration                           category\n",
      "dtypes: category(29), float32(11), object(2), uint16(1)\n",
      "memory usage: 2.0 GB\n"
     ]
    }
   ],
   "source": [
    "## inspect the dataframe\n",
    "df.info(memory_usage='deep')"
   ]
  },
  {
   "cell_type": "markdown",
   "metadata": {},
   "source": [
    "#### Step 3: Cleanup the date columns"
   ]
  },
  {
   "cell_type": "code",
   "execution_count": 17,
   "metadata": {},
   "outputs": [],
   "source": [
    "df['donation_timestamp'] = pd.to_datetime(df['donation_timestamp'])\n",
    "df['date_posted'] = pd.to_datetime(df['date_posted'])\n",
    "df['date_completed'] = pd.to_datetime(df['date_completed'])\n",
    "df['date_thank_you_packet_mailed'] = pd.to_datetime(df['date_thank_you_packet_mailed'])\n",
    "df['date_expiration'] = pd.to_datetime(df['date_expiration'])"
   ]
  },
  {
   "cell_type": "markdown",
   "metadata": {},
   "source": [
    "#### Step 4: Deal with missing values"
   ]
  },
  {
   "cell_type": "markdown",
   "metadata": {},
   "source": [
    "a. Finding the columns that have missing values"
   ]
  },
  {
   "cell_type": "code",
   "execution_count": 18,
   "metadata": {
    "scrolled": false
   },
   "outputs": [
    {
     "name": "stdout",
     "output_type": "stream",
     "text": [
      "['donor_city', 'donor_state', 'school_ncesid', 'school_city', 'school_zip', 'school_metro', 'school_district', 'school_county', 'teacher_prefix', 'primary_focus_subject', 'primary_focus_area', 'secondary_focus_subject', 'secondary_focus_area', 'resource_type', 'grade_level', 'students_reached', 'date_completed', 'date_thank_you_packet_mailed', 'date_expiration']\n"
     ]
    }
   ],
   "source": [
    "nan_cols = []\n",
    "for col in df.columns:\n",
    "    if df[col].count()<df['_donationid'].count():\n",
    "        nan_cols.append(col)\n",
    "print(nan_cols)"
   ]
  },
  {
   "cell_type": "markdown",
   "metadata": {},
   "source": [
    "b. Fill in null values for school_city   \n",
    "For the missing values in school_city, I would like to see if the corresponding school_district is known. If yes, we can map the city according to the school district."
   ]
  },
  {
   "cell_type": "code",
   "execution_count": 19,
   "metadata": {
    "scrolled": true
   },
   "outputs": [
    {
     "data": {
      "text/plain": [
       "[Dc Public Schools, [State Run], Texas Dept Of Education, San Francisco Unified Sch Dist, Gary Cmty School District, ..., Chicago Public School Dist 299, San Jose Unified School Dist, School City Of East Chicago, Lafayette School District, Oxford School District]\n",
       "Length: 30\n",
       "Categories (30, object): [Dc Public Schools, [State Run], Texas Dept Of Education, San Francisco Unified Sch Dist, ..., San Jose Unified School Dist, School City Of East Chicago, Lafayette School District, Oxford School District]"
      ]
     },
     "execution_count": 19,
     "metadata": {},
     "output_type": "execute_result"
    }
   ],
   "source": [
    "## check if any entry has a missing school_city, but a known school_district\n",
    "missing_city = df[(df['school_city'].isnull()) & (df['school_district'].notnull())]\n",
    "missing_city['school_district'].unique()"
   ]
  },
  {
   "cell_type": "markdown",
   "metadata": {},
   "source": [
    "The above is a list of school districts that correspond to a missing school_city. We can create a dictionary with school districts as the keys and city as the values. Then we can use the mapping to fill in some of the NaN values in the school_city column. "
   ]
  },
  {
   "cell_type": "code",
   "execution_count": 20,
   "metadata": {
    "scrolled": false
   },
   "outputs": [
    {
     "name": "stdout",
     "output_type": "stream",
     "text": [
      "{'Dc Public Schools': 'Washington', 'San Francisco Unified Sch Dist': 'San Francisco', 'Gary Cmty School District': 'Gary', 'Philadelphia City School Dist': 'Philadelphia', 'Santa Clara Unified Sch Dist': 'Santa Clara', 'Sonoma Valley Unified Sch Dist': 'Sonoma', 'St Louis City Public Sch Dist': 'St. Louis', 'Laguna Joint Elem School Dist': 'Petaluma', 'Indianapolis Public Sch Dist': 'Indianapolis', 'Los Angeles Unif Sch Dist': 'Los Angeles', 'Detroit Public School District': 'Detroit', 'Baltimore City Public Sch Dist': 'Baltimore', 'Oakland Unified School Dist': 'Oakland', 'Chicago Public School Dist 299': 'Chicago', 'San Jose Unified School Dist': 'San Jose', 'School City Of East Chicago': 'East Chicago', 'Lafayette School District': 'Lafayette', 'Oxford School District': 'Oxford'}\n"
     ]
    }
   ],
   "source": [
    "d = {}\n",
    "d['Dc Public Schools'] = 'Washington'\n",
    "d['San Francisco Unified Sch Dist'] = 'San Francisco'\n",
    "d['Gary Cmty School District'] = 'Gary'\n",
    "d['Philadelphia City School Dist'] = 'Philadelphia'\n",
    "d['Santa Clara Unified Sch Dist'] = 'Santa Clara'\n",
    "d['Sonoma Valley Unified Sch Dist'] = 'Sonoma'\n",
    "d['St Louis City Public Sch Dist'] = 'St. Louis'\n",
    "d['Laguna Joint Elem School Dist'] = 'Petaluma'\n",
    "d['Indianapolis Public Sch Dist'] = 'Indianapolis'\n",
    "d['Los Angeles Unif Sch Dist'] = 'Los Angeles'\n",
    "d['Detroit Public School District'] = 'Detroit'\n",
    "d['Baltimore City Public Sch Dist'] = 'Baltimore'\n",
    "d['Oakland Unified School Dist'] = 'Oakland'\n",
    "d['Chicago Public School Dist 299'] = 'Chicago'\n",
    "d['San Jose Unified School Dist'] = 'San Jose'\n",
    "d['School City Of East Chicago'] = 'East Chicago'\n",
    "d['Lafayette School District'] = 'Lafayette'\n",
    "d['Oxford School District'] = 'Oxford'\n",
    "print(d)"
   ]
  },
  {
   "cell_type": "code",
   "execution_count": 57,
   "metadata": {
    "scrolled": true
   },
   "outputs": [],
   "source": [
    "## add new cities to the school_city category if not already there\n",
    "city_cat = df['school_city'].cat.categories\n",
    "new_cities = []\n",
    "for key, value in d.items():\n",
    "    new_cities.append(value)   \n",
    "\n",
    "for i in new_cities:\n",
    "    if i not in city_cat:\n",
    "        df['school_city'].cat.add_categories([i], inplace = True)"
   ]
  },
  {
   "cell_type": "code",
   "execution_count": 59,
   "metadata": {},
   "outputs": [],
   "source": [
    "## replace the null values in 'school_city' column\n",
    "def city(x):\n",
    "    if x in d.keys():\n",
    "        return d[x]\n",
    "    else: \n",
    "        return\n",
    "\n",
    "df.loc[(df['school_city'].isnull()), 'school_city'] = df[df['school_city'].isnull()]['school_district'].apply(lambda x: city(x))"
   ]
  },
  {
   "cell_type": "markdown",
   "metadata": {},
   "source": [
    "Some of the school districts cover more than one city. Thus, we can't infer the corresponding city from the district name. By applying the above mapping, we were able to decrease the null value in the school_city column from more than 50,000 to 12,673. "
   ]
  },
  {
   "cell_type": "code",
   "execution_count": 60,
   "metadata": {
    "scrolled": true
   },
   "outputs": [
    {
     "data": {
      "text/plain": [
       "12673"
      ]
     },
     "execution_count": 60,
     "metadata": {},
     "output_type": "execute_result"
    }
   ],
   "source": [
    "df[df['school_city'].isnull()]['_donationid'].count()"
   ]
  },
  {
   "cell_type": "markdown",
   "metadata": {},
   "source": [
    "c. Cleanup missing values in donor_state column"
   ]
  },
  {
   "cell_type": "code",
   "execution_count": 1,
   "metadata": {},
   "outputs": [
    {
     "ename": "NameError",
     "evalue": "name 'df' is not defined",
     "output_type": "error",
     "traceback": [
      "\u001b[1;31m---------------------------------------------------------------------------\u001b[0m",
      "\u001b[1;31mNameError\u001b[0m                                 Traceback (most recent call last)",
      "\u001b[1;32m<ipython-input-1-2fe9238e8a88>\u001b[0m in \u001b[0;36m<module>\u001b[1;34m()\u001b[0m\n\u001b[1;32m----> 1\u001b[1;33m \u001b[1;32mfor\u001b[0m \u001b[0mi\u001b[0m \u001b[1;32min\u001b[0m \u001b[0mdf\u001b[0m\u001b[1;33m[\u001b[0m\u001b[1;34m'donor_state'\u001b[0m\u001b[1;33m]\u001b[0m\u001b[1;33m.\u001b[0m\u001b[0munique\u001b[0m\u001b[1;33m(\u001b[0m\u001b[1;33m)\u001b[0m\u001b[1;33m:\u001b[0m\u001b[1;33m\u001b[0m\u001b[0m\n\u001b[0m\u001b[0;32m      2\u001b[0m     \u001b[0mprint\u001b[0m\u001b[1;33m(\u001b[0m\u001b[0mi\u001b[0m\u001b[1;33m)\u001b[0m\u001b[1;33m\u001b[0m\u001b[0m\n",
      "\u001b[1;31mNameError\u001b[0m: name 'df' is not defined"
     ]
    }
   ],
   "source": [
    "for i in df['donor_state'].unique():\n",
    "    print(i)"
   ]
  },
  {
   "cell_type": "markdown",
   "metadata": {},
   "source": [
    "There are other missing values whose value could not be inferred from other information or columns. Whether to fill them in will depend on the future analysis and machine learning algorithm. "
   ]
  },
  {
   "cell_type": "markdown",
   "metadata": {},
   "source": [
    "#### Step 4: Save the optimized dataframe"
   ]
  },
  {
   "cell_type": "code",
   "execution_count": 62,
   "metadata": {},
   "outputs": [],
   "source": [
    "df.to_csv('project_donation_optimized.csv', index=False)"
   ]
  },
  {
   "cell_type": "code",
   "execution_count": 63,
   "metadata": {},
   "outputs": [
    {
     "data": {
      "text/plain": [
       "Index(['_donationid', '_projectid', '_donor_acctid', 'donor_city',\n",
       "       'donor_state', 'is_teacher_acct', 'donation_timestamp',\n",
       "       'donation_to_project', 'donation_optional_support', 'donation_total',\n",
       "       'payment_method', 'is_teacher_referred', 'thank_you_packet_mailed',\n",
       "       '_teacher_acctid', 'school_ncesid', 'school_latitude',\n",
       "       'school_longitude', 'school_city', 'school_state', 'school_zip',\n",
       "       'school_metro', 'school_district', 'school_county', 'teacher_prefix',\n",
       "       'primary_focus_subject', 'primary_focus_area',\n",
       "       'secondary_focus_subject', 'secondary_focus_area', 'resource_type',\n",
       "       'poverty_level', 'grade_level',\n",
       "       'total_price_excluding_optional_support',\n",
       "       'total_price_including_optional_support', 'students_reached',\n",
       "       'total_donations', 'num_donors', 'eligible_double_your_impact_match',\n",
       "       'eligible_almost_home_match', 'funding_status', 'date_posted',\n",
       "       'date_completed', 'date_thank_you_packet_mailed', 'date_expiration'],\n",
       "      dtype='object')"
      ]
     },
     "execution_count": 63,
     "metadata": {},
     "output_type": "execute_result"
    }
   ],
   "source": [
    "df.columns"
   ]
  },
  {
   "cell_type": "markdown",
   "metadata": {},
   "source": [
    "#### Step 5: Create additional columns to help with analysis (pending)"
   ]
  },
  {
   "cell_type": "code",
   "execution_count": 32,
   "metadata": {},
   "outputs": [],
   "source": []
  }
 ],
 "metadata": {
  "kernelspec": {
   "display_name": "Python 3",
   "language": "python",
   "name": "python3"
  },
  "language_info": {
   "codemirror_mode": {
    "name": "ipython",
    "version": 3
   },
   "file_extension": ".py",
   "mimetype": "text/x-python",
   "name": "python",
   "nbconvert_exporter": "python",
   "pygments_lexer": "ipython3",
   "version": "3.6.5"
  }
 },
 "nbformat": 4,
 "nbformat_minor": 2
}
