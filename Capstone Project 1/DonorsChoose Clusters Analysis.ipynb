{
 "cells": [
  {
   "cell_type": "code",
   "execution_count": 1,
   "metadata": {},
   "outputs": [],
   "source": [
    "import pandas as pd\n",
    "import numpy as np\n",
    "import matplotlib.pyplot as plt\n",
    "import seaborn as sns\n",
    "from scipy import stats\n",
    "from statsmodels.stats.multicomp import pairwise_tukeyhsd\n",
    "%matplotlib inline  \n",
    "pd.options.display.max_columns = None\n",
    "import warnings\n",
    "warnings.filterwarnings('ignore')\n",
    "import pickle"
   ]
  },
  {
   "cell_type": "code",
   "execution_count": 2,
   "metadata": {},
   "outputs": [],
   "source": [
    "df_cluster = pd.read_pickle('clustered_dataframe.pkl')"
   ]
  },
  {
   "cell_type": "markdown",
   "metadata": {},
   "source": [
    "#### NUMBER OF DONORS & DONATIONS IN EACH CLUSTER"
   ]
  },
  {
   "cell_type": "code",
   "execution_count": 3,
   "metadata": {},
   "outputs": [
    {
     "data": {
      "text/plain": [
       "cluster_id\n",
       "0     335192\n",
       "1    1318236\n",
       "2     133328\n",
       "Name: _donor_acctid, dtype: int64"
      ]
     },
     "execution_count": 3,
     "metadata": {},
     "output_type": "execute_result"
    }
   ],
   "source": [
    "## number of donors in each cluster\n",
    "donor_count_cl = df_cluster.groupby('cluster_id')['_donor_acctid'].nunique()\n",
    "donor_count_cl"
   ]
  },
  {
   "cell_type": "code",
   "execution_count": 4,
   "metadata": {},
   "outputs": [
    {
     "data": {
      "text/plain": [
       "cluster_id\n",
       "0     760003\n",
       "1    1318236\n",
       "2    2541228\n",
       "dtype: int64"
      ]
     },
     "execution_count": 4,
     "metadata": {},
     "output_type": "execute_result"
    }
   ],
   "source": [
    "## number of donations in each cluster\n",
    "cluster_count=df_cluster.groupby('cluster_id').size()\n",
    "cluster_count.columns=['cluster_id', 'count']\n",
    "cluster_count"
   ]
  },
  {
   "cell_type": "code",
   "execution_count": 5,
   "metadata": {
    "scrolled": false
   },
   "outputs": [
    {
     "data": {
      "text/plain": [
       "Text(0.5, 1.0, 'Number of Donations in Each Cluster')"
      ]
     },
     "execution_count": 5,
     "metadata": {},
     "output_type": "execute_result"
    },
    {
     "data": {
      "image/png": "[encoded data removed]",
      "text/plain": [
       "<Figure size 720x360 with 2 Axes>"
      ]
     },
     "metadata": {},
     "output_type": "display_data"
    }
   ],
   "source": [
    "sns.set()\n",
    "fig, (ax0, ax1) = plt.subplots(nrows=1, ncols=2, figsize=(10,5))\n",
    "donor_count_cl.plot(kind='pie', ax=ax0)\n",
    "cluster_count.plot(kind='pie', ax=ax1)\n",
    "ax0.set_title('Number of Donors in Each Cluster')\n",
    "ax1.set_title('Number of Donations in Each Cluster')"
   ]
  },
  {
   "cell_type": "markdown",
   "metadata": {},
   "source": [
    "Even though there is only a small portion of donors in cluster 2, they contributed to a large percentage of total donations in terms of number of donations."
   ]
  },
  {
   "cell_type": "markdown",
   "metadata": {},
   "source": [
    "#### DONOR BEHAVIOR"
   ]
  },
  {
   "cell_type": "markdown",
   "metadata": {},
   "source": [
    "Donation Count"
   ]
  },
  {
   "cell_type": "code",
   "execution_count": 16,
   "metadata": {},
   "outputs": [
    {
     "data": {
      "text/html": [
       "<div>\n",
       "<style scoped>\n",
       "    .dataframe tbody tr th:only-of-type {\n",
       "        vertical-align: middle;\n",
       "    }\n",
       "\n",
       "    .dataframe tbody tr th {\n",
       "        vertical-align: top;\n",
       "    }\n",
       "\n",
       "    .dataframe thead th {\n",
       "        text-align: right;\n",
       "    }\n",
       "</style>\n",
       "<table border=\"1\" class=\"dataframe\">\n",
       "  <thead>\n",
       "    <tr style=\"text-align: right;\">\n",
       "      <th></th>\n",
       "      <th>cluster_id</th>\n",
       "      <th>donation_frequency</th>\n",
       "    </tr>\n",
       "    <tr>\n",
       "      <th>_donor_acctid</th>\n",
       "      <th></th>\n",
       "      <th></th>\n",
       "    </tr>\n",
       "  </thead>\n",
       "  <tbody>\n",
       "    <tr>\n",
       "      <th>0000023f507999464aa2b78875b7e5d6</th>\n",
       "      <td>1</td>\n",
       "      <td>1</td>\n",
       "    </tr>\n",
       "    <tr>\n",
       "      <th>00000ce845c00cbf0686c992fc369df4</th>\n",
       "      <td>1</td>\n",
       "      <td>1</td>\n",
       "    </tr>\n",
       "    <tr>\n",
       "      <th>00002eb25d60a09c318efbd0797bffb5</th>\n",
       "      <td>0</td>\n",
       "      <td>2</td>\n",
       "    </tr>\n",
       "  </tbody>\n",
       "</table>\n",
       "</div>"
      ],
      "text/plain": [
       "                                  cluster_id  donation_frequency\n",
       "_donor_acctid                                                   \n",
       "0000023f507999464aa2b78875b7e5d6           1                   1\n",
       "00000ce845c00cbf0686c992fc369df4           1                   1\n",
       "00002eb25d60a09c318efbd0797bffb5           0                   2"
      ]
     },
     "execution_count": 16,
     "metadata": {},
     "output_type": "execute_result"
    }
   ],
   "source": [
    "## donation frequency\n",
    "donation_count = df_cluster.groupby('_donor_acctid').agg({'_donor_acctid': 'count', 'cluster_id': 'max'})\n",
    "donation_count.columns=['cluster_id', 'donation_frequency']\n",
    "donation_count.head(3)"
   ]
  },
  {
   "cell_type": "code",
   "execution_count": 17,
   "metadata": {
    "scrolled": false
   },
   "outputs": [
    {
     "data": {
      "text/html": [
       "<div>\n",
       "<style scoped>\n",
       "    .dataframe tbody tr th:only-of-type {\n",
       "        vertical-align: middle;\n",
       "    }\n",
       "\n",
       "    .dataframe tbody tr th {\n",
       "        vertical-align: top;\n",
       "    }\n",
       "\n",
       "    .dataframe thead th {\n",
       "        text-align: right;\n",
       "    }\n",
       "</style>\n",
       "<table border=\"1\" class=\"dataframe\">\n",
       "  <thead>\n",
       "    <tr style=\"text-align: right;\">\n",
       "      <th></th>\n",
       "      <th>cluster_id</th>\n",
       "      <th>min</th>\n",
       "      <th>max</th>\n",
       "      <th>mean</th>\n",
       "      <th>median</th>\n",
       "    </tr>\n",
       "  </thead>\n",
       "  <tbody>\n",
       "    <tr>\n",
       "      <th>0</th>\n",
       "      <td>0</td>\n",
       "      <td>1</td>\n",
       "      <td>41</td>\n",
       "      <td>2.267366</td>\n",
       "      <td>2</td>\n",
       "    </tr>\n",
       "    <tr>\n",
       "      <th>1</th>\n",
       "      <td>1</td>\n",
       "      <td>1</td>\n",
       "      <td>1</td>\n",
       "      <td>1.000000</td>\n",
       "      <td>1</td>\n",
       "    </tr>\n",
       "    <tr>\n",
       "      <th>2</th>\n",
       "      <td>2</td>\n",
       "      <td>1</td>\n",
       "      <td>117096</td>\n",
       "      <td>19.059972</td>\n",
       "      <td>6</td>\n",
       "    </tr>\n",
       "  </tbody>\n",
       "</table>\n",
       "</div>"
      ],
      "text/plain": [
       "   cluster_id  min     max       mean  median\n",
       "0           0    1      41   2.267366       2\n",
       "1           1    1       1   1.000000       1\n",
       "2           2    1  117096  19.059972       6"
      ]
     },
     "execution_count": 17,
     "metadata": {},
     "output_type": "execute_result"
    }
   ],
   "source": [
    "mean_frequency = donation_count.groupby('cluster_id')['donation_frequency'].agg(['min', 'max', 'mean', 'median'])\n",
    "mean_frequency = mean_frequency.reset_index()\n",
    "#mean_frequency.columns = ['clusters', 'min', 'max', 'mean']\n",
    "mean_frequency.head()"
   ]
  },
  {
   "cell_type": "markdown",
   "metadata": {},
   "source": [
    "All the donors in cluster 1 are single-time donors. Donors in cluster 2 on average donated 19 times each person. This is the cluster with the highest donation retention. Majority of donors in cluster 0 donated between 2-4 times as shown below."
   ]
  },
  {
   "cell_type": "code",
   "execution_count": 39,
   "metadata": {
    "scrolled": false
   },
   "outputs": [
    {
     "data": {
      "text/plain": [
       "2    250698\n",
       "3     80465\n",
       "4      3369\n",
       "5       446\n",
       "6       123\n",
       "Name: donation_frequency, dtype: int64"
      ]
     },
     "execution_count": 39,
     "metadata": {},
     "output_type": "execute_result"
    }
   ],
   "source": [
    "tt = donation_count[donation_count['cluster_id']==0]['donation_frequency']\n",
    "tt.value_counts().head(5)"
   ]
  },
  {
   "cell_type": "markdown",
   "metadata": {},
   "source": [
    "Donation Amount"
   ]
  },
  {
   "cell_type": "code",
   "execution_count": 57,
   "metadata": {
    "scrolled": true
   },
   "outputs": [
    {
     "data": {
      "text/html": [
       "<div>\n",
       "<style scoped>\n",
       "    .dataframe tbody tr th:only-of-type {\n",
       "        vertical-align: middle;\n",
       "    }\n",
       "\n",
       "    .dataframe tbody tr th {\n",
       "        vertical-align: top;\n",
       "    }\n",
       "\n",
       "    .dataframe thead th {\n",
       "        text-align: right;\n",
       "    }\n",
       "</style>\n",
       "<table border=\"1\" class=\"dataframe\">\n",
       "  <thead>\n",
       "    <tr style=\"text-align: right;\">\n",
       "      <th></th>\n",
       "      <th>count</th>\n",
       "      <th>sum</th>\n",
       "      <th>mean</th>\n",
       "      <th>median</th>\n",
       "      <th>std</th>\n",
       "    </tr>\n",
       "    <tr>\n",
       "      <th>cluster_id</th>\n",
       "      <th></th>\n",
       "      <th></th>\n",
       "      <th></th>\n",
       "      <th></th>\n",
       "      <th></th>\n",
       "    </tr>\n",
       "  </thead>\n",
       "  <tbody>\n",
       "    <tr>\n",
       "      <th>0</th>\n",
       "      <td>760003</td>\n",
       "      <td>41844544.0</td>\n",
       "      <td>55.058392</td>\n",
       "      <td>25.0</td>\n",
       "      <td>181.583496</td>\n",
       "    </tr>\n",
       "    <tr>\n",
       "      <th>1</th>\n",
       "      <td>1318236</td>\n",
       "      <td>62884352.0</td>\n",
       "      <td>47.703407</td>\n",
       "      <td>25.0</td>\n",
       "      <td>203.597839</td>\n",
       "    </tr>\n",
       "    <tr>\n",
       "      <th>2</th>\n",
       "      <td>2541228</td>\n",
       "      <td>258144128.0</td>\n",
       "      <td>101.582436</td>\n",
       "      <td>25.0</td>\n",
       "      <td>341.185211</td>\n",
       "    </tr>\n",
       "  </tbody>\n",
       "</table>\n",
       "</div>"
      ],
      "text/plain": [
       "              count          sum        mean  median         std\n",
       "cluster_id                                                      \n",
       "0            760003   41844544.0   55.058392    25.0  181.583496\n",
       "1           1318236   62884352.0   47.703407    25.0  203.597839\n",
       "2           2541228  258144128.0  101.582436    25.0  341.185211"
      ]
     },
     "execution_count": 57,
     "metadata": {},
     "output_type": "execute_result"
    }
   ],
   "source": [
    "donation_amt = df_cluster.groupby('cluster_id')['donation_total'].agg(['count', 'sum','mean', 'median', 'std'])\n",
    "donation_amt"
   ]
  },
  {
   "cell_type": "code",
   "execution_count": 64,
   "metadata": {
    "scrolled": false
   },
   "outputs": [
    {
     "data": {
      "text/plain": [
       "2    218\n",
       "1     16\n",
       "0     14\n",
       "Name: cluster_id, dtype: int64"
      ]
     },
     "execution_count": 64,
     "metadata": {},
     "output_type": "execute_result"
    }
   ],
   "source": [
    "large_donors = df_cluster[df_cluster['donation_total']>10000]\n",
    "large_donors['cluster_id'].value_counts()"
   ]
  },
  {
   "cell_type": "markdown",
   "metadata": {},
   "source": [
    "In terms of donation amount, all the groups have a median donation of `$`25 dollars, while donors in cluster 2 have the highest average donation amount. When we filter for the donations that are higher than `$`10,000, most of them are from cluster 2. We can also visualize the distribution of a sample of the donations from the below chart. "
   ]
  },
  {
   "cell_type": "code",
   "execution_count": 65,
   "metadata": {
    "scrolled": true
   },
   "outputs": [],
   "source": [
    "indiv_donor_amt = df_cluster.groupby('_donor_acctid').agg({'donation_total': 'mean', 'cluster_id': 'max'})\n",
    "indiv_donor_amt.columns=['cluster_id','average_donation']\n",
    "donation_ct_amt = donation_count.merge(indiv_donor_amt, left_index=True, right_index=True)"
   ]
  },
  {
   "cell_type": "code",
   "execution_count": 48,
   "metadata": {},
   "outputs": [],
   "source": [
    "dca_sample = donation_ct_amt.sample(frac=0.0005)"
   ]
  },
  {
   "cell_type": "code",
   "execution_count": 53,
   "metadata": {},
   "outputs": [
    {
     "data": {
      "text/plain": [
       "(0, 550)"
      ]
     },
     "execution_count": 53,
     "metadata": {},
     "output_type": "execute_result"
    },
    {
     "data": {
      "image/png": "[encoded data removed]",
      "text/plain": [
       "<Figure size 864x432 with 1 Axes>"
      ]
     },
     "metadata": {},
     "output_type": "display_data"
    }
   ],
   "source": [
    "plt.figure(figsize=(12,6))\n",
    "sns.swarmplot(x='donation_frequency', y='average_donation', data=dca_sample, hue='cluster_id_x')\n",
    "plt.xlim(-1, 15)\n",
    "plt.ylim(0,550)"
   ]
  },
  {
   "cell_type": "markdown",
   "metadata": {},
   "source": [
    "#### DONORS AND STATES"
   ]
  },
  {
   "cell_type": "markdown",
   "metadata": {},
   "source": [
    "Donors by States"
   ]
  },
  {
   "cell_type": "markdown",
   "metadata": {},
   "source": [
    "We will visualize the distribution of donors on a map. To speed up the loading of the map, only a sample of the data points are shown on the visualization. "
   ]
  },
  {
   "cell_type": "code",
   "execution_count": 156,
   "metadata": {},
   "outputs": [],
   "source": [
    "import plotly\n",
    "plotly.tools.set_credentials_file(username='ireneyao', api_key='yYWRMhq6Xyj7Trq94xjG')"
   ]
  },
  {
   "cell_type": "code",
   "execution_count": 157,
   "metadata": {},
   "outputs": [],
   "source": [
    "df_sample = df_cluster.sample(frac=0.0005)\n",
    "scl = [ [0,\"rgb(255, 153, 51)\"],[0.5,\"rgb(160, 160, 160)\"],[1,\"rgb(153, 204, 255)\"] ]\n",
    "data = [dict(\n",
    "        type = 'scattergeo',\n",
    "        locationmode = 'USA-states',\n",
    "        lon = df_sample['school_longitude'],\n",
    "        lat = df_sample['school_latitude'],\n",
    "        #locations = df_sample['donor_state'],\n",
    "        mode = 'markers',\n",
    "        marker = dict(\n",
    "            size = 8,\n",
    "            opacity = 0.8,\n",
    "            reversescale = True,\n",
    "            autocolorscale = False,\n",
    "            symbol = 'square',\n",
    "            line = dict(\n",
    "                width=1,\n",
    "                color='rgba(102, 102, 102)'\n",
    "            ),\n",
    "            colorscale = scl,\n",
    "            cmin = df_sample['cluster_id'].min(),\n",
    "            color = df_sample['cluster_id'],\n",
    "            cmax = df_sample['cluster_id'].max(),\n",
    "            colorbar=dict(\n",
    "                title=\"Clusters\"\n",
    "            )\n",
    "        ))]"
   ]
  },
  {
   "cell_type": "code",
   "execution_count": 254,
   "metadata": {
    "scrolled": false
   },
   "outputs": [
    {
     "data": {
      "text/html": [
       "<iframe id=\"igraph\" scrolling=\"no\" style=\"border:none;\" seamless=\"seamless\" src=\"https://plot.ly/~ireneyao/22.embed\" height=\"525px\" width=\"100%\"></iframe>"
      ],
      "text/plain": [
       "<plotly.tools.PlotlyDisplay object>"
      ]
     },
     "execution_count": 254,
     "metadata": {},
     "output_type": "execute_result"
    }
   ],
   "source": [
    "layout = dict(\n",
    "        title = 'Donations in US Schools by Donor Clusters',\n",
    "        colorbar = False,\n",
    "        geo = dict(\n",
    "            scope='usa',\n",
    "            projection=dict( type='albers usa' ),\n",
    "            showland = True,\n",
    "            landcolor = \"rgb(250, 250, 250)\",\n",
    "            subunitcolor = \"rgb(217, 217, 217)\",\n",
    "            countrycolor = \"rgb(217, 217, 217)\",\n",
    "            countrywidth = 0.5,\n",
    "            subunitwidth = 0.5\n",
    "        ),\n",
    "    )\n",
    "\n",
    "#py.offline.init_notebook_mode(connected=True)\n",
    "fig = dict( data=data, layout=layout )\n",
    "plotly.plotly.iplot(fig, validate=False)"
   ]
  },
  {
   "cell_type": "markdown",
   "metadata": {},
   "source": [
    "From reading the map, we can see that donors from different clusters are spreaded out across the country. There is no obvious pattern in terms of where the clusters are goegraphically located. "
   ]
  },
  {
   "cell_type": "markdown",
   "metadata": {},
   "source": [
    "Donation Counts by States"
   ]
  },
  {
   "cell_type": "code",
   "execution_count": 95,
   "metadata": {
    "scrolled": false
   },
   "outputs": [
    {
     "data": {
      "text/html": [
       "<div>\n",
       "<style scoped>\n",
       "    .dataframe tbody tr th:only-of-type {\n",
       "        vertical-align: middle;\n",
       "    }\n",
       "\n",
       "    .dataframe tbody tr th {\n",
       "        vertical-align: top;\n",
       "    }\n",
       "\n",
       "    .dataframe thead th {\n",
       "        text-align: right;\n",
       "    }\n",
       "</style>\n",
       "<table border=\"1\" class=\"dataframe\">\n",
       "  <thead>\n",
       "    <tr style=\"text-align: right;\">\n",
       "      <th>cluster_id</th>\n",
       "      <th>0</th>\n",
       "      <th>1</th>\n",
       "      <th>2</th>\n",
       "      <th>sum</th>\n",
       "    </tr>\n",
       "    <tr>\n",
       "      <th>donor_state</th>\n",
       "      <th></th>\n",
       "      <th></th>\n",
       "      <th></th>\n",
       "      <th></th>\n",
       "    </tr>\n",
       "  </thead>\n",
       "  <tbody>\n",
       "    <tr>\n",
       "      <th>CA</th>\n",
       "      <td>151891</td>\n",
       "      <td>281104</td>\n",
       "      <td>436930</td>\n",
       "      <td>869925</td>\n",
       "    </tr>\n",
       "    <tr>\n",
       "      <th>NY</th>\n",
       "      <td>65784</td>\n",
       "      <td>93173</td>\n",
       "      <td>598236</td>\n",
       "      <td>757193</td>\n",
       "    </tr>\n",
       "    <tr>\n",
       "      <th>IL</th>\n",
       "      <td>43401</td>\n",
       "      <td>65698</td>\n",
       "      <td>230752</td>\n",
       "      <td>339851</td>\n",
       "    </tr>\n",
       "    <tr>\n",
       "      <th>FL</th>\n",
       "      <td>50571</td>\n",
       "      <td>81223</td>\n",
       "      <td>97263</td>\n",
       "      <td>229057</td>\n",
       "    </tr>\n",
       "    <tr>\n",
       "      <th>TX</th>\n",
       "      <td>39797</td>\n",
       "      <td>75401</td>\n",
       "      <td>90748</td>\n",
       "      <td>205946</td>\n",
       "    </tr>\n",
       "  </tbody>\n",
       "</table>\n",
       "</div>"
      ],
      "text/plain": [
       "cluster_id        0       1       2     sum\n",
       "donor_state                                \n",
       "CA           151891  281104  436930  869925\n",
       "NY            65784   93173  598236  757193\n",
       "IL            43401   65698  230752  339851\n",
       "FL            50571   81223   97263  229057\n",
       "TX            39797   75401   90748  205946"
      ]
     },
     "execution_count": 95,
     "metadata": {},
     "output_type": "execute_result"
    }
   ],
   "source": [
    "donor_state_grp = df_cluster.groupby(['donor_state', 'cluster_id'])['_donor_acctid'].count()\n",
    "donor_state_grp = donor_state_grp.unstack('cluster_id')\n",
    "donor_state_grp['sum'] = donor_state_grp.sum(axis=1)\n",
    "donor_state_grp = donor_state_grp.sort_values('sum', ascending=False)#.reset_index()\n",
    "donor_state_grp.head()"
   ]
  },
  {
   "cell_type": "code",
   "execution_count": 121,
   "metadata": {},
   "outputs": [
    {
     "data": {
      "text/html": [
       "<div>\n",
       "<style scoped>\n",
       "    .dataframe tbody tr th:only-of-type {\n",
       "        vertical-align: middle;\n",
       "    }\n",
       "\n",
       "    .dataframe tbody tr th {\n",
       "        vertical-align: top;\n",
       "    }\n",
       "\n",
       "    .dataframe thead th {\n",
       "        text-align: right;\n",
       "    }\n",
       "</style>\n",
       "<table border=\"1\" class=\"dataframe\">\n",
       "  <thead>\n",
       "    <tr style=\"text-align: right;\">\n",
       "      <th>cluster_id</th>\n",
       "      <th>0</th>\n",
       "      <th>1</th>\n",
       "      <th>2</th>\n",
       "    </tr>\n",
       "    <tr>\n",
       "      <th>donor_state</th>\n",
       "      <th></th>\n",
       "      <th></th>\n",
       "      <th></th>\n",
       "    </tr>\n",
       "  </thead>\n",
       "  <tbody>\n",
       "    <tr>\n",
       "      <th>CA</th>\n",
       "      <td>151891</td>\n",
       "      <td>281104</td>\n",
       "      <td>436930</td>\n",
       "    </tr>\n",
       "    <tr>\n",
       "      <th>NY</th>\n",
       "      <td>65784</td>\n",
       "      <td>93173</td>\n",
       "      <td>598236</td>\n",
       "    </tr>\n",
       "    <tr>\n",
       "      <th>IL</th>\n",
       "      <td>43401</td>\n",
       "      <td>65698</td>\n",
       "      <td>230752</td>\n",
       "    </tr>\n",
       "  </tbody>\n",
       "</table>\n",
       "</div>"
      ],
      "text/plain": [
       "cluster_id        0       1       2\n",
       "donor_state                        \n",
       "CA           151891  281104  436930\n",
       "NY            65784   93173  598236\n",
       "IL            43401   65698  230752"
      ]
     },
     "execution_count": 121,
     "metadata": {},
     "output_type": "execute_result"
    }
   ],
   "source": [
    "donor_state_grp_plt = donor_state_grp.iloc[:, 0:3]\n",
    "donor_state_grp_plt = donor_state_grp_plt.head(10)\n",
    "donor_state_grp_plt.head(3)"
   ]
  },
  {
   "cell_type": "code",
   "execution_count": 119,
   "metadata": {
    "scrolled": true
   },
   "outputs": [
    {
     "data": {
      "text/plain": [
       "<matplotlib.axes._subplots.AxesSubplot at 0x201b7a95470>"
      ]
     },
     "execution_count": 119,
     "metadata": {},
     "output_type": "execute_result"
    },
    {
     "data": {
      "image/png": "[encoded data removed]",
      "text/plain": [
       "<Figure size 936x288 with 1 Axes>"
      ]
     },
     "metadata": {},
     "output_type": "display_data"
    }
   ],
   "source": [
    "fig, ax = plt.subplots(figsize=(13, 4))\n",
    "donor_state_grp_plt.plot(kind='bar', ax=ax)"
   ]
  },
  {
   "cell_type": "markdown",
   "metadata": {},
   "source": [
    "California, New York, and Illinois have the most number of donations. New York has the largest proportion of donors from cluster 2."
   ]
  },
  {
   "cell_type": "markdown",
   "metadata": {},
   "source": [
    "Donation Amount by State"
   ]
  },
  {
   "cell_type": "code",
   "execution_count": 82,
   "metadata": {
    "scrolled": true
   },
   "outputs": [
    {
     "data": {
      "text/html": [
       "<div>\n",
       "<style scoped>\n",
       "    .dataframe tbody tr th:only-of-type {\n",
       "        vertical-align: middle;\n",
       "    }\n",
       "\n",
       "    .dataframe tbody tr th {\n",
       "        vertical-align: top;\n",
       "    }\n",
       "\n",
       "    .dataframe thead th {\n",
       "        text-align: right;\n",
       "    }\n",
       "</style>\n",
       "<table border=\"1\" class=\"dataframe\">\n",
       "  <thead>\n",
       "    <tr style=\"text-align: right;\">\n",
       "      <th>cluster_id</th>\n",
       "      <th>donor_state</th>\n",
       "      <th>0</th>\n",
       "      <th>1</th>\n",
       "      <th>2</th>\n",
       "      <th>sum</th>\n",
       "    </tr>\n",
       "  </thead>\n",
       "  <tbody>\n",
       "    <tr>\n",
       "      <th>0</th>\n",
       "      <td>CA</td>\n",
       "      <td>8236811.00</td>\n",
       "      <td>11822394.00</td>\n",
       "      <td>63528524.0</td>\n",
       "      <td>83587728.0</td>\n",
       "    </tr>\n",
       "    <tr>\n",
       "      <th>1</th>\n",
       "      <td>NY</td>\n",
       "      <td>4167656.75</td>\n",
       "      <td>5206392.50</td>\n",
       "      <td>63360768.0</td>\n",
       "      <td>72734816.0</td>\n",
       "    </tr>\n",
       "    <tr>\n",
       "      <th>2</th>\n",
       "      <td>IL</td>\n",
       "      <td>2332286.00</td>\n",
       "      <td>3261335.25</td>\n",
       "      <td>15161704.0</td>\n",
       "      <td>20755324.0</td>\n",
       "    </tr>\n",
       "    <tr>\n",
       "      <th>3</th>\n",
       "      <td>TX</td>\n",
       "      <td>2457721.50</td>\n",
       "      <td>4060607.25</td>\n",
       "      <td>7033380.5</td>\n",
       "      <td>13551710.0</td>\n",
       "    </tr>\n",
       "    <tr>\n",
       "      <th>4</th>\n",
       "      <td>FL</td>\n",
       "      <td>2354676.75</td>\n",
       "      <td>3593194.50</td>\n",
       "      <td>6346402.5</td>\n",
       "      <td>12294274.0</td>\n",
       "    </tr>\n",
       "  </tbody>\n",
       "</table>\n",
       "</div>"
      ],
      "text/plain": [
       "cluster_id donor_state           0            1           2         sum\n",
       "0                   CA  8236811.00  11822394.00  63528524.0  83587728.0\n",
       "1                   NY  4167656.75   5206392.50  63360768.0  72734816.0\n",
       "2                   IL  2332286.00   3261335.25  15161704.0  20755324.0\n",
       "3                   TX  2457721.50   4060607.25   7033380.5  13551710.0\n",
       "4                   FL  2354676.75   3593194.50   6346402.5  12294274.0"
      ]
     },
     "execution_count": 82,
     "metadata": {},
     "output_type": "execute_result"
    }
   ],
   "source": [
    "donation_by_state = df_cluster.groupby(['donor_state', 'cluster_id'])['donation_total'].sum()\n",
    "donation_by_state = donation_by_state.unstack('cluster_id')\n",
    "donation_by_state['sum'] = donation_by_state.sum(axis=1)\n",
    "donation_by_state = donation_by_state.sort_values('sum', ascending=False).reset_index()\n",
    "donation_by_state.head()"
   ]
  },
  {
   "cell_type": "code",
   "execution_count": 118,
   "metadata": {
    "scrolled": true
   },
   "outputs": [
    {
     "data": {
      "text/plain": [
       "<matplotlib.axes._subplots.AxesSubplot at 0x201b7a9e668>"
      ]
     },
     "execution_count": 118,
     "metadata": {},
     "output_type": "execute_result"
    },
    {
     "data": {
      "image/png": "[encoded data removed]",
      "text/plain": [
       "<Figure size 936x288 with 1 Axes>"
      ]
     },
     "metadata": {},
     "output_type": "display_data"
    }
   ],
   "source": [
    "fig, ax = plt.subplots(figsize=(13, 4))\n",
    "donation_by_state.iloc[0:10, 0:4].plot(x='donor_state', kind='bar', ax=ax)"
   ]
  },
  {
   "cell_type": "markdown",
   "metadata": {},
   "source": [
    "California, New York, and Illinois also have the highest amount of donations among all US states. This was probably also driven by the large donations from donors in cluster 2."
   ]
  },
  {
   "cell_type": "markdown",
   "metadata": {},
   "source": [
    "#### DONATIONS vs. THANK YOU PACKETS"
   ]
  },
  {
   "cell_type": "code",
   "execution_count": 153,
   "metadata": {
    "scrolled": false
   },
   "outputs": [
    {
     "data": {
      "text/html": [
       "<div>\n",
       "<style scoped>\n",
       "    .dataframe tbody tr th:only-of-type {\n",
       "        vertical-align: middle;\n",
       "    }\n",
       "\n",
       "    .dataframe tbody tr th {\n",
       "        vertical-align: top;\n",
       "    }\n",
       "\n",
       "    .dataframe thead th {\n",
       "        text-align: right;\n",
       "    }\n",
       "</style>\n",
       "<table border=\"1\" class=\"dataframe\">\n",
       "  <thead>\n",
       "    <tr style=\"text-align: right;\">\n",
       "      <th></th>\n",
       "      <th>f</th>\n",
       "      <th>t</th>\n",
       "      <th>perc</th>\n",
       "    </tr>\n",
       "    <tr>\n",
       "      <th>cluster_id</th>\n",
       "      <th></th>\n",
       "      <th></th>\n",
       "      <th></th>\n",
       "    </tr>\n",
       "  </thead>\n",
       "  <tbody>\n",
       "    <tr>\n",
       "      <th>0</th>\n",
       "      <td>685139</td>\n",
       "      <td>74864</td>\n",
       "      <td>0.109268</td>\n",
       "    </tr>\n",
       "    <tr>\n",
       "      <th>1</th>\n",
       "      <td>1204026</td>\n",
       "      <td>114210</td>\n",
       "      <td>0.094857</td>\n",
       "    </tr>\n",
       "    <tr>\n",
       "      <th>2</th>\n",
       "      <td>2182113</td>\n",
       "      <td>359115</td>\n",
       "      <td>0.164572</td>\n",
       "    </tr>\n",
       "  </tbody>\n",
       "</table>\n",
       "</div>"
      ],
      "text/plain": [
       "                  f       t      perc\n",
       "cluster_id                           \n",
       "0            685139   74864  0.109268\n",
       "1           1204026  114210  0.094857\n",
       "2           2182113  359115  0.164572"
      ]
     },
     "execution_count": 153,
     "metadata": {},
     "output_type": "execute_result"
    }
   ],
   "source": [
    "## thank_you_packet\n",
    "thank_you = df_cluster.groupby(['cluster_id', 'thank_you_packet_mailed']).size()#.set_index('thank_you_packet_mailed')\n",
    "thank_you = thank_you.unstack('thank_you_packet_mailed')\n",
    "thank_you.columns.name=None\n",
    "thank_you.columns = ['f', 't']\n",
    "\n",
    "def cal_percent(row):\n",
    "    return (row['t']/row['f'])\n",
    "\n",
    "thank_you['perc'] = thank_you.apply(cal_percent, axis=1)\n",
    "thank_you"
   ]
  },
  {
   "cell_type": "markdown",
   "metadata": {},
   "source": [
    "According to the chart above, group 2 received the most percentage of thank you cards. That's probably why they are more motivated. The joinplot below also shows a positive correlation between number of thank you packets received and total number of donations for each donor. "
   ]
  },
  {
   "cell_type": "code",
   "execution_count": 164,
   "metadata": {},
   "outputs": [],
   "source": [
    "df_cluster['thank_you_packet_mailed'] = [1 if i=='t' else 0 for i in df_cluster['thank_you_packet_mailed']]"
   ]
  },
  {
   "cell_type": "code",
   "execution_count": 170,
   "metadata": {},
   "outputs": [],
   "source": [
    "don_letter = df_cluster.groupby(['_donor_acctid', 'cluster_id'])\\\n",
    ".agg({'thank_you_packet_mailed':'sum', '_donor_acctid':'count'})\n",
    "don_letter.columns = ['total_packet', 'total_donation_no']\n",
    "don_letter = don_letter.reset_index()"
   ]
  },
  {
   "cell_type": "code",
   "execution_count": 211,
   "metadata": {
    "scrolled": false
   },
   "outputs": [
    {
     "data": {
      "text/plain": [
       "(0, 1000)"
      ]
     },
     "execution_count": 211,
     "metadata": {},
     "output_type": "execute_result"
    },
    {
     "data": {
      "image/png": "[encoded data removed]",
      "text/plain": [
       "<Figure size 432x432 with 3 Axes>"
      ]
     },
     "metadata": {},
     "output_type": "display_data"
    }
   ],
   "source": [
    "sns.set_style('darkgrid')\n",
    "don_letter_sample = don_letter.sample(frac=0.01)\n",
    "g = sns.jointplot(x='total_packet', y='total_donation_no', data=don_letter_sample, kind='reg')\n",
    "g.annotate(stats.pearsonr)\n",
    "#plt.xlim(left=0)\n",
    "plt.ylim(0, 1000)"
   ]
  },
  {
   "cell_type": "markdown",
   "metadata": {},
   "source": [
    "#### DONORS vs. TEACHER ACCOUNT"
   ]
  },
  {
   "cell_type": "code",
   "execution_count": 271,
   "metadata": {
    "scrolled": true
   },
   "outputs": [
    {
     "data": {
      "text/html": [
       "<div>\n",
       "<style scoped>\n",
       "    .dataframe tbody tr th:only-of-type {\n",
       "        vertical-align: middle;\n",
       "    }\n",
       "\n",
       "    .dataframe tbody tr th {\n",
       "        vertical-align: top;\n",
       "    }\n",
       "\n",
       "    .dataframe thead th {\n",
       "        text-align: right;\n",
       "    }\n",
       "</style>\n",
       "<table border=\"1\" class=\"dataframe\">\n",
       "  <thead>\n",
       "    <tr style=\"text-align: right;\">\n",
       "      <th></th>\n",
       "      <th>False</th>\n",
       "      <th>True</th>\n",
       "    </tr>\n",
       "  </thead>\n",
       "  <tbody>\n",
       "    <tr>\n",
       "      <th>0</th>\n",
       "      <td>0.899810</td>\n",
       "      <td>0.100190</td>\n",
       "    </tr>\n",
       "    <tr>\n",
       "      <th>1</th>\n",
       "      <td>0.955708</td>\n",
       "      <td>0.044292</td>\n",
       "    </tr>\n",
       "    <tr>\n",
       "      <th>2</th>\n",
       "      <td>0.820225</td>\n",
       "      <td>0.179775</td>\n",
       "    </tr>\n",
       "  </tbody>\n",
       "</table>\n",
       "</div>"
      ],
      "text/plain": [
       "      False      True\n",
       "0  0.899810  0.100190\n",
       "1  0.955708  0.044292\n",
       "2  0.820225  0.179775"
      ]
     },
     "execution_count": 271,
     "metadata": {},
     "output_type": "execute_result"
    }
   ],
   "source": [
    "teacher_acct = df_cluster[['_donor_acctid', 'cluster_id', 'is_teacher_acct']].drop_duplicates()\n",
    "teacher_count = teacher_acct.groupby(['cluster_id','is_teacher_acct']).size()\n",
    "teacher_count = teacher_count.unstack('cluster_id')\n",
    "teacher_count.columns.name=None\n",
    "teacher_count.index = ['False', 'True']\n",
    "teacher_count = teacher_count.div(teacher_count.sum())\n",
    "#def cal_percent(row):\n",
    "    #return (row['t']/(row['f']+row['t']))\n",
    "\n",
    "#teacher_count['perc'] = teacher_count.apply(cal_percent, axis=1)\n",
    "\n",
    "teacher_count = teacher_count.transpose()\n",
    "teacher_count"
   ]
  },
  {
   "cell_type": "code",
   "execution_count": 272,
   "metadata": {
    "scrolled": false
   },
   "outputs": [
    {
     "data": {
      "text/plain": [
       "<matplotlib.axes._subplots.AxesSubplot at 0x201b6995780>"
      ]
     },
     "execution_count": 272,
     "metadata": {},
     "output_type": "execute_result"
    },
    {
     "data": {
      "image/png": "[encoded data removed]",
      "text/plain": [
       "<Figure size 576x288 with 1 Axes>"
      ]
     },
     "metadata": {},
     "output_type": "display_data"
    }
   ],
   "source": [
    "sns.set_style('white')\n",
    "fig, ax = plt.subplots(figsize=(8,4))\n",
    "teacher_count.plot(kind='bar', stacked=True, ax=ax, title='Teacher Accounts in Different Clusters')"
   ]
  },
  {
   "cell_type": "markdown",
   "metadata": {},
   "source": [
    "Cluster 2 has the highest percentage of teacher account as donors, while clusters 1, which consists mostly single-time donors, has the lowest fraction of teacher account. "
   ]
  },
  {
   "cell_type": "code",
   "execution_count": 278,
   "metadata": {},
   "outputs": [
    {
     "name": "stdout",
     "output_type": "stream",
     "text": [
      "On average, donors with a teacher account donated 5.73 times per person.\n"
     ]
    }
   ],
   "source": [
    "teachers = df_cluster[df_cluster['is_teacher_acct']==1]\n",
    "teacher_mean = teachers.groupby('_donor_acctid').size().mean()\n",
    "print('On average, donors with a teacher account donated', round(teacher_mean, 2), 'times per person.')"
   ]
  },
  {
   "cell_type": "markdown",
   "metadata": {},
   "source": [
    "#### DONATIONS vs. GRADE LEVEL"
   ]
  },
  {
   "cell_type": "code",
   "execution_count": 283,
   "metadata": {},
   "outputs": [
    {
     "data": {
      "text/html": [
       "<div>\n",
       "<style scoped>\n",
       "    .dataframe tbody tr th:only-of-type {\n",
       "        vertical-align: middle;\n",
       "    }\n",
       "\n",
       "    .dataframe tbody tr th {\n",
       "        vertical-align: top;\n",
       "    }\n",
       "\n",
       "    .dataframe thead th {\n",
       "        text-align: right;\n",
       "    }\n",
       "</style>\n",
       "<table border=\"1\" class=\"dataframe\">\n",
       "  <thead>\n",
       "    <tr style=\"text-align: right;\">\n",
       "      <th>cluster_id</th>\n",
       "      <th>0</th>\n",
       "      <th>1</th>\n",
       "      <th>2</th>\n",
       "    </tr>\n",
       "    <tr>\n",
       "      <th>grade_level</th>\n",
       "      <th></th>\n",
       "      <th></th>\n",
       "      <th></th>\n",
       "    </tr>\n",
       "  </thead>\n",
       "  <tbody>\n",
       "    <tr>\n",
       "      <th>Grades 3-5</th>\n",
       "      <td>238401</td>\n",
       "      <td>410362</td>\n",
       "      <td>813886</td>\n",
       "    </tr>\n",
       "    <tr>\n",
       "      <th>Grades 6-8</th>\n",
       "      <td>129694</td>\n",
       "      <td>230596</td>\n",
       "      <td>412394</td>\n",
       "    </tr>\n",
       "    <tr>\n",
       "      <th>Grades 9-12</th>\n",
       "      <td>105344</td>\n",
       "      <td>194655</td>\n",
       "      <td>334871</td>\n",
       "    </tr>\n",
       "    <tr>\n",
       "      <th>Grades PreK-2</th>\n",
       "      <td>286537</td>\n",
       "      <td>482564</td>\n",
       "      <td>979995</td>\n",
       "    </tr>\n",
       "  </tbody>\n",
       "</table>\n",
       "</div>"
      ],
      "text/plain": [
       "cluster_id          0       1       2\n",
       "grade_level                          \n",
       "Grades 3-5     238401  410362  813886\n",
       "Grades 6-8     129694  230596  412394\n",
       "Grades 9-12    105344  194655  334871\n",
       "Grades PreK-2  286537  482564  979995"
      ]
     },
     "execution_count": 283,
     "metadata": {},
     "output_type": "execute_result"
    }
   ],
   "source": [
    "df_grades = df_cluster.groupby(['grade_level', 'cluster_id']).size()\n",
    "df_grades = df_grades.unstack('cluster_id')\n",
    "df_grades"
   ]
  },
  {
   "cell_type": "code",
   "execution_count": 296,
   "metadata": {
    "scrolled": true
   },
   "outputs": [
    {
     "data": {
      "text/plain": [
       "Text(0, 0.5, '')"
      ]
     },
     "execution_count": 296,
     "metadata": {},
     "output_type": "execute_result"
    },
    {
     "data": {
      "image/png": "[encoded data removed]",
      "text/plain": [
       "<Figure size 936x288 with 3 Axes>"
      ]
     },
     "metadata": {},
     "output_type": "display_data"
    }
   ],
   "source": [
    "fig, (ax0, ax1, ax2) = plt.subplots(nrows=1, ncols=3, figsize=(13,4))\n",
    "df_grades[0].plot(kind='pie', ax=ax0,)\n",
    "ax0.set_title('Cluster 0')\n",
    "ax0.set_ylabel('')\n",
    "df_grades[1].plot(kind='pie', ax=ax1)\n",
    "ax1.set_title('Cluster 1')\n",
    "ax1.set_ylabel('')\n",
    "df_grades[2].plot(kind='pie', ax=ax2)\n",
    "ax2.set_title('Cluster 2')\n",
    "ax2.set_ylabel('')"
   ]
  },
  {
   "cell_type": "markdown",
   "metadata": {},
   "source": [
    "The 3 clusters share similar pattern when donating in different grade levels. "
   ]
  },
  {
   "cell_type": "markdown",
   "metadata": {},
   "source": [
    "#### DONATIONS vs. POVERTY LEVEL"
   ]
  },
  {
   "cell_type": "code",
   "execution_count": 298,
   "metadata": {
    "scrolled": true
   },
   "outputs": [
    {
     "data": {
      "text/html": [
       "<div>\n",
       "<style scoped>\n",
       "    .dataframe tbody tr th:only-of-type {\n",
       "        vertical-align: middle;\n",
       "    }\n",
       "\n",
       "    .dataframe tbody tr th {\n",
       "        vertical-align: top;\n",
       "    }\n",
       "\n",
       "    .dataframe thead th {\n",
       "        text-align: right;\n",
       "    }\n",
       "</style>\n",
       "<table border=\"1\" class=\"dataframe\">\n",
       "  <thead>\n",
       "    <tr style=\"text-align: right;\">\n",
       "      <th>cluster_id</th>\n",
       "      <th>0</th>\n",
       "      <th>1</th>\n",
       "      <th>2</th>\n",
       "    </tr>\n",
       "    <tr>\n",
       "      <th>poverty_level</th>\n",
       "      <th></th>\n",
       "      <th></th>\n",
       "      <th></th>\n",
       "    </tr>\n",
       "  </thead>\n",
       "  <tbody>\n",
       "    <tr>\n",
       "      <th>high poverty</th>\n",
       "      <td>184073</td>\n",
       "      <td>341105</td>\n",
       "      <td>632787</td>\n",
       "    </tr>\n",
       "    <tr>\n",
       "      <th>highest poverty</th>\n",
       "      <td>421560</td>\n",
       "      <td>695126</td>\n",
       "      <td>1500583</td>\n",
       "    </tr>\n",
       "    <tr>\n",
       "      <th>low poverty</th>\n",
       "      <td>26982</td>\n",
       "      <td>48351</td>\n",
       "      <td>61213</td>\n",
       "    </tr>\n",
       "    <tr>\n",
       "      <th>moderate poverty</th>\n",
       "      <td>127388</td>\n",
       "      <td>233654</td>\n",
       "      <td>346645</td>\n",
       "    </tr>\n",
       "  </tbody>\n",
       "</table>\n",
       "</div>"
      ],
      "text/plain": [
       "cluster_id             0       1        2\n",
       "poverty_level                            \n",
       "high poverty      184073  341105   632787\n",
       "highest poverty   421560  695126  1500583\n",
       "low poverty        26982   48351    61213\n",
       "moderate poverty  127388  233654   346645"
      ]
     },
     "execution_count": 298,
     "metadata": {},
     "output_type": "execute_result"
    }
   ],
   "source": [
    "poverty = df_cluster.groupby(['cluster_id', 'poverty_level']).size()\n",
    "poverty = poverty.unstack('cluster_id')\n",
    "poverty"
   ]
  },
  {
   "cell_type": "code",
   "execution_count": 300,
   "metadata": {},
   "outputs": [],
   "source": [
    "poverty = poverty.div(poverty.sum())"
   ]
  },
  {
   "cell_type": "code",
   "execution_count": 315,
   "metadata": {
    "scrolled": false
   },
   "outputs": [
    {
     "data": {
      "text/plain": [
       "Text(0.5, 0, 'Clusters')"
      ]
     },
     "execution_count": 315,
     "metadata": {},
     "output_type": "execute_result"
    },
    {
     "data": {
      "image/png": "[encoded data removed]",
      "text/plain": [
       "<Figure size 576x360 with 1 Axes>"
      ]
     },
     "metadata": {},
     "output_type": "display_data"
    }
   ],
   "source": [
    "fig, ax = plt.subplots(figsize=(8,5))\n",
    "poverty.T.plot(kind='bar', stacked=True, ax=ax)\n",
    "ax.legend(loc='center right', bbox_to_anchor=(1.3, 0.5))\n",
    "ax.set_xlabel('Clusters')"
   ]
  },
  {
   "cell_type": "markdown",
   "metadata": {},
   "source": [
    "As shown in the above graph, donors in cluster 2 made a slightly higher percentage of donations in the highest poverty category."
   ]
  },
  {
   "cell_type": "markdown",
   "metadata": {},
   "source": [
    "#### DONATIONS vs. PROJECT DONOR COUNT"
   ]
  },
  {
   "cell_type": "markdown",
   "metadata": {},
   "source": [
    "Since most of the projects have a number of donors below 50, we will filter out the projects with large number of donors for the analysis. "
   ]
  },
  {
   "cell_type": "code",
   "execution_count": 380,
   "metadata": {},
   "outputs": [],
   "source": [
    "df_most_donor = df_cluster[df_cluster['num_donors']<50]"
   ]
  },
  {
   "cell_type": "code",
   "execution_count": 381,
   "metadata": {},
   "outputs": [
    {
     "data": {
      "text/html": [
       "<div>\n",
       "<style scoped>\n",
       "    .dataframe tbody tr th:only-of-type {\n",
       "        vertical-align: middle;\n",
       "    }\n",
       "\n",
       "    .dataframe tbody tr th {\n",
       "        vertical-align: top;\n",
       "    }\n",
       "\n",
       "    .dataframe thead th {\n",
       "        text-align: right;\n",
       "    }\n",
       "</style>\n",
       "<table border=\"1\" class=\"dataframe\">\n",
       "  <thead>\n",
       "    <tr style=\"text-align: right;\">\n",
       "      <th>cluster_id</th>\n",
       "      <th>0</th>\n",
       "      <th>1</th>\n",
       "      <th>2</th>\n",
       "    </tr>\n",
       "    <tr>\n",
       "      <th>num_donors</th>\n",
       "      <th></th>\n",
       "      <th></th>\n",
       "      <th></th>\n",
       "    </tr>\n",
       "  </thead>\n",
       "  <tbody>\n",
       "    <tr>\n",
       "      <th>0</th>\n",
       "      <td>124</td>\n",
       "      <td>4</td>\n",
       "      <td>372</td>\n",
       "    </tr>\n",
       "    <tr>\n",
       "      <th>1</th>\n",
       "      <td>23669</td>\n",
       "      <td>18937</td>\n",
       "      <td>149933</td>\n",
       "    </tr>\n",
       "    <tr>\n",
       "      <th>2</th>\n",
       "      <td>38026</td>\n",
       "      <td>37505</td>\n",
       "      <td>224643</td>\n",
       "    </tr>\n",
       "    <tr>\n",
       "      <th>3</th>\n",
       "      <td>47085</td>\n",
       "      <td>54325</td>\n",
       "      <td>212750</td>\n",
       "    </tr>\n",
       "    <tr>\n",
       "      <th>4</th>\n",
       "      <td>52974</td>\n",
       "      <td>67807</td>\n",
       "      <td>201212</td>\n",
       "    </tr>\n",
       "  </tbody>\n",
       "</table>\n",
       "</div>"
      ],
      "text/plain": [
       "cluster_id      0      1       2\n",
       "num_donors                      \n",
       "0             124      4     372\n",
       "1           23669  18937  149933\n",
       "2           38026  37505  224643\n",
       "3           47085  54325  212750\n",
       "4           52974  67807  201212"
      ]
     },
     "execution_count": 381,
     "metadata": {},
     "output_type": "execute_result"
    }
   ],
   "source": [
    "ta = df_most_donor.groupby(['cluster_id','num_donors']).size().unstack('cluster_id')\n",
    "#ta['sum']=ta.sum(axis=1)\n",
    "ta.head()"
   ]
  },
  {
   "cell_type": "code",
   "execution_count": 382,
   "metadata": {
    "scrolled": false
   },
   "outputs": [
    {
     "data": {
      "text/plain": [
       "<matplotlib.axes._subplots.AxesSubplot at 0x201d2d3bac8>"
      ]
     },
     "execution_count": 382,
     "metadata": {},
     "output_type": "execute_result"
    },
    {
     "data": {
      "image/png": "[encoded data removed]",
      "text/plain": [
       "<Figure size 720x288 with 1 Axes>"
      ]
     },
     "metadata": {},
     "output_type": "display_data"
    }
   ],
   "source": [
    "ta.plot(kind='bar', stacked=True, figsize=(10,4))"
   ]
  },
  {
   "cell_type": "markdown",
   "metadata": {},
   "source": [
    "Projects with fewer donors (les than 10) received most of their fundings from cluster 2 donors. "
   ]
  },
  {
   "cell_type": "code",
   "execution_count": 389,
   "metadata": {
    "scrolled": true
   },
   "outputs": [
    {
     "data": {
      "text/html": [
       "<div>\n",
       "<style scoped>\n",
       "    .dataframe tbody tr th:only-of-type {\n",
       "        vertical-align: middle;\n",
       "    }\n",
       "\n",
       "    .dataframe tbody tr th {\n",
       "        vertical-align: top;\n",
       "    }\n",
       "\n",
       "    .dataframe thead th {\n",
       "        text-align: right;\n",
       "    }\n",
       "</style>\n",
       "<table border=\"1\" class=\"dataframe\">\n",
       "  <thead>\n",
       "    <tr style=\"text-align: right;\">\n",
       "      <th>primary_focus_area</th>\n",
       "      <th>Applied Learning</th>\n",
       "      <th>Health &amp; Sports</th>\n",
       "      <th>History &amp; Civics</th>\n",
       "      <th>Literacy &amp; Language</th>\n",
       "      <th>Math &amp; Science</th>\n",
       "      <th>Music &amp; The Arts</th>\n",
       "      <th>Special Needs</th>\n",
       "    </tr>\n",
       "    <tr>\n",
       "      <th>cluster_id</th>\n",
       "      <th></th>\n",
       "      <th></th>\n",
       "      <th></th>\n",
       "      <th></th>\n",
       "      <th></th>\n",
       "      <th></th>\n",
       "      <th></th>\n",
       "    </tr>\n",
       "  </thead>\n",
       "  <tbody>\n",
       "    <tr>\n",
       "      <th>0</th>\n",
       "      <td>47871</td>\n",
       "      <td>26751</td>\n",
       "      <td>31837</td>\n",
       "      <td>331709</td>\n",
       "      <td>193723</td>\n",
       "      <td>75610</td>\n",
       "      <td>52482</td>\n",
       "    </tr>\n",
       "    <tr>\n",
       "      <th>1</th>\n",
       "      <td>81019</td>\n",
       "      <td>49879</td>\n",
       "      <td>54093</td>\n",
       "      <td>571546</td>\n",
       "      <td>341889</td>\n",
       "      <td>125985</td>\n",
       "      <td>93781</td>\n",
       "    </tr>\n",
       "    <tr>\n",
       "      <th>2</th>\n",
       "      <td>169011</td>\n",
       "      <td>113149</td>\n",
       "      <td>110178</td>\n",
       "      <td>1045288</td>\n",
       "      <td>651638</td>\n",
       "      <td>282343</td>\n",
       "      <td>169520</td>\n",
       "    </tr>\n",
       "  </tbody>\n",
       "</table>\n",
       "</div>"
      ],
      "text/plain": [
       "primary_focus_area  Applied Learning  Health & Sports  History & Civics  \\\n",
       "cluster_id                                                                \n",
       "0                              47871            26751             31837   \n",
       "1                              81019            49879             54093   \n",
       "2                             169011           113149            110178   \n",
       "\n",
       "primary_focus_area  Literacy & Language  Math & Science  Music & The Arts  \\\n",
       "cluster_id                                                                  \n",
       "0                                331709          193723             75610   \n",
       "1                                571546          341889            125985   \n",
       "2                               1045288          651638            282343   \n",
       "\n",
       "primary_focus_area  Special Needs  \n",
       "cluster_id                         \n",
       "0                           52482  \n",
       "1                           93781  \n",
       "2                          169520  "
      ]
     },
     "execution_count": 389,
     "metadata": {},
     "output_type": "execute_result"
    }
   ],
   "source": [
    "subject = df_cluster.groupby(['cluster_id', 'primary_focus_area']).size()#.set_index('thank_you_packet_mailed')\n",
    "subject = subject.unstack('primary_focus_area')\n",
    "subject"
   ]
  },
  {
   "cell_type": "code",
   "execution_count": 390,
   "metadata": {},
   "outputs": [
    {
     "data": {
      "text/html": [
       "<div>\n",
       "<style scoped>\n",
       "    .dataframe tbody tr th:only-of-type {\n",
       "        vertical-align: middle;\n",
       "    }\n",
       "\n",
       "    .dataframe tbody tr th {\n",
       "        vertical-align: top;\n",
       "    }\n",
       "\n",
       "    .dataframe thead th {\n",
       "        text-align: right;\n",
       "    }\n",
       "</style>\n",
       "<table border=\"1\" class=\"dataframe\">\n",
       "  <thead>\n",
       "    <tr style=\"text-align: right;\">\n",
       "      <th>primary_focus_area</th>\n",
       "      <th>Applied Learning</th>\n",
       "      <th>Health &amp; Sports</th>\n",
       "      <th>History &amp; Civics</th>\n",
       "      <th>Literacy &amp; Language</th>\n",
       "      <th>Math &amp; Science</th>\n",
       "      <th>Music &amp; The Arts</th>\n",
       "      <th>Special Needs</th>\n",
       "    </tr>\n",
       "    <tr>\n",
       "      <th>cluster_id</th>\n",
       "      <th></th>\n",
       "      <th></th>\n",
       "      <th></th>\n",
       "      <th></th>\n",
       "      <th></th>\n",
       "      <th></th>\n",
       "      <th></th>\n",
       "    </tr>\n",
       "  </thead>\n",
       "  <tbody>\n",
       "    <tr>\n",
       "      <th>0</th>\n",
       "      <td>0.160694</td>\n",
       "      <td>0.140959</td>\n",
       "      <td>0.162344</td>\n",
       "      <td>0.170234</td>\n",
       "      <td>0.163170</td>\n",
       "      <td>0.156239</td>\n",
       "      <td>0.166196</td>\n",
       "    </tr>\n",
       "    <tr>\n",
       "      <th>1</th>\n",
       "      <td>0.271966</td>\n",
       "      <td>0.262827</td>\n",
       "      <td>0.275833</td>\n",
       "      <td>0.293320</td>\n",
       "      <td>0.287967</td>\n",
       "      <td>0.260333</td>\n",
       "      <td>0.296979</td>\n",
       "    </tr>\n",
       "    <tr>\n",
       "      <th>2</th>\n",
       "      <td>0.567339</td>\n",
       "      <td>0.596215</td>\n",
       "      <td>0.561823</td>\n",
       "      <td>0.536446</td>\n",
       "      <td>0.548863</td>\n",
       "      <td>0.583428</td>\n",
       "      <td>0.536824</td>\n",
       "    </tr>\n",
       "  </tbody>\n",
       "</table>\n",
       "</div>"
      ],
      "text/plain": [
       "primary_focus_area  Applied Learning  Health & Sports  History & Civics  \\\n",
       "cluster_id                                                                \n",
       "0                           0.160694         0.140959          0.162344   \n",
       "1                           0.271966         0.262827          0.275833   \n",
       "2                           0.567339         0.596215          0.561823   \n",
       "\n",
       "primary_focus_area  Literacy & Language  Math & Science  Music & The Arts  \\\n",
       "cluster_id                                                                  \n",
       "0                              0.170234        0.163170          0.156239   \n",
       "1                              0.293320        0.287967          0.260333   \n",
       "2                              0.536446        0.548863          0.583428   \n",
       "\n",
       "primary_focus_area  Special Needs  \n",
       "cluster_id                         \n",
       "0                        0.166196  \n",
       "1                        0.296979  \n",
       "2                        0.536824  "
      ]
     },
     "execution_count": 390,
     "metadata": {},
     "output_type": "execute_result"
    }
   ],
   "source": [
    "subject = subject.div(subject.sum())\n",
    "subject"
   ]
  },
  {
   "cell_type": "code",
   "execution_count": 392,
   "metadata": {},
   "outputs": [
    {
     "data": {
      "text/plain": [
       "Text(0.5, 0, '')"
      ]
     },
     "execution_count": 392,
     "metadata": {},
     "output_type": "execute_result"
    },
    {
     "data": {
      "image/png": "[encoded data removed]",
      "text/plain": [
       "<Figure size 1080x288 with 1 Axes>"
      ]
     },
     "metadata": {},
     "output_type": "display_data"
    }
   ],
   "source": [
    "fig, ax = plt.subplots(figsize=(15,4))\n",
    "subject.T.plot(kind='bar', ax=ax, stacked=True)\n",
    "ax.set_xlabel('')"
   ]
  },
  {
   "cell_type": "markdown",
   "metadata": {},
   "source": [
    "Donors from all 3 clusters are indifferent in choosing the project subject. Each subject has a similar proportion of donors from each clusters."
   ]
  },
  {
   "cell_type": "markdown",
   "metadata": {},
   "source": [
    "#### CONCLUSIONS FROM CLUSTERING"
   ]
  },
  {
   "cell_type": "markdown",
   "metadata": {},
   "source": [
    "* The donors are clustered into 3 groups.\n",
    "* Group 1 has the largest number of donors and Group 2 has the least number of donors.\n",
    "* Even though Group 2 has the least number of donors, they contributed to the largest percentage of total number of donations.\n",
    "* Group 1 are all single-time donors and Group 2 consists of many frequent donors.\n",
    "* All the groups have a median donation of `$`25 dollars, while donors in Group 2 have the highest average donation amount. For all the donations exceeding `$`10,000, most of them are from Group 2 donors.\n",
    "* Geographically, donors in all 3 groups scatter across US. There is no obvious pattern observed in terms of locations.\n",
    "* New York has the largest proportions of donations from Group 2 compared to other states.\n",
    "* Group 2 received the most percentage of thank you letters amongst all three groups. We also observed a slight positive correlation between number of thank you letters received and number of total donations.\n",
    "* Cluster 2 has the highest percentage of teacher account as donors, while clusters 1, which consists mostly single-time donors, has the lowest fraction of teacher account. \n",
    "* Donors in Group 2 made a slightly higher percentage of donations in the highest poverty category.\n",
    "* All 3 clusters exhibit similar donation behavior in terms of choosing projects from different grade levels, poverty levels, and project subject. "
   ]
  },
  {
   "cell_type": "code",
   "execution_count": null,
   "metadata": {},
   "outputs": [],
   "source": []
  }
 ],
 "metadata": {
  "kernelspec": {
   "display_name": "Python 3",
   "language": "python",
   "name": "python3"
  },
  "language_info": {
   "codemirror_mode": {
    "name": "ipython",
    "version": 3
   },
   "file_extension": ".py",
   "mimetype": "text/x-python",
   "name": "python",
   "nbconvert_exporter": "python",
   "pygments_lexer": "ipython3",
   "version": "3.5.6"
  }
 },
 "nbformat": 4,
 "nbformat_minor": 2
}
